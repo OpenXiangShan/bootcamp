{
 "cells": [
  {
   "cell_type": "markdown",
   "id": "bfd7c818",
   "metadata": {},
   "source": [
    "# 敏捷性能验证\n",
    "\n",
    "**MinJie Performance Verification**\n",
    "\n",
    "除了 02-functional 介绍的功能验证以外，性能验证和调优也是处理器设计的一个重要环节。\n",
    "\n",
    "Apart from the functional verification introduced in 02-functional, performance verification and optimization are also crucial parts of processor development.\n",
    "\n",
    "在本章中，我们将介绍 XiangShan 团队使用的敏捷性能验证方法并提供演示。\n",
    "\n",
    "In this chapter, we will introduce the MinJie performance verification approach used by the XiangShan team and provide a demonstration.\n",
    "\n",
    "与功能验证相似，我们将性能验证和调优的过程总结成一个循环，并在接下来的各节中详细介绍每个步骤。\n",
    "\n",
    "Similar to functional verification, we summarize the performance verification and optimization process as an iterative cycle, which will be detailed in the following sections.\n",
    "\n",
    "![MinJie Cycle](../images/03-performance/00-intro/overview-en.png)\n"
   ]
  }
 ],
 "metadata": {
  "kernelspec": {
   "display_name": "Python 3",
   "language": "python",
   "name": "python3"
  },
  "language_info": {
   "name": "python",
   "version": "3.12.3"
  }
 },
 "nbformat": 4,
 "nbformat_minor": 5
}
