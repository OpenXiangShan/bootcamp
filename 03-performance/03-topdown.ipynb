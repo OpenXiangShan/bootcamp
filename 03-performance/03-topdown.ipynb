{
 "cells": [
  {
   "cell_type": "markdown",
   "id": "bdd8038c",
   "metadata": {},
   "source": [
    "# Top-Down[^1]\n",
    "\n",
    "[1]: Yasin A. A top-down method for performance analysis and counters architecture[C]//2014 IEEE International Symposium on Performance Analysis of Systems and Software (ISPASS). IEEE, 2014: 35-44."
   ]
  },
  {
   "cell_type": "markdown",
   "id": "28b156f2",
   "metadata": {},
   "source": [
    "Top-Down 是一种常见的性能分析手段，它将碎片化的性能事件组织成层次化的形式，以便更准确地分析单个性能事件对处理器整体性能的影响。\n",
    "\n",
    "Top-Down is a common performance analysis method that organizes fragmented performance events into a hierarchical form to more accurately analyze the impact of individual performance events on overall processor performance.\n",
    "\n",
    "基于 02-xsperf 一节中介绍的 XSPerfAccumulate，我们在 RTL 中实现了一套针对 XiangShan 微架构和 RISC-V 指令集优化的 Top-Down 计数器，帮助我们对 XiangShan 微架构更好的建模，并与 XS-GEM5 进行对齐。\n",
    "\n",
    "Based on the XSPerfAccumulate introduced in the 02-xsperf section, we have implemented a set of Top-Down counters optimized for the XiangShan microarchitecture and RISC-V instruction set in RTL to help us better model the XiangShan microarchitecture and align it with XS-GEM5.\n",
    "\n",
    "![Example](../images/03-performance/03-topdown/example-en.png)\n",
    "\n",
    "在 `${NOOP_HOME}/scripts/top-down` 目录下，我们还实现了一些分析脚本，您可以运行它们实现 Top-Down 结果提取、画图等功能。\n",
    "\n",
    "In the `${NOOP_HOME}/scripts/top-down` directory, we have also implemented some analysis scripts that you can run to extract Top-Down results, plot graphs, etc..\n",
    "\n",
    "⚠️注意：如果您正在 tutorial 的演示服务器上阅读此 notebook，请不要运行分析脚本，这会进行很大量的磁盘访问。\n",
    "\n",
    "⚠️Note: If you are reading this notebook on the tutorial demo server, please do not run the analysis scripts as they will perform a large amount of disk access."
   ]
  },
  {
   "cell_type": "code",
   "execution_count": null,
   "id": "49d48210",
   "metadata": {},
   "outputs": [],
   "source": [
    "%%bash\n",
    "cd .. && source env.sh\n",
    "\n",
    "mkdir -p ${WORK_DIR}/03-performance/03-topdown\n",
    "cd ${WORK_DIR}/03-performance/03-topdown\n",
    "\n",
    "# run analysis script\n",
    "#python3 ${NOOP_HOME}/scripts/top-down/top_down.py \\\n",
    "#    -s $(get_asset emu-spec-topdown-result/SPEC06_EmuTasks_topdown) \\\n",
    "#    -j $(get_asset emu-spec-topdown-result/SPEC06_EmuTasks_topdown.json)\n",
    "\n",
    "# for tutorial: copy analysis results\n",
    "cp -r $(get_asset emu-spec-topdown-result/results) ./\n",
    "\n",
    "echo === results ===\n",
    "ls ./results\n",
    "\n",
    "echo === first 10 lines of results.csv ===\n",
    "head -n 10 ./results/results.csv\n",
    "\n",
    "echo === first 10 lines of results-weighted.csv ===\n",
    "head -n 10 ./results/results-weighted.csv"
   ]
  },
  {
   "cell_type": "markdown",
   "id": "4e9a2d1a",
   "metadata": {},
   "source": [
    "![perf](../work/03-performance/03-topdown/results/result.png)\n",
    "\n",
    "如果图片没有正确加载，您可以尝试关闭 notebook，然后重新打开。\n",
    "\n",
    "If the image does not load correctly, you can try closing the notebook and reopening it."
   ]
  }
 ],
 "metadata": {
  "kernelspec": {
   "display_name": "Python 3",
   "language": "python",
   "name": "python3"
  },
  "language_info": {
   "codemirror_mode": {
    "name": "ipython",
    "version": 3
   },
   "file_extension": ".py",
   "mimetype": "text/x-python",
   "name": "python",
   "nbconvert_exporter": "python",
   "pygments_lexer": "ipython3",
   "version": "3.12.3"
  }
 },
 "nbformat": 4,
 "nbformat_minor": 5
}
