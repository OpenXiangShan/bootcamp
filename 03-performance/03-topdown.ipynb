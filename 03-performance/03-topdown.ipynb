{
 "cells": [
  {
   "cell_type": "markdown",
   "id": "bdd8038c",
   "metadata": {},
   "source": [
    "# Topdown\n",
    "\n",
    "香山在 RTL 上实现了完善的 Topdown 计数器，并针对 RISC-V 和香山微架构进行了优化\n",
    "\n",
    "Topdown 计数器的结果在仿真结束后会输出到 stderr。您可以使用我们准备好的脚本对香山的 Topdown 结果进行分析\n",
    "\n",
    "由于 SPEC2006 的切片数量非常多，且性能相关的数据量很大，以下脚本会涉及大量文件读写，因此我们不在现场执行这些分析脚本"
   ]
  },
  {
   "cell_type": "code",
   "execution_count": null,
   "id": "49d48210",
   "metadata": {},
   "outputs": [],
   "source": [
    "%%bash\n",
    "cd .. && source env.sh\n",
    "\n",
    "# 请不要执行以下命令！\n",
    "# cd ${NOOP_HOME}/scripts/top-down\n",
    "# python3 top_down.py \n",
    "#     -s $(get_asset emu-spec-topdown-result/SPEC06_EmuTasks_topdown) \n",
    "#     -j $(get_asset emu-spec-topdown-result/SPEC06_EmuTasks_topdown.json)\n",
    "# ls ${NOOP_HOME}/scripts/top-down/results"
   ]
  }
 ],
 "metadata": {
  "kernelspec": {
   "display_name": "Python 3",
   "language": "python",
   "name": "python3"
  },
  "language_info": {
   "codemirror_mode": {
    "name": "ipython",
    "version": 3
   },
   "file_extension": ".py",
   "mimetype": "text/x-python",
   "name": "python",
   "nbconvert_exporter": "python",
   "pygments_lexer": "ipython3",
   "version": "3.12.3"
  }
 },
 "nbformat": 4,
 "nbformat_minor": 5
}
