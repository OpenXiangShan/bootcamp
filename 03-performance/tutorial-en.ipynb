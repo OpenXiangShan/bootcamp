{
 "cells": [
  {
   "cell_type": "markdown",
   "id": "61290e7f-70e6-4294-88a9-6b90be6ac106",
   "metadata": {
    "editable": true,
    "slideshow": {
     "slide_type": "slide"
    },
    "tags": []
   },
   "source": [
    "![MinJie Cycle](../images/03-performance/00-intro/overview-en.png)"
   ]
  },
  {
   "cell_type": "markdown",
   "id": "7541fae3-173e-4503-9cb8-be964754e149",
   "metadata": {
    "editable": true,
    "slideshow": {
     "slide_type": "notes"
    },
    "tags": []
   },
   "source": [
    "Apart from the functional verification introduced before. Performance verification and optimization are also crucial parts of processor development.\n",
    "\n",
    "So in this chapter, we will introduce the MinJie (or agile) performance verification approaches used by our team and provide some demonstration.\n",
    "\n",
    "Similar to functional verification, we also summarize the performance verification process as an iterative cycle, as shown in this picture:\n",
    "\n",
    "We do RTL implementation and we run tests and do performance evaluation and performance analysis.\n",
    "\n",
    "In these steps, RTL implementation and running tests are naive, so we won't detail them in this tutorial.\n",
    "\n",
    "Next, I will introduce powerful tools we use in performance evaluation and performance analysis, and how can we speed up the optimization process. We have SimPoint, XSPerf, top-down and constantin."
   ]
  },
  {
   "cell_type": "markdown",
   "id": "9f88d562-2352-4d04-a1e9-4fab20c139b8",
   "metadata": {
    "editable": true,
    "slideshow": {
     "slide_type": "slide"
    },
    "tags": []
   },
   "source": [
    "![intro](../images/03-performance/01-checkpoint/intro-en.png)"
   ]
  },
  {
   "cell_type": "markdown",
   "id": "dece0e4f-548a-487f-98b9-41dd93d4582b",
   "metadata": {
    "editable": false,
    "slideshow": {
     "slide_type": "notes"
    },
    "tags": []
   },
   "source": [
    "Let's start with checkpoint. Here's the story:\n",
    "\n",
    "To evaluate performance, we usually run benchmark suites via simulation (i.e. software simulation using verilator, hardware-accelerated simulation using FPGA/emulator).\n",
    "\n",
    "However, existing approaches each have their own challenges:\n",
    "- Software simulation is too slow. For a complex design like XiangShan, it can only run at a few KHz, so it takes too long to run a benchmark;\n",
    "- FPGA has limited on-chip resources, making it difficult to use for complex designs like XiangShan;\n",
    "- Emulators are too expensive for us, and, probably for most academia.\n",
    "\n",
    "We have seen some works trying to accelerate software simulation or improve FPGA usability.\n",
    "\n",
    "These are great jobs, but, we think there's a much simpler way: Checkpointing."
   ]
  },
  {
   "cell_type": "markdown",
   "id": "139b7546-6b50-4eac-a665-5e3c9b3352ff",
   "metadata": {
    "editable": true,
    "slideshow": {
     "slide_type": "subslide"
    },
    "tags": []
   },
   "source": [
    "![method](../images/03-performance/01-checkpoint/method-en.png)"
   ]
  },
  {
   "cell_type": "markdown",
   "id": "14faf58e-df65-4f3d-9b1e-54f7d1ddd12c",
   "metadata": {
    "editable": true,
    "slideshow": {
     "slide_type": "notes"
    },
    "tags": []
   },
   "source": [
    "Checkpointing simply means selecting some segments of a program's execution, saving the architectural state (i.e. registers and memory) at the beginning of these segments. Later when we wants to do performance evaluation, we can simply load the saved state and start simulation there.\n",
    "\n",
    "This brings 2 main benefits:\n",
    "\n",
    "1. This reduces the number of instructions that need to be simulated. We're not running the entire program from the start, but only some segments of it.\n",
    "2. Different segments from the same program can be simulated in parallel, thus increasing simulation parallelism.\n",
    "\n",
    "By taking a weighted average of the performance data collected from each segment, we can estimate the overall performance.\n",
    "\n",
    "This slide shows 2 common methods for selecting segments:\n",
    "1. Uniform sampling, i.e., selecting a segment every fixed number of instructions;\n",
    "2. SimPoint sampling, i.e., selecting segments that can represent the overall behavior of the program by profiling.\n",
    "\n",
    "Next, we will demonstrate how SimPoint profiles a program, generates checkpoints, and runs simulations using checkpoints."
   ]
  },
  {
   "cell_type": "markdown",
   "id": "496aa10e-bc80-4d02-8f51-9a984c7437ce",
   "metadata": {
    "editable": true,
    "slideshow": {
     "slide_type": "subslide"
    },
    "tags": []
   },
   "source": [
    "This section will use some paths and constants different from `../env.sh`. For convenience, we have created a `01-env.sh`. In this section, we will use this script to set environment variables. You can run the following cell to view these environment variables."
   ]
  },
  {
   "cell_type": "code",
   "execution_count": null,
   "id": "975cfeac-e2fb-43a9-80a3-937df1c7954c",
   "metadata": {
    "editable": true,
    "slideshow": {
     "slide_type": ""
    },
    "tags": []
   },
   "outputs": [],
   "source": [
    "%%bash\n",
    "source 01-env.sh\n",
    "\n",
    "env | grep WORKLOAD= # workload to be simulated / profiled / checkpointed\n",
    "env | grep CHECKPOINT_INTERVAL=\n",
    "env | grep NEMU=\n",
    "env | grep _HOME | tail\n",
    "env | grep _PATH | tail"
   ]
  },
  {
   "cell_type": "markdown",
   "id": "2a7fb71d-5b65-42ca-9c24-65ab6a2993f2",
   "metadata": {
    "editable": true,
    "slideshow": {
     "slide_type": "subslide"
    },
    "tags": []
   },
   "source": [
    "The first step to perform checkpointing is to compile SimPoint tool and NEMU (in checkpoint mode), and generate a checkpoint restorer."
   ]
  },
  {
   "cell_type": "code",
   "execution_count": null,
   "id": "d0efa09d-0d8d-46a9-a6ea-f5c2b9bfee08",
   "metadata": {
    "editable": true,
    "scrolled": true,
    "slideshow": {
     "slide_type": ""
    },
    "tags": []
   },
   "outputs": [],
   "source": [
    "%%bash\n",
    "source 01-env.sh\n",
    "\n",
    "cd ${NEMU_HOME}\n",
    "git submodule update --init\n",
    "\n",
    "# Compile simpoint generator\n",
    "cd ${NEMU_HOME}/resource/simpoint/simpoint_repo\n",
    "make clean\n",
    "make\n",
    "\n",
    "# Compile NEMU in checkpoint mode\n",
    "cd ${NEMU_HOME}\n",
    "make clean\n",
    "make riscv64-xs-cpt_defconfig\n",
    "make -j8\n",
    "\n",
    "# Generate checkpoint restorer for ${WORKLOAD}\n",
    "cd ${NEMU_HOME}/resource/gcpt_restore\n",
    "rm -rf ${GCPT_PATH}\n",
    "make -C ${NEMU_HOME}/resource/gcpt_restore/ \\\n",
    "    O=${GCPT_PATH} \\\n",
    "    GCPT_PAYLOAD_PATH=$(get_asset workload/${WORKLOAD}.bin) \\\n",
    "    CROSS_COMPILE=riscv64-linux-gnu-"
   ]
  },
  {
   "cell_type": "markdown",
   "id": "51a4b71a",
   "metadata": {
    "editable": true,
    "slideshow": {
     "slide_type": "notes"
    },
    "tags": []
   },
   "source": [
    "(run)\n",
    "\n",
    "SimPoint is used to select representative segments.\n",
    "\n",
    "NEMU is used to profile program and generate checkpoints.\n",
    "\n",
    "The restorer acts like a bootloader, which loads the saved memory from simulated flash to main memory, and recovers registers."
   ]
  },
  {
   "cell_type": "markdown",
   "id": "7273712d-7b35-43b8-ab81-311ffbd6a8ea",
   "metadata": {
    "editable": true,
    "slideshow": {
     "slide_type": "subslide"
    },
    "tags": []
   },
   "source": [
    "Next, we need to run the program to be checkpointed using NEMU to collect program behavior for profiling."
   ]
  },
  {
   "cell_type": "code",
   "execution_count": null,
   "id": "cbbd71e7-439e-49be-814b-b8a162cec4ce",
   "metadata": {
    "editable": true,
    "scrolled": true,
    "slideshow": {
     "slide_type": ""
    },
    "tags": []
   },
   "outputs": [],
   "source": [
    "%%bash\n",
    "source 01-env.sh\n",
    "\n",
    "rm -rf ${RESULT_PATH}\n",
    "\n",
    "_LOG_PATH=${LOG_PATH}/profiling\n",
    "mkdir -p ${_LOG_PATH}\n",
    "\n",
    "${NEMU} ${GCPT} \\\n",
    "    -w ${WORKLOAD} \\\n",
    "    -D ${RESULT_PATH} \\\n",
    "    -C profiling \\\n",
    "    -b \\\n",
    "    --simpoint-profile \\\n",
    "    --cpt-interval ${CHECKPOINT_INTERVAL} \\\n",
    "    > >(tee ${_LOG_PATH}/${WORKLOAD}-out.txt) 2> >(tee ${_LOG_PATH}/${WORKLOAD}-err.txt)"
   ]
  },
  {
   "cell_type": "markdown",
   "id": "5c585718-5564-4e96-abb3-396f02288a28",
   "metadata": {
    "editable": true,
    "slideshow": {
     "slide_type": "subslide"
    },
    "tags": []
   },
   "source": [
    "Then, use SimPoint to perform clustering analysis on the collected program behavior, selecting segments."
   ]
  },
  {
   "cell_type": "code",
   "execution_count": null,
   "id": "de090c10-1eed-407d-97af-b2222a8d0e53",
   "metadata": {
    "editable": true,
    "scrolled": true,
    "slideshow": {
     "slide_type": ""
    },
    "tags": []
   },
   "outputs": [],
   "source": [
    "%%bash\n",
    "source 01-env.sh\n",
    "\n",
    "CLUSTER=${RESULT_PATH}/cluster/${WORKLOAD}\n",
    "mkdir -p ${CLUSTER}\n",
    "\n",
    "random1=`head -20 /dev/urandom | cksum | cut -c 1-6`\n",
    "random2=`head -20 /dev/urandom | cksum | cut -c 1-6`\n",
    "\n",
    "_LOG_PATH=${LOG_PATH}/cluster\n",
    "mkdir -p ${_LOG_PATH}\n",
    "\n",
    "${SIMPOINT} \\\n",
    "    -loadFVFile ${PROFILING_RESULT_PATH}/${WORKLOAD}/simpoint_bbv.gz \\\n",
    "    -saveSimpoints ${CLUSTER}/simpoints0 \\\n",
    "    -saveSimpointWeights ${CLUSTER}/weights0 \\\n",
    "    -inputVectorsGzipped \\\n",
    "    -maxK 3 \\\n",
    "    -numInitSeeds 2 \\\n",
    "    -iters 1000 \\\n",
    "    -seedkm ${random1} \\\n",
    "    -seedproj ${random2} \\\n",
    "    > >(tee ${_LOG_PATH}/${WORKLOAD}-out.txt) 2> >(tee ${_LOG_PATH}/${WORKLOAD}-err.txt) "
   ]
  },
  {
   "cell_type": "markdown",
   "id": "98ac78d1-2bf9-4826-8e66-c5aecbeacb01",
   "metadata": {
    "editable": true,
    "slideshow": {
     "slide_type": "subslide"
    },
    "tags": []
   },
   "source": [
    "Finally, use NEMU to rerun the program that needs to be checkpointed to generate checkpoint files."
   ]
  },
  {
   "cell_type": "code",
   "execution_count": null,
   "id": "5a5e5b99-86b2-4979-b425-7350f81044c2",
   "metadata": {
    "editable": true,
    "scrolled": true,
    "slideshow": {
     "slide_type": ""
    },
    "tags": []
   },
   "outputs": [],
   "source": [
    "%%bash\n",
    "source 01-env.sh\n",
    "\n",
    "CLUSTER=${RESULT_PATH}/cluster\n",
    "_LOG_PATH=${LOG_PATH}/checkpoint\n",
    "mkdir -p ${_LOG_PATH}\n",
    "\n",
    "${NEMU} ${GCPT} \\\n",
    "    -w ${WORKLOAD} \\\n",
    "    -D ${RESULT_PATH} \\\n",
    "    -C checkpoint \\\n",
    "    -b \\\n",
    "    -S ${CLUSTER} \\\n",
    "    --cpt-interval ${CHECKPOINT_INTERVAL} \\\n",
    "    > >(tee ${_LOG_PATH}/${WORKLOAD}-out.txt) 2> >(tee ${_LOG_PATH}/${WORKLOAD}-err.txt)\n"
   ]
  },
  {
   "cell_type": "markdown",
   "id": "c080be2a-d40a-4235-b97b-c4dcf03a7b2f",
   "metadata": {
    "editable": true,
    "slideshow": {
     "slide_type": "subslide"
    },
    "tags": []
   },
   "source": [
    "Go to the directory `${RESULT_PATH}/checkpoints`, you can see the generated checkpoint files, a total of cluster number of `.gz` files, with the weight of the checkpoint indicated in the file name."
   ]
  },
  {
   "cell_type": "code",
   "execution_count": null,
   "id": "69c1b7b7-b171-49b6-903e-d12f49c05f43",
   "metadata": {
    "editable": true,
    "scrolled": true,
    "slideshow": {
     "slide_type": ""
    },
    "tags": []
   },
   "outputs": [],
   "source": [
    "%%bash\n",
    "source 01-env.sh\n",
    "\n",
    "ls ${RESULT_PATH}/checkpoints"
   ]
  },
  {
   "cell_type": "markdown",
   "id": "e2e33f60-8d84-4366-be5b-585d93119492",
   "metadata": {
    "editable": true,
    "slideshow": {
     "slide_type": "subslide"
    },
    "tags": []
   },
   "source": [
    "We can use emu to run one of the generated checkpoints and see the effect."
   ]
  },
  {
   "cell_type": "code",
   "execution_count": null,
   "id": "1e56e048-cb5c-47e0-8f50-f31d255ad913",
   "metadata": {
    "editable": true,
    "scrolled": true,
    "slideshow": {
     "slide_type": ""
    },
    "tags": []
   },
   "outputs": [],
   "source": [
    "%%bash\n",
    "source 01-env.sh\n",
    "\n",
    "CHECKPOINT=$(find ${RESULT_PATH}/checkpoint/${WORKLOAD} -type f -name \"*_.gz\" | tail -1)\n",
    "\n",
    "$(get_asset emu-precompile/emu) \\\n",
    "    -i ${CHECKPOINT} \\\n",
    "    --diff $(get_asset emu-precompile/riscv64-nemu-interpreter-so) \\\n",
    "    --max-cycles=50000 \\\n",
    "    2>/dev/null\n"
   ]
  },
  {
   "cell_type": "markdown",
   "id": "ada6b2b4-1173-47b6-9d96-42864e0bb5ab",
   "metadata": {
    "editable": true,
    "slideshow": {
     "slide_type": "notes"
    },
    "tags": []
   },
   "source": [
    "When emu detects that the file is a gzip-compressed checkpoint, it will automatically decompress it and restore the memory state and architectural state from the checkpoint."
   ]
  },
  {
   "cell_type": "markdown",
   "id": "c1ef2513-4288-423f-9756-0ed979bf61e7",
   "metadata": {
    "editable": true,
    "slideshow": {
     "slide_type": "slide"
    },
    "tags": []
   },
   "source": [
    "# Performance counter in XiangShan\n",
    "\n",
    "Purpose: Collect performance events for analysis and tuning\n",
    "\n",
    "XSPerf:\n",
    "- Accumulate:\n",
    "  ```c\n",
    "  if (valid)\n",
    "    counter += diff;\n",
    "  ```\n",
    "- Histogram:\n",
    "  ```c\n",
    "  if (valid)\n",
    "    distribution[value / step] += 1;\n",
    "  ```\n",
    "- Rolling:\n",
    "  ```c\n",
    "  if (valid)\n",
    "    counters[segment] += diff;\n",
    "  if (cycles++ == segment_size) {\n",
    "    cycles = 0;\n",
    "    segment++;\n",
    "  }\n",
    "  ```"
   ]
  },
  {
   "cell_type": "markdown",
   "id": "8ff00cea-3532-4013-a70f-e696565407ad",
   "metadata": {
    "editable": true,
    "slideshow": {
     "slide_type": "notes"
    },
    "tags": []
   },
   "source": [
    "While running benchmarks, we need to collect and record hardware behavior (performance events) for analysis and tuning. \n",
    "\n",
    "In XiangShan RTL, we have implements three types of performance counters, the pesudo code are shown here:\n",
    "\n",
    "- Accumulate: Basic counter that accumulates whenever a performance event occurs;\n",
    "- Histogram: Records the distribution of values when performance events occur;\n",
    "- Rolling: Works like a segmented Accumulate-type counter, it tracks the changes in the number of performance events in each segment throughout the entire run."
   ]
  },
  {
   "cell_type": "markdown",
   "id": "71ad28c0-dfb3-440a-9dfb-e8d3c04a5b3d",
   "metadata": {
    "editable": true,
    "slideshow": {
     "slide_type": "subslide"
    },
    "tags": []
   },
   "source": [
    "## Accumulate & Histogram\n",
    "\n",
    "These two types of performance counters are printed to stderr when the simulation ends. \n",
    "\n",
    "Example (Accumulate): the total number of instructions committed\n",
    "\n",
    "```scala\n",
    "def ifCommitReg(counter: UInt): UInt = Mux(isCommitReg, counter, 0.U)\n",
    "XSPerfAccumulate(\"commitInstr\", ifCommitReg(trueCommitCnt), XSPerfLevel.CRITICAL)\n",
    "```\n",
    "\n",
    "Example (Histogram): the distribution of L2 Cache acquire latency\n",
    "\n",
    "```scala\n",
    "XSPerfHistogram(\"acquire_period\", acquire_period, acquire_period_en, 0, 30, 1, true, true)\n",
    "XSPerfHistogram(\"acquire_period\", acquire_period, acquire_period_en, 30, 100, 5, true, true)\n",
    "XSPerfHistogram(\"acquire_period\", acquire_period, acquire_period_en, 100, 200, 10, true, true)\n",
    "\n",
    "```"
   ]
  },
  {
   "cell_type": "code",
   "execution_count": null,
   "id": "660f65a1-079a-4d75-80c6-0781ad514831",
   "metadata": {
    "editable": true,
    "scrolled": true,
    "slideshow": {
     "slide_type": "subslide"
    },
    "tags": []
   },
   "outputs": [],
   "source": [
    "%%bash\n",
    "cd .. && source env.sh\n",
    "cd ${NOOP_HOME}\n",
    "\n",
    "$(get_asset emu-precompile/emu) \\\n",
    "    -i $(get_asset workload/hello-riscv64-xs.bin) \\\n",
    "    --no-diff 2>stderr.log | tail\n",
    "\n",
    "echo \"=== Last 10 lines:\"\n",
    "tail -n 10 stderr.log\n",
    "\n",
    "echo \"=== Example of XSPerfAccumulate: rob commitInstr\"\n",
    "grep -n \"rob: commitInstr,\" stderr.log | tail\n",
    "\n",
    "echo \"=== Example of XSHistogram: l2cache acquire period\"\n",
    "grep -n \"l2cache.slices_0.mshrCtl: acquire_period\" stderr.log | tail"
   ]
  },
  {
   "cell_type": "markdown",
   "id": "ed651678-3e03-474c-ae2a-a9ba80f2cf9f",
   "metadata": {
    "editable": true,
    "slideshow": {
     "slide_type": "notes"
    },
    "tags": []
   },
   "source": [
    "You can run this cell to see examples of XSPerf."
   ]
  },
  {
   "cell_type": "markdown",
   "id": "c26f3b46-ed88-4029-b240-57abf97c253d",
   "metadata": {
    "editable": true,
    "slideshow": {
     "slide_type": "subslide"
    },
    "tags": []
   },
   "source": [
    "## Rolling\n",
    "\n",
    "![rolling](../images/03-performance/02-xsperf/rolling-en.png)\n",
    "\n",
    "This type of performance counter utilizes the ChiselDB framework introduced in 02-functional/04-chiseldb to store the collected data into a SQLite3 database file.\n",
    "\n",
    "To enable RollingDB, you need to specify `WITH_ROLLINGDB=1` during compilation and use the `--dump-db` parameter at runtime."
   ]
  },
  {
   "cell_type": "markdown",
   "id": "aba38fde-eb81-48dd-a35f-f448799bd612",
   "metadata": {
    "editable": true,
    "slideshow": {
     "slide_type": "notes"
    },
    "tags": []
   },
   "source": [
    "The previous two types of counters cannot reflect the characteristic differences of different segments during the execution of a program, so we may miss the impact of a certain microarchitecture modification on a specific segment (critical region). Therefore, we need rolling analysis."
   ]
  },
  {
   "cell_type": "markdown",
   "id": "e9f098d9-f1a8-4411-bfb0-e31618deba7a",
   "metadata": {
    "editable": true,
    "slideshow": {
     "slide_type": "subslide"
    },
    "tags": []
   },
   "source": [
    "⚠️Note: If you are reading this notebook on the tutorial demo server, please do not recompile XiangShan, as it will take a long time and consume a lot of computing resources."
   ]
  },
  {
   "cell_type": "code",
   "execution_count": null,
   "id": "26ff2248-877a-44e4-918f-c3da20720235",
   "metadata": {
    "editable": true,
    "scrolled": true,
    "slideshow": {
     "slide_type": ""
    },
    "tags": []
   },
   "outputs": [],
   "source": [
    "%%bash\n",
    "cd .. && source env.sh\n",
    "cd ${NOOP_HOME}\n",
    "\n",
    "mkdir -p ${WORK_DIR}/03-performance/02-xsperf\n",
    "\n",
    "# for tutorial: copy a pre-generated rolling db to tutorial dir\n",
    "cp $(get_asset emu-perf-result/xs-perf-rolling.db) \\\n",
    "    ${WORK_DIR}/03-performance/02-xsperf/xs-perf-rolling.db"
   ]
  },
  {
   "cell_type": "markdown",
   "id": "c6f1b969-afbd-483a-85d3-0e9b61991260",
   "metadata": {
    "editable": true,
    "slideshow": {
     "slide_type": "notes"
    },
    "tags": []
   },
   "source": [
    "Here we just copy the pre-generated rolling db file to our workspace. In code-server you're using now, you can see the commands used to generate it."
   ]
  },
  {
   "cell_type": "markdown",
   "id": "ccb64734-62d3-43bd-ab0b-01bdf04b394a",
   "metadata": {
    "editable": true,
    "slideshow": {
     "slide_type": "subslide"
    },
    "tags": []
   },
   "source": [
    "After obtaining the database file, we use a python script to analyze it.\n",
    "\n",
    "In the following example, we use the rollingplot.py script to plot ipc data.\n",
    "\n",
    "Gathering ipc data in XiangShan's RTL code is as follows:\n",
    "\n",
    "```scala\n",
    "// every 1000 cycles\n",
    "XSPerfRolling(\"ipc\", ifCommitReg(trueCommitCnt), 1000, clock, reset)\n",
    "```"
   ]
  },
  {
   "cell_type": "code",
   "execution_count": null,
   "id": "adf6ab20-1255-4a18-bfee-cab87a712e0a",
   "metadata": {
    "editable": true,
    "scrolled": true,
    "slideshow": {
     "slide_type": ""
    },
    "tags": []
   },
   "outputs": [],
   "source": [
    "%%bash\n",
    "cd .. && source env.sh\n",
    "cd ${WORK_DIR}/03-performance/02-xsperf\n",
    "\n",
    "# Use python scripts to analyze the rolling db, for example, plot ipc\n",
    "python3 ${NOOP_HOME}/scripts/rolling/rollingplot.py \\\n",
    "    ./xs-perf-rolling.db \\\n",
    "    ipc\n",
    "\n",
    "ls -lh ${WORK_DIR}/03-performance/02-xsperf/results/perf.png"
   ]
  },
  {
   "cell_type": "markdown",
   "id": "3d95e42e-ac30-42e1-891e-02099b6b3a05",
   "metadata": {
    "editable": true,
    "slideshow": {
     "slide_type": "subslide"
    },
    "tags": []
   },
   "source": [
    "The script outputs the following image, showing the IPC changes of XiangShan over time while running this program:\n",
    "\n",
    "![perf](../work/03-performance/02-xsperf/results/perf.png)\n",
    "\n",
    "If the image does not load correctly, you can try closing the notebook and reopening it."
   ]
  },
  {
   "cell_type": "markdown",
   "id": "96358ede-ad8b-4d28-be37-4eebf195d633",
   "metadata": {
    "editable": true,
    "slideshow": {
     "slide_type": "slide"
    },
    "tags": []
   },
   "source": [
    "# Top-Down\n",
    "\n",
    "Purpose: Organize perf events in hierarchical form\n",
    "\n",
    "![Example](../images/03-performance/03-topdown/example-en.png)"
   ]
  },
  {
   "cell_type": "markdown",
   "id": "78a0ecdd-629b-4465-8cea-b054be4d9b92",
   "metadata": {
    "editable": true,
    "slideshow": {
     "slide_type": "notes"
    },
    "tags": []
   },
   "source": [
    "Top-Down is a common performance analysis method that organizes fragmented performance events into a hierarchical form to more accurately analyze the impact of individual performance events on overall processor performance.\n",
    "\n",
    "Based on the XSPerfAccumulate introduced in the 02-xsperf section, we have implemented a set of Top-Down counters optimized for the XiangShan microarchitecture and RISC-V instruction set in RTL to help us better model the XiangShan microarchitecture and align it with XS-GEM5."
   ]
  },
  {
   "cell_type": "markdown",
   "id": "da4783bc-22df-49f7-84aa-7b42464c2ded",
   "metadata": {
    "editable": true,
    "slideshow": {
     "slide_type": "subslide"
    },
    "tags": []
   },
   "source": [
    "In the `${NOOP_HOME}/scripts/top-down` directory, we have also implemented some analysis scripts that you can run to extract Top-Down results, plot graphs, etc..\n",
    "\n",
    "⚠️Note: If you are reading this notebook on the tutorial demo server, please do not run the analysis scripts as they will perform a large amount of disk access."
   ]
  },
  {
   "cell_type": "code",
   "execution_count": null,
   "id": "ec580c99-18d2-45ad-b085-f703857944b1",
   "metadata": {
    "editable": true,
    "scrolled": true,
    "slideshow": {
     "slide_type": ""
    },
    "tags": []
   },
   "outputs": [],
   "source": [
    "%%bash\n",
    "cd .. && source env.sh\n",
    "\n",
    "mkdir -p ${WORK_DIR}/03-performance/03-topdown\n",
    "cd ${WORK_DIR}/03-performance/03-topdown\n",
    "\n",
    "# for tutorial: copy analysis results\n",
    "cp -r $(get_asset emu-spec-topdown-result/results) ./\n",
    "\n",
    "echo === results ===\n",
    "ls ./results\n",
    "\n",
    "echo === first 10 lines of results.csv ===\n",
    "head -n 10 ./results/results.csv\n",
    "\n",
    "echo === first 10 lines of results-weighted.csv ===\n",
    "head -n 10 ./results/results-weighted.csv"
   ]
  },
  {
   "cell_type": "markdown",
   "id": "61941548-2335-406f-9025-63c2eb17bf48",
   "metadata": {
    "editable": true,
    "slideshow": {
     "slide_type": "notes"
    },
    "tags": []
   },
   "source": [
    "Again, we just use the pre-generated results here."
   ]
  },
  {
   "cell_type": "markdown",
   "id": "9706a679-fe7a-4a3f-adc5-738a8582c79a",
   "metadata": {
    "editable": true,
    "slideshow": {
     "slide_type": "subslide"
    },
    "tags": []
   },
   "source": [
    "The script outputs the following image:\n",
    "\n",
    "![perf](../work/03-performance/03-topdown/results/result.png)\n",
    "\n",
    "If the image does not load correctly, you can try closing the notebook and reopening it."
   ]
  },
  {
   "cell_type": "markdown",
   "id": "5ebca93b-37f3-4ecb-a23d-fd8ec8729cb4",
   "metadata": {
    "editable": true,
    "slideshow": {
     "slide_type": "slide"
    },
    "tags": []
   },
   "source": [
    "# Constantin\n",
    "\n",
    "Purpose: Speed-up design space exploration (by reducing re-compilation)\n",
    "\n",
    "![Overview](../images/03-performance/04-constantin/overview-en.png)"
   ]
  },
  {
   "cell_type": "markdown",
   "id": "837f7b96-2b3c-4f75-8191-8a6987fa586f",
   "metadata": {
    "editable": true,
    "slideshow": {
     "slide_type": "notes"
    },
    "tags": []
   },
   "source": [
    "Sometimes we want to test performance under different parameters.\n",
    "\n",
    "We may use a cycle-accurate simulator, but as it may not 100% accurate, we sometimes want to test directly on RTL.\n",
    "\n",
    "However, it is very time-consuming to compile every time we adjust only 1 or 2 parameters, even though the most part of RTL is unchanged. Is there any way to change parameters without compiling?\n",
    "\n",
    "We present Constantin, which is based on the DPI-C interface and uses C++ functions and Chisel's BlackBox mechanism to configure parameters during runtime initialization."
   ]
  },
  {
   "cell_type": "markdown",
   "id": "8cbeafa5-9e32-40c4-aa2f-a5415cf03220",
   "metadata": {
    "editable": true,
    "slideshow": {
     "slide_type": "subslide"
    },
    "tags": []
   },
   "source": [
    "To replace a scala parameter with Constantin, it looks roughly like this:\n",
    "\n",
    "```scala\n",
    "/* *** w/o Constantin *** */\n",
    "val enableSomeModule = WireInit(false.B) // change to true.B, re-compile and re-run\n",
    "\n",
    "/* *** w/ Constantin *** */\n",
    "// in RTL\n",
    "val enableSomeModule = WireInit(Constantin.createRecord(\"enableSomeModule\", initValue = false))\n",
    "// in constantin.txt\n",
    "enableSomeModule 0 // change to 1, re-run\n",
    "```\n",
    "\n",
    "To enable Constantin, you need to use the `WITH_CONSTANTIN=1` option when compiling emu.\n",
    "\n",
    "Currently, Constantin does not present as an emu argument, its configuration file must be located at `${NOOP_HOME}/build/constantin.txt`.\n"
   ]
  },
  {
   "cell_type": "markdown",
   "id": "7e52ac9c-d4d5-4ea7-94d3-c989b8ef414f",
   "metadata": {
    "editable": true,
    "slideshow": {
     "slide_type": "subslide"
    },
    "tags": []
   },
   "source": [
    "The following example uses Constantin to control the switch of the branch predictor. You can run this cell to compare the differences between on and off."
   ]
  },
  {
   "cell_type": "code",
   "execution_count": null,
   "id": "a80c343e-f80e-4ebf-b1a4-15bcca3656d8",
   "metadata": {
    "editable": true,
    "scrolled": true,
    "slideshow": {
     "slide_type": ""
    },
    "tags": []
   },
   "outputs": [],
   "source": [
    "%%bash\n",
    "cd .. && source env.sh\n",
    "\n",
    "mkdir -p ${NOOP_HOME}/build\n",
    "\n",
    "# run with default parameter\n",
    "rm -f ${NOOP_HOME}/build/constantin.txt || true\n",
    "$(get_asset emu-precompile/emu-constantin) \\\n",
    "    -i $(get_asset workload/coremark-2-iteration.bin) \\\n",
    "    -C 10000 \\\n",
    "    --no-diff \\\n",
    "    2>/dev/null\n",
    "\n",
    "# run with Bpu turned off (falls back to static not-taken prediction)\n",
    "echo \"enableUbtb 0\" > ${NOOP_HOME}/build/constantin.txt\n",
    "$(get_asset emu-precompile/emu-constantin) \\\n",
    "    -i $(get_asset workload/coremark-2-iteration.bin) \\\n",
    "    -C 10000 \\\n",
    "    --no-diff \\\n",
    "    2>/dev/null"
   ]
  },
  {
   "cell_type": "markdown",
   "id": "00620b78-a9c6-46d9-86b8-ec86807f9dff",
   "metadata": {
    "editable": true,
    "slideshow": {
     "slide_type": "subslide"
    },
    "tags": []
   },
   "source": [
    "## Autosolving\n",
    "Purpose: automatically find the best parameter configuration under the current microarchitecture.\n",
    "\n",
    "Steps:\n",
    "- Enable in Constantin configuration (refer to `./04-autosolving.patch`);\n",
    "- Compile emu with `WITH_CONSTANTIN=1`;\n",
    "- Provide config file.\n",
    "  - Parameter name, bit width, initial value.\n",
    "  - Performance counter name, optimization strategy.\n",
    "  - Workload, etc.."
   ]
  },
  {
   "cell_type": "markdown",
   "id": "3433aaac-b7bd-4964-a912-a00b22d982e3",
   "metadata": {
    "editable": true,
    "slideshow": {
     "slide_type": "notes"
    },
    "tags": []
   },
   "source": [
    "We also implemented Autosolving for Constantin, which can automatically find the best parameter configuration under the current microarchitecture.\n",
    "\n",
    "To use Autosolving, you need to enable it in the Constantin configuration (refer to `./04-autosolving.patch`), and compile emu with `WITH_CONSTANTIN=1`.\n",
    "\n",
    "After enabling Autosolving, emu will read the Constantin configuration from stdin instead of a txt file, allowing us to use our python script to automatically run emu with specific configurations and try to find the optimal configuration.\n",
    "\n",
    "You need to provide a configuration file for the script (refer to `04-autosolving-config.json`), including:\n",
    "- Descriptions of configurable parameters\n",
    "  - Parameter name\n",
    "  - Bit width\n",
    "  - Initial value\n",
    "- Optimization goals\n",
    "  - Performance counter name\n",
    "  - Strategy (minimize, maximize)\n",
    "  - Baseline\n",
    "- Genetic algorithm parameters\n",
    "- emu running parameters\n",
    "  - workload\n",
    "  - Maximum number of instructions\n",
    "  - Number of threads\n",
    "\n",
    "Our script uses genetic algorithm for parameter exploration, and it is also easy to implement other algorithms (such as ant colony/particle swarm optimization)."
   ]
  },
  {
   "cell_type": "code",
   "execution_count": null,
   "id": "768ed080-34a8-4188-8eae-b1f2242c105d",
   "metadata": {
    "editable": true,
    "scrolled": true,
    "slideshow": {
     "slide_type": "subslide"
    },
    "tags": []
   },
   "outputs": [],
   "source": [
    "%%bash\n",
    "cd .. && source env.sh && cd - >/dev/null\n",
    "\n",
    "echo === Patch ===\n",
    "cat ./04-autosolving.patch\n",
    "\n",
    "echo === Config ===\n",
    "cat ./04-autosolving-config.json\n",
    "\n",
    "echo === Run ===\n",
    "mkdir -p ${NOOP_HOME}/build\n",
    "cp $(get_asset emu-precompile/emu-autosolving) ${NOOP_HOME}/build/emu\n",
    "python3 ${NOOP_HOME}/scripts/constantHelper.py ./04-autosolving-config.json"
   ]
  },
  {
   "cell_type": "markdown",
   "id": "135e48b4-ee9d-4e71-99c7-bb4ab751b886",
   "metadata": {
    "editable": true,
    "slideshow": {
     "slide_type": "notes"
    },
    "tags": []
   },
   "source": [
    "You can run this cell to see autosolving works."
   ]
  }
 ],
 "metadata": {
  "kernelspec": {
   "display_name": "Python 3 (ipykernel)",
   "language": "python",
   "name": "python3"
  },
  "language_info": {
   "codemirror_mode": {
    "name": "ipython",
    "version": 3
   },
   "file_extension": ".py",
   "mimetype": "text/x-python",
   "name": "python",
   "nbconvert_exporter": "python",
   "pygments_lexer": "ipython3",
   "version": "3.12.3"
  }
 },
 "nbformat": 4,
 "nbformat_minor": 5
}
