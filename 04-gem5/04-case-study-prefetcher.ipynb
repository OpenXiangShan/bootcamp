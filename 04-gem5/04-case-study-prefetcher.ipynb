{
 "cells": [
  {
   "cell_type": "markdown",
   "id": "0fe19e0c",
   "metadata": {},
   "source": [
    "# Case study 1：添加 Prefetcher && Case Study 1: Adding a Prefetcher"
   ]
  },
  {
   "cell_type": "markdown",
   "id": "ed3acb69",
   "metadata": {},
   "source": [
    "在这一部分，我们将通过一个在 XS-GEM5 中添加新预取器的示例，演示如何在 XS-GEM5 上实现并评估新的特性。\n",
    "\n",
    "In this section, we present an example of adding a new prefetcher to XS-GEM5, demonstrating how to implement and evaluate new features on the XS-GEM5 platform."
   ]
  },
  {
   "cell_type": "markdown",
   "id": "b76af748",
   "metadata": {},
   "source": [
    "我们先创建本节的工作目录。\n",
    "\n",
    "First, we create the working directory for this section."
   ]
  },
  {
   "cell_type": "code",
   "execution_count": null,
   "id": "a8b0a7ea",
   "metadata": {
    "vscode": {
     "languageId": "shellscript"
    }
   },
   "outputs": [],
   "source": [
    "%%bash\n",
    "cd .. && source env.sh\n",
    "\n",
    "mkdir -p ${WORK_DIR}/04-gem5/04-case-study-prefetcher"
   ]
  },
  {
   "cell_type": "markdown",
   "id": "2ce9172c",
   "metadata": {},
   "source": [
    "这里我们运行这个 Bash 脚本，用于创建 04-case-study-prefetcher 这个文件目录。\n",
    "\n",
    "Here we run this Bash script to create the 04-case-study-prefetcher directory."
   ]
  },
  {
   "cell_type": "markdown",
   "id": "fbfca9a4",
   "metadata": {},
   "source": [
    "和 01-compile 以及 02-first-run 一样，我们先编译运行一份原始的 GEM5 作为基线。\n",
    "\n",
    "Just like in 01-compile and 02-first-run, we first build and run a baseline version of GEM5."
   ]
  },
  {
   "cell_type": "code",
   "execution_count": null,
   "id": "9fe9c589",
   "metadata": {
    "vscode": {
     "languageId": "shellscript"
    }
   },
   "outputs": [],
   "source": [
    "%%bash\n",
    "cd .. && source env.sh\n",
    "cd ${GEM5_HOME}\n",
    "\n",
    "#git reset --hard 30be231238bc0f9d3687efd59826748c02ad5f7b\n",
    "\n",
    "# 编译\n",
    "# compile\n",
    "# scons build/RISCV/gem5.opt -j8\n",
    "\n",
    "# GEM5=${WORK_DIR}/04-gem5/04-case-study-prefetcher/gem5-base.opt\n",
    "# cp build/RISCV/gem5.opt ${GEM5}\n",
    "\n",
    "# 运行\n",
    "# run\n",
    "export LD_LIBRARY_PATH=$(get_asset gem5-precompile):${LD_LIBRARY_PATH}\n",
    "export GCBV_REF_SO=$(get_asset gem5-precompile/riscv64-nemu-interpreter-c1469286ca32-so)\n",
    "\n",
    "mkdir -p ${WORK_DIR}/04-gem5/04-case-study-prefetcher/result_base\n",
    "cd ${WORK_DIR}/04-gem5/04-case-study-prefetcher/result_base\n",
    "\n",
    "$(get_asset gem5-precompile/gem5-base.opt) ${GEM5_HOME}/configs/example/xiangshan.py \\\n",
    "    --generic-rv-cpt=$(get_asset workload/mcf_12253_0.137576_.zstd) \\\n",
    "    --gcpt-restorer=$(get_asset workload/normal-gcb-restorer.bin) \\\n",
    "    -I 300000"
   ]
  },
  {
   "cell_type": "markdown",
   "id": "c6e34b24",
   "metadata": {},
   "source": [
    "这里我们使用这个 Bash 脚本来编译 XS-GEM5，并运行 mcf workload 的切片。\n",
    "\n",
    "运行生成的文件会保存在 result_base 这个文件夹中。\n",
    "\n",
    "如果大家在过程中遇到问题，可以举手，我们在场的小伙伴会协助大家。\n",
    "\n",
    "编译完成后，我们就能得到 baseline 配置下运行 mcf 切片的结果。\n",
    "\n",
    "\n",
    "Here we use this Bash script to compile XS-GEM5 and run the mcf workload slice.\n",
    "\n",
    "The generated files will be stored in the result_base folder.\n",
    "\n",
    "If anyone encounters any issues, please raise your hand and our team members will assist you.\n",
    "\n",
    "After the compilation is completed, we will obtain the baseline results of running the mcf slice."
   ]
  },
  {
   "cell_type": "markdown",
   "id": "b4722c50",
   "metadata": {},
   "source": [
    "我们准备好了一个实现 Despacito Stream Prefetcher 的 patch 文件 `04-DespacitoStream.patch`，现在可以将它应用到 GEM5 上并再次编译运行。\n",
    "\n",
    "\n",
    "We have prepared a patch file '04-DespacitoStream.patch', which implements the Despacito Stream Prefetcher. Now we can apply it to GEM5 and rebuild the project."
   ]
  },
  {
   "cell_type": "code",
   "execution_count": null,
   "id": "0858ee3c",
   "metadata": {
    "vscode": {
     "languageId": "shellscript"
    }
   },
   "outputs": [],
   "source": [
    "%%bash\n",
    "cd .. && source env.sh\n",
    "cd ${GEM5_HOME}\n",
    "\n",
    "#git reset --hard 30be231238bc0f9d3687efd59826748c02ad5f7b\n",
    "\n",
    "# 应用 prefetcher patch\n",
    "# use prefetcher patch\n",
    "#git config user.name \"xiangshan-bootcamp\"\n",
    "#git config user.email \"xiangshan-bootcamp@example.com\"\n",
    "#git am -3 ${XS_PROJECT_ROOT}/04-gem5/04-DespacitoStream.patch\n",
    "\n",
    "# 编译\n",
    "# compile\n",
    "#scons build/RISCV/gem5.opt -j8\n",
    "\n",
    "#GEM5=${WORK_DIR}/04-gem5/04-case-study-prefetcher/gem5-despacito.opt\n",
    "#cp build/RISCV/gem5.opt ${GEM5}\n",
    "\n",
    "# 运行\n",
    "# run\n",
    "export LD_LIBRARY_PATH=$(get_asset gem5-precompile):${LD_LIBRARY_PATH}\n",
    "export GCBV_REF_SO=$(get_asset gem5-precompile/riscv64-nemu-interpreter-c1469286ca32-so)\n",
    "\n",
    "mkdir -p ${WORK_DIR}/04-gem5/04-case-study-prefetcher/result_despacito\n",
    "cd ${WORK_DIR}/04-gem5/04-case-study-prefetcher/result_despacito\n",
    "\n",
    "# {GEM%}\n",
    "$(get_asset gem5-precompile/gem5-dsprefetch.opt) ${GEM5_HOME}/configs/example/xiangshan.py \\\n",
    "    --generic-rv-cpt=$(get_asset workload/mcf_12253_0.137576_.zstd) \\\n",
    "    --gcpt-restorer=$(get_asset workload/normal-gcb-restorer.bin) \\\n",
    "    -I 300000"
   ]
  },
  {
   "cell_type": "markdown",
   "id": "3425b3f5",
   "metadata": {},
   "source": [
    "这里我们使用这个 Bash 脚本来编译已添加补丁的 XS-GEM5，并运行 mcf workload 的切片。\n",
    "\n",
    "同样地，XS-GEM5 运行后生成的文件会保存在 result_despacito 文件夹中。\n",
    "\n",
    "如果大家在过程中遇到问题，可以举手，我们在场的小伙伴会协助大家。\n",
    "\n",
    "编译完成后，我们将得到添加补丁后的 XS-GEM5 运行 mcf 切片的结果。\n",
    "\n",
    "\n",
    "Here we use this Bash script to compile the patched version of XS-GEM5 and run the mcf workload slice.\n",
    "\n",
    "Similarly, the generated files from XS-GEM5 will be stored in the result_despacito folder.\n",
    "\n",
    "If anyone encounters any issues, please raise your hand and our team members will assist you.\n",
    "\n",
    "After the compilation is completed, we will obtain the results of running the mcf slice with the patched XS-GEM5."
   ]
  },
  {
   "cell_type": "markdown",
   "id": "884cf35d",
   "metadata": {},
   "source": [
    "最后，我们用一个简单的脚本对比一下添加预取器前后的差异。\n",
    "\n",
    "Finally, we use a simple script to compare the differences before and after adding the prefetcher."
   ]
  },
  {
   "cell_type": "code",
   "execution_count": null,
   "id": "43a84afa",
   "metadata": {
    "vscode": {
     "languageId": "shellscript"
    }
   },
   "outputs": [],
   "source": [
    "%%bash\n",
    "cd .. && source env.sh\n",
    "\n",
    "echo -n \"Baseline                IPC: \"\n",
    "cat ${WORK_DIR}/04-gem5/04-case-study-prefetcher/result_base/m5out/stats.txt | grep \"system.cpu.ipc\" | tr -s ' ' | cut -d ' ' -f2\n",
    "echo -n \"Despacito Stream        IPC: \"\n",
    "cat ${WORK_DIR}/04-gem5/04-case-study-prefetcher/result_despacito/m5out/stats.txt | grep \"system.cpu.ipc\" | tr -s ' ' | cut -d ' ' -f2\n",
    "echo -n \"Baseline         L1D Misses: \"\n",
    "cat ${WORK_DIR}/04-gem5/04-case-study-prefetcher/result_base/m5out/stats.txt | grep \"system.cpu.dcache.ReadReq.misses::total\" | tr -s ' ' | cut -d ' ' -f2\n",
    "echo -n \"Despacito Stream L1D Misses: \"\n",
    "cat ${WORK_DIR}/04-gem5/04-case-study-prefetcher/result_despacito/m5out/stats.txt | grep \"system.cpu.dcache.ReadReq.misses::total\" | tr -s ' ' | cut -d ' ' -f2"
   ]
  },
  {
   "cell_type": "markdown",
   "id": "25f67868",
   "metadata": {},
   "source": [
    "这里展示了添加预取器前后 IPC 和 L1D Misses 的变化情况。\n",
    "\n",
    "可以看到，在添加新预取器之后，IPC 从 0.30 提升到 0.36，增加了 0.06。\n",
    "\n",
    "与此同时，L1D Misses 从 203,950 下降到 137,700，减少了 66,250 次。\n",
    "\n",
    "\n",
    "This figure shows the change in IPC and L1D Misses before and after adding the prefetcher.\n",
    "\n",
    "We can see that after introducing the new prefetcher, IPC increased from 0.30 to 0.36, an improvement of 0.06.\n",
    "\n",
    "At the same time, L1D Misses decreased from 203,950 to 137,700, a reduction of 66,250."
   ]
  }
 ],
 "metadata": {
  "kernelspec": {
   "display_name": "Python 3",
   "language": "python",
   "name": "python3"
  },
  "language_info": {
   "codemirror_mode": {
    "name": "ipython",
    "version": 3
   },
   "file_extension": ".py",
   "mimetype": "text/x-python",
   "name": "python",
   "nbconvert_exporter": "python",
   "pygments_lexer": "ipython3",
   "version": "3.9.6"
  }
 },
 "nbformat": 4,
 "nbformat_minor": 5
}
