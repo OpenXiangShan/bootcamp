{
 "cells": [
  {
   "cell_type": "markdown",
   "id": "0fe19e0c",
   "metadata": {},
   "source": [
    "# Case study 1：添加 Prefetcher"
   ]
  },
  {
   "cell_type": "markdown",
   "id": "b76af748",
   "metadata": {},
   "source": [
    "我们先创建本节的工作目录"
   ]
  },
  {
   "cell_type": "code",
   "execution_count": null,
   "id": "a8b0a7ea",
   "metadata": {
    "vscode": {
     "languageId": "shellscript"
    }
   },
   "outputs": [],
   "source": [
    "%%bash\n",
    "cd .. && source env.sh\n",
    "\n",
    "mkdir -p ${WORK_DIR}/04-gem5/04-case-study-prefetcher"
   ]
  },
  {
   "cell_type": "markdown",
   "id": "fbfca9a4",
   "metadata": {},
   "source": [
    "和 01-compile 以及 02-first-run 一样，我们先编译运行一份原始的 GEM5 作为基线"
   ]
  },
  {
   "cell_type": "code",
   "execution_count": null,
   "id": "9fe9c589",
   "metadata": {
    "vscode": {
     "languageId": "shellscript"
    }
   },
   "outputs": [],
   "source": [
    "%%bash\n",
    "cd .. && source env.sh\n",
    "cd ${GEM5_HOME}\n",
    "\n",
    "git reset --hard 30be231238bc0f9d3687efd59826748c02ad5f7b\n",
    "\n",
    "# 编译\n",
    "scons build/RISCV/gem5.opt --linker=mold -j `nproc`\n",
    "\n",
    "GEM5=${WORK_DIR}/04-gem5/04-case-study-prefetcher/gem5-base.opt\n",
    "cp build/RISCV/gem5.opt ${GEM5}\n",
    "\n",
    "# 运行\n",
    "export LD_LIBRARY_PATH=${GEM5_HOME}/ext/dramsim3/DRAMsim3:${LD_LIBRARY_PATH}\n",
    "export GCBV_REF_SO=$(get_asset gem5-precompile)/riscv64-nemu-interpreter-c1469286ca32-so\n",
    "\n",
    "mkdir -p ${WORK_DIR}/04-gem5/04-case-study-prefetcher/result_base\n",
    "cd ${WORK_DIR}/04-gem5/04-case-study-prefetcher/result_base\n",
    "\n",
    "${GEM5} ${GEM5_HOME}/configs/example/xiangshan.py \\\n",
    "    --generic-rv-cpt=$(get_asset workload)/mcf_12253_0.137576_.zstd \\\n",
    "    --gcpt-restorer=$(get_asset workload)/normal-gcb-restorer.bin \\\n",
    "    -I 300000"
   ]
  },
  {
   "cell_type": "markdown",
   "id": "b4722c50",
   "metadata": {},
   "source": [
    "我们准备好了一个实现 Despacito Stream Prefetcher 的 patch 文件 `04-DespacitoStream.patch`，现在可以将它应用到 GEM5 上并再次编译运行"
   ]
  },
  {
   "cell_type": "code",
   "execution_count": null,
   "id": "0858ee3c",
   "metadata": {
    "vscode": {
     "languageId": "shellscript"
    }
   },
   "outputs": [],
   "source": [
    "%%bash\n",
    "cd .. && source env.sh\n",
    "cd ${GEM5_HOME}\n",
    "\n",
    "git reset --hard 30be231238bc0f9d3687efd59826748c02ad5f7b\n",
    "\n",
    "# 应用 prefetcher patch\n",
    "git config user.name \"xiangshan-bootcamp\"\n",
    "git config user.email \"xiangshan-bootcamp@example.com\"\n",
    "git am -3 ${XS_PROJECT_ROOT}/04-gem5/04-DespacitoStream.patch\n",
    "\n",
    "# 编译\n",
    "scons build/RISCV/gem5.opt --linker=mold -j `nproc`\n",
    "\n",
    "GEM5=${WORK_DIR}/04-gem5/04-case-study-prefetcher/gem5-despacito.opt\n",
    "cp build/RISCV/gem5.opt ${GEM5}\n",
    "\n",
    "# 运行\n",
    "export LD_LIBRARY_PATH=${GEM5_HOME}/ext/dramsim3/DRAMsim3:${LD_LIBRARY_PATH}\n",
    "export GCBV_REF_SO=$(get_asset gem5-precompile)/riscv64-nemu-interpreter-c1469286ca32-so\n",
    "\n",
    "mkdir -p ${WORK_DIR}/04-gem5/04-case-study-prefetcher/result_despacito\n",
    "cd ${WORK_DIR}/04-gem5/04-case-study-prefetcher/result_despacito\n",
    "\n",
    "${GEM5} ${GEM5_HOME}/configs/example/xiangshan.py \\\n",
    "    --generic-rv-cpt=$(get_asset workload)/mcf_12253_0.137576_.zstd \\\n",
    "    --gcpt-restorer=$(get_asset workload)/normal-gcb-restorer.bin \\\n",
    "    -I 300000"
   ]
  },
  {
   "cell_type": "markdown",
   "id": "884cf35d",
   "metadata": {},
   "source": [
    "最后，我们用一个简单的脚本对比一下添加预取器前后的差异"
   ]
  },
  {
   "cell_type": "code",
   "execution_count": null,
   "id": "43a84afa",
   "metadata": {
    "vscode": {
     "languageId": "shellscript"
    }
   },
   "outputs": [],
   "source": [
    "%%bash\n",
    "cd .. && source env.sh\n",
    "\n",
    "echo -n \"Baseline                IPC: \"\n",
    "cat ${WORK_DIR}/04-gem5/04-case-study-prefetcher/result_base/m5out/stats.txt | grep \"system.cpu.ipc\" | tr -s ' ' | cut -d ' ' -f2\n",
    "echo -n \"Despacito Stream        IPC: \"\n",
    "cat ${WORK_DIR}/04-gem5/04-case-study-prefetcher/result_despacito/m5out/stats.txt | grep \"system.cpu.ipc\" | tr -s ' ' | cut -d ' ' -f2\n",
    "echo -n \"Baseline         L1D Misses: \"\n",
    "cat ${WORK_DIR}/04-gem5/04-case-study-prefetcher/result_base/m5out/stats.txt | grep \"system.cpu.dcache.ReadReq.misses::total\" | tr -s ' ' | cut -d ' ' -f2\n",
    "echo -n \"Despacito Stream L1D Misses: \"\n",
    "cat ${WORK_DIR}/04-gem5/04-case-study-prefetcher/result_despacito/m5out/stats.txt | grep \"system.cpu.dcache.ReadReq.misses::total\" | tr -s ' ' | cut -d ' ' -f2"
   ]
  }
 ],
 "metadata": {
  "kernelspec": {
   "display_name": "Python 3",
   "language": "python",
   "name": "python3"
  },
  "language_info": {
   "codemirror_mode": {
    "name": "ipython",
    "version": 3
   },
   "file_extension": ".py",
   "mimetype": "text/x-python",
   "name": "python",
   "nbconvert_exporter": "python",
   "pygments_lexer": "ipython3",
   "version": "3.12.3"
  }
 },
 "nbformat": 4,
 "nbformat_minor": 5
}
