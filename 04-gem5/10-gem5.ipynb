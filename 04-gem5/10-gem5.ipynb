{
 "cells": [
  {
   "cell_type": "markdown",
   "id": "f07c2711",
   "metadata": {},
   "source": [
    "# 欢迎来到香山 Tutorial - GEM5 部分"
   ]
  },
  {
   "cell_type": "markdown",
   "id": "660a7acb",
   "metadata": {},
   "source": [
    "## 1. 编译运行 GEM5"
   ]
  },
  {
   "cell_type": "code",
   "execution_count": null,
   "id": "2f2c9ce0",
   "metadata": {
    "vscode": {
     "languageId": "shellscript"
    }
   },
   "outputs": [],
   "source": [
    "%%bash\n",
    "\n",
    "pushd ../ && source env.sh && popd\n",
    "\n",
    "check_env() {\n",
    "    if [[ -z \"${gem5_home}\" ]]; then\n",
    "        echo \"Error: No gem5_home found\" 1>&2\n",
    "        return 1\n",
    "    fi\n",
    "}\n",
    "\n",
    "prepare_gem5() {\n",
    "    if [ -f \"$gem5_home/ext/dramsim3/DRAMsim3/libdramsim3.so\" ]; then\n",
    "        echo \"DRAMSim3 already built, skip building DRAMSim3\"\n",
    "        return 0\n",
    "    fi\n",
    "    pushd $gem5_home && \\\n",
    "    cd ext/dramsim3 && \\\n",
    "    (stat DRAMsim3 || git clone https://github.com/umd-memsys/DRAMSim3.git DRAMsim3) && \\\n",
    "    cd DRAMsim3 && mkdir -p build && cd build && cmake .. && make -j `nproc` && \\\n",
    "    popd\n",
    "}\n",
    "\n",
    "build_gem5() {\n",
    "    if [ -f \"$gem5_home/build/RISCV/gem5.opt\" ]; then\n",
    "        echo \"gem5 already built, skip building gem5\"\n",
    "        return 0\n",
    "    fi\n",
    "    pushd $gem5_home && \\\n",
    "    scons build/RISCV/gem5.opt --linker=mold -j `nproc` && \\\n",
    "    popd\n",
    "}\n",
    "\n",
    "build_nemu_diff() {\n",
    "    if [ -f \"$gem5_home/riscv64-nemu-interpreter-c1469286ca32-so\" ]; then\n",
    "        echo \"NEMU diff already exist, skip downloading\"\n",
    "        return 0\n",
    "    fi\n",
    "    # Used for difftest and GCPT restorer\n",
    "    pushd $gem5_home && \\\n",
    "    wget https://github.com/OpenXiangShan/GEM5/releases/download/2024-10-16/riscv64-nemu-interpreter-c1469286ca32-so && \\\n",
    "    popd\n",
    "}\n",
    "\n",
    "prepare_data_proc() {\n",
    "    # Validated commit for tutorial: 4000c092b8bde21fd4aa493f9907fa100dbcb3fc\n",
    "    pushd xs-gem5 && \\\n",
    "    (stat gem5_data_proc || git clone https://github.com/shinezyy/gem5_data_proc.git) && \\\n",
    "    pushd gem5_data_proc && \\\n",
    "    git reset --hard 4000c092b8bde21fd4aa493f9907fa100dbcb3fc && \\\n",
    "    pip3 install -r requirements.txt && \\\n",
    "    popd && \\\n",
    "    popd\n",
    "}\n",
    "\n",
    "check_env && prepare_gem5 && build_gem5 && build_nemu_diff && prepare_data_proc"
   ]
  },
  {
   "cell_type": "markdown",
   "id": "06656646",
   "metadata": {},
   "source": [
    "## 2. 运行 CoreMark"
   ]
  },
  {
   "cell_type": "code",
   "execution_count": null,
   "id": "762161c6",
   "metadata": {
    "vscode": {
     "languageId": "shellscript"
    }
   },
   "outputs": [],
   "source": [
    "%%bash\n",
    "#!/usr/bin/env bash\n",
    "\n",
    "pushd ../ && source env.sh && popd\n",
    "\n",
    "pushd $gem5_home && \\\n",
    "export LD_LIBRARY_PATH=$gem5_home/ext/dramsim3/DRAMsim3:$LD_LIBRARY_PATH && \\\n",
    "export GCBV_REF_SO=$gem5_home/riscv64-nemu-interpreter-c1469286ca32-so && \\\n",
    "mkdir -p util/xs_scripts/coremark && \\\n",
    "cd util/xs_scripts/coremark && \\\n",
    "$gem5_home/build/RISCV/gem5.opt $gem5_home/configs/example/xiangshan.py \\\n",
    "--raw-cpt --generic-rv-cpt=$NOOP_HOME/ready-to-run/coremark-2-iteration.bin && \\\n",
    "popd"
   ]
  },
  {
   "cell_type": "markdown",
   "id": "4a15d17a",
   "metadata": {},
   "source": [
    "## 3. 查看 TopDown 计数器"
   ]
  },
  {
   "cell_type": "code",
   "execution_count": null,
   "id": "1ab58f10",
   "metadata": {
    "vscode": {
     "languageId": "shellscript"
    }
   },
   "outputs": [],
   "source": [
    "%%bash\n",
    "#!/usr/bin/env bash\n",
    "\n",
    "pushd ../ >/dev/null && source env.sh >/dev/null && popd >/dev/null\n",
    "\n",
    "pushd xs-gem5/gem5_data_proc && \\\n",
    "python3 batch.py \\\n",
    "  -s $gem5_home/util/xs_scripts/coremark \\\n",
    "  -t --topdown-raw && \\\n",
    "popd"
   ]
  },
  {
   "cell_type": "markdown",
   "id": "4b851ed6",
   "metadata": {},
   "source": [
    "## 4. 查看 Cache MPKI数据\n",
    "\n",
    "在这里，我们采用的是一个已经运行完成的 SPEC06 Simpoint 测试结果。你可以在 `data` 目录下找到相关的文件。"
   ]
  },
  {
   "cell_type": "code",
   "execution_count": null,
   "id": "8e928469",
   "metadata": {
    "vscode": {
     "languageId": "shellscript"
    }
   },
   "outputs": [],
   "source": [
    "%%bash\n",
    "#!/usr/bin/env bash\n",
    "\n",
    "pushd ../ >/dev/null && source env.sh >/dev/null && popd >/dev/null\n",
    "\n",
    "pushd xs-gem5/gem5_data_proc && \\\n",
    "mkdir -p results && \\\n",
    "export PYTHONPATH=`pwd` && \\\n",
    "ulimit -n 65535 && \\\n",
    "python3 batch.py -s ../data/xs-model-l1bank -o gem5-cache-example.csv --cache > /dev/null && \\\n",
    "python3 simpoint_cpt/compute_weighted.py \\\n",
    "    -r gem5-cache-example.csv \\\n",
    "    -j ../data/xs-model-l1bank/cluster-0-0.json \\\n",
    "    -o weighted.csv | tail -n 33 && \\\n",
    "popd\n"
   ]
  },
  {
   "cell_type": "markdown",
   "id": "c54d430d",
   "metadata": {},
   "source": [
    "## 5. SPEC06 算分\n",
    "\n",
    "在这里，我们采用的是一个已经运行完成的 SPEC06 Simpoint 测试结果。你可以在 `data` 目录下找到相关的文件。"
   ]
  },
  {
   "cell_type": "code",
   "execution_count": null,
   "id": "42d48dec",
   "metadata": {
    "vscode": {
     "languageId": "shellscript"
    }
   },
   "outputs": [],
   "source": [
    "%%bash\n",
    "\n",
    "#!/usr/bin/env bash\n",
    "\n",
    "pushd ../ >/dev/null && source env.sh >/dev/null && popd >/dev/null\n",
    "\n",
    "pushd xs-gem5/gem5_data_proc && \\\n",
    "mkdir -p results && \\\n",
    "export PYTHONPATH=`pwd` && \\\n",
    "ulimit -n 65535 && \\\n",
    "python3 batch.py -s ../data/xs-model-l1bank -o gem5-score-example.csv > /dev/null && \\\n",
    "python3 simpoint_cpt/compute_weighted.py \\\n",
    "    -r gem5-score-example.csv \\\n",
    "    -j ../data/xs-model-l1bank/cluster-0-0.json \\\n",
    "    --score score.csv | tail -n 41 && \\\n",
    "popd\n"
   ]
  },
  {
   "cell_type": "markdown",
   "id": "0fe19e0c",
   "metadata": {},
   "source": [
    "## 6. GEM5 添加 Prefetcher\n",
    "\n",
    "底下是一个很大的脚本，我们重点关心 Shell 函数 `self_build_despacito_stream`\n",
    "\n",
    "```bash\n",
    "function self_build_despacito_stream() {\n",
    "    if [ -f \"$gem5_home/../tutorial/xs-gem5/data/gem5.opt.despacito_stream\" ]; then\n",
    "        return\n",
    "    fi\n",
    "    pushd $gem5_home && \\\n",
    "    cd .. && git submodule update --init gem5 && cd gem5 && \\\n",
    "    (git branch -D add_a_new_prefetcher >/dev/null 2>&1 || true) && \\\n",
    "    (git checkout -b add_a_new_prefetcher || true) && \\\n",
    "    git am -3 ../tutorial/xs-gem5/DespacitoStream.patch && \\\n",
    "    scons build/RISCV/gem5.opt --linker=mold -j `nproc` && \\\n",
    "    cp build/RISCV/gem5.opt ../tutorial/xs-gem5/data/gem5.opt.despacito_stream && \\\n",
    "    popd\n",
    "}\n",
    "```\n",
    "\n",
    "在这里，我们创建了一个新的分支 `add_a_new_prefetcher`，并应用了一个 patch `DespacitoStream.patch`。这个 patch 为 GEM5 添加了一个新的预取器 `DespacitoStream`。在应用完 patch 后，我们编译了 GEM5，并将生成的可执行文件保存到 `data/gem5.opt.despacito_stream`。\n",
    "\n",
    "在进行了一些其他整理操作后，我们运行了 mcf 切片，并计算得到最终的数据。\n",
    "\n",
    "```bash\n",
    "function diff_result() {\n",
    "    pushd $gem5_home > /dev/null && \\\n",
    "    echo \"===== Results =====\" && \\\n",
    "    echo -n \"Baseline                IPC: \" && \\\n",
    "    cat util/xs_scripts/mcf_baseline/m5out/stats.txt | grep \"system.cpu.ipc\" | tr -s ' ' | cut -d ' ' -f2 && \\\n",
    "    echo -n \"Despactio Stream        IPC: \" && \\\n",
    "    cat util/xs_scripts/mcf_despacito_stream/m5out/stats.txt | grep \"system.cpu.ipc\" | tr -s ' ' | cut -d ' ' -f2 && \\\n",
    "    echo -n \"Baseline         L1D Misses: \" && \\\n",
    "    cat util/xs_scripts/mcf_baseline/m5out/stats.txt | grep \"system.cpu.dcache.ReadReq.misses::total\" | tr -s ' ' | cut -d ' ' -f2 && \\\n",
    "    echo -n \"Despactio Stream L1D Misses: \" && \\\n",
    "    cat util/xs_scripts/mcf_despacito_stream/m5out/stats.txt | grep \"system.cpu.dcache.ReadReq.misses::total\" | tr -s ' ' | cut -d ' ' -f2 && \\\n",
    "    popd > /dev/null\n",
    "}\n",
    "```"
   ]
  },
  {
   "cell_type": "code",
   "execution_count": null,
   "id": "43a84afa",
   "metadata": {
    "vscode": {
     "languageId": "shellscript"
    }
   },
   "outputs": [],
   "source": [
    "%%bash\n",
    "\n",
    "#!/usr/bin/env bash\n",
    "\n",
    "pushd ../ >/dev/null && source env.sh >/dev/null && popd >/dev/null\n",
    "\n",
    "function run_baseline() {\n",
    "    gem5_opt_path=$1\n",
    "    pushd $gem5_home && \\\n",
    "    export LD_LIBRARY_PATH=$gem5_home/ext/dramsim3/DRAMsim3:$LD_LIBRARY_PATH && \\\n",
    "    export GCBV_REF_SO=$gem5_home/riscv64-nemu-interpreter-c1469286ca32-so && \\\n",
    "    mkdir -p util/xs_scripts/mcf_baseline && \\\n",
    "    cd util/xs_scripts/mcf_baseline && \\\n",
    "    $gem5_opt_path $gem5_home/configs/example/xiangshan.py \\\n",
    "    --generic-rv-cpt=$gem5_home/../tutorial/xs-gem5/data/mcf_12253_0.137576_.zstd \\\n",
    "    --gcpt-restorer=$gem5_home/../tutorial/xs-gem5/data/normal-gcb-restorer.bin \\\n",
    "    -I 300000 && \\\n",
    "    popd\n",
    "}\n",
    "\n",
    "function run_with_despacito_stream() {\n",
    "    gem5_opt_path=$1\n",
    "    pushd $gem5_home && \\\n",
    "    export LD_LIBRARY_PATH=$gem5_home/ext/dramsim3/DRAMsim3:$LD_LIBRARY_PATH && \\\n",
    "    export GCBV_REF_SO=$gem5_home/riscv64-nemu-interpreter-c1469286ca32-so && \\\n",
    "    mkdir -p util/xs_scripts/mcf_despacito_stream && \\\n",
    "    cd util/xs_scripts/mcf_despacito_stream && \\\n",
    "    $gem5_opt_path $gem5_home/configs/example/xiangshan.py \\\n",
    "    --generic-rv-cpt=$gem5_home/../tutorial/xs-gem5/data/mcf_12253_0.137576_.zstd \\\n",
    "    --gcpt-restorer=$gem5_home/../tutorial/xs-gem5/data/normal-gcb-restorer.bin \\\n",
    "    -I 300000 && \\\n",
    "    popd\n",
    "}\n",
    "\n",
    "function diff_result() {\n",
    "    pushd $gem5_home > /dev/null && \\\n",
    "    echo \"===== Results =====\" && \\\n",
    "    echo -n \"Baseline                IPC: \" && \\\n",
    "    cat util/xs_scripts/mcf_baseline/m5out/stats.txt | grep \"system.cpu.ipc\" | tr -s ' ' | cut -d ' ' -f2 && \\\n",
    "    echo -n \"Despactio Stream        IPC: \" && \\\n",
    "    cat util/xs_scripts/mcf_despacito_stream/m5out/stats.txt | grep \"system.cpu.ipc\" | tr -s ' ' | cut -d ' ' -f2 && \\\n",
    "    echo -n \"Baseline         L1D Misses: \" && \\\n",
    "    cat util/xs_scripts/mcf_baseline/m5out/stats.txt | grep \"system.cpu.dcache.ReadReq.misses::total\" | tr -s ' ' | cut -d ' ' -f2 && \\\n",
    "    echo -n \"Despactio Stream L1D Misses: \" && \\\n",
    "    cat util/xs_scripts/mcf_despacito_stream/m5out/stats.txt | grep \"system.cpu.dcache.ReadReq.misses::total\" | tr -s ' ' | cut -d ' ' -f2 && \\\n",
    "    popd > /dev/null\n",
    "}\n",
    "\n",
    "function self_build_baseline() {\n",
    "    if [ -f \"$gem5_home/../tutorial/xs-gem5/data/gem5.opt\" ]; then\n",
    "        return\n",
    "    fi\n",
    "    pushd $gem5_home && \\\n",
    "    cd .. && git submodule update --init gem5 && cd gem5 && \\\n",
    "    scons build/RISCV/gem5.opt --linker=mold -j `nproc` && \\\n",
    "    cp build/RISCV/gem5.opt ../tutorial/xs-gem5/data/gem5.opt && \\\n",
    "    popd\n",
    "}\n",
    "\n",
    "function self_build_despacito_stream() {\n",
    "    if [ -f \"$gem5_home/../tutorial/xs-gem5/data/gem5.opt.despacito_stream\" ]; then\n",
    "        return\n",
    "    fi\n",
    "    pushd $gem5_home && \\\n",
    "    cd .. && git submodule update --init gem5 && cd gem5 && \\\n",
    "    (git branch -D add_a_new_prefetcher >/dev/null 2>&1 || true) && \\\n",
    "    (git checkout -b add_a_new_prefetcher || true) && \\\n",
    "    git am -3 ../tutorial/xs-gem5/DespacitoStream.patch && \\\n",
    "    scons build/RISCV/gem5.opt --linker=mold -j `nproc` && \\\n",
    "    cp build/RISCV/gem5.opt ../tutorial/xs-gem5/data/gem5.opt.despacito_stream && \\\n",
    "    popd\n",
    "}\n",
    "\n",
    "self_build_baseline && self_build_despacito_stream && \\\n",
    "run_baseline `realpath xs-gem5/data/gem5.opt` && \\\n",
    "run_with_despacito_stream `realpath xs-gem5/data/gem5.opt.despacito_stream` && \\\n",
    "diff_result\n"
   ]
  }
 ],
 "metadata": {
  "kernelspec": {
   "display_name": "Python 3",
   "language": "python",
   "name": "python3"
  },
  "language_info": {
   "codemirror_mode": {
    "name": "ipython",
    "version": 3
   },
   "file_extension": ".py",
   "mimetype": "text/x-python",
   "name": "python",
   "nbconvert_exporter": "python",
   "pygments_lexer": "ipython3",
   "version": "3.13.4"
  }
 },
 "nbformat": 4,
 "nbformat_minor": 5
}
