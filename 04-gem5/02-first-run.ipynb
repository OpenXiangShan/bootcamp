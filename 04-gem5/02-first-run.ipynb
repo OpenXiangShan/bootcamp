{
 "cells": [
  {
   "cell_type": "markdown",
   "id": "06656646",
   "metadata": {},
   "source": [
    "# 初次运行 First run"
   ]
  },
  {
   "cell_type": "markdown",
   "id": "a0d0115b",
   "metadata": {},
   "source": [
    "接下来将会介绍如何使用XS-GEM5运行hello world。\n",
    "\n",
    "在这里，我们使用上一节编译好的XS-GEM5运行hello word。\n",
    "同时我们开启了difftest,并使用GCBV_REF_SO指定ref，检查正确性。\n",
    "\n",
    "\n",
    "Next, we’ll show how to run Hello World with XS-GEM5.\n",
    "\n",
    "Here, we use the XS-GEM5 built in the previous section to run Hello World. We also enable difftest and specify the reference via GCBV_REF_SO to verify correctness.\n"
   ]
  },
  {
   "cell_type": "code",
   "execution_count": null,
   "id": "762161c6",
   "metadata": {
    "vscode": {
     "languageId": "shellscript"
    }
   },
   "outputs": [],
   "source": [
    "%%bash\n",
    "cd .. && source env.sh\n",
    "mkdir -p ${WORK_DIR}/04-gem5/02-first-run\n",
    "cd ${WORK_DIR}/04-gem5/02-first-run\n",
    "\n",
    "export LD_LIBRARY_PATH=$(get_asset gem5-precompile):${LD_LIBRARY_PATH}\n",
    "export GCBV_REF_SO=$(get_asset gem5-precompile/riscv64-nemu-interpreter-c1469286ca32-so)\n",
    "cp $(get_asset workload)/hello-riscv64-xs.bin ${WORK_DIR}/04-gem5/02-first-run\n",
    "\n",
    "# ${GEM5_HOME}/build/RISCV/gem5.opt\n",
    "$(get_asset gem5-precompile/gem5-base.opt) ${GEM5_HOME}/configs/example/xiangshan.py \\\n",
    "    --raw-cpt --generic-rv-cpt=${WORK_DIR}/04-gem5/02-first-run/hello-riscv64-xs.bin --mem-type=SimpleMemory"
   ]
  },
  {
   "cell_type": "markdown",
   "id": "c3e0dceb",
   "metadata": {},
   "source": [
    "这里我们通过这一段bash脚本，XS-GEM5运行hello word。运行结束之后可以输出“Hello，Xiangshan!”\n",
    "\n",
    "\n",
    "Here, we use this bash script to run the XS-GEM5 simulation of “hello world.”\n",
    "\n",
    "After the execution finishes, it will output: “Hello, Xiangshan!”"
   ]
  },
  {
   "cell_type": "markdown",
   "id": "b508836d",
   "metadata": {},
   "source": [
    "大家如果有问题可以举手示意，我们的小伙伴会帮助大家。\n",
    "\n",
    "If anyone has questions, please raise your hand and our team members will help you."
   ]
  }
 ],
 "metadata": {
  "kernelspec": {
   "display_name": "Python 3",
   "language": "python",
   "name": "python3"
  },
  "language_info": {
   "codemirror_mode": {
    "name": "ipython",
    "version": 3
   },
   "file_extension": ".py",
   "mimetype": "text/x-python",
   "name": "python",
   "nbconvert_exporter": "python",
   "pygments_lexer": "ipython3",
   "version": "3.10.12"
  }
 },
 "nbformat": 4,
 "nbformat_minor": 5
}
