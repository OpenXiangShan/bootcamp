{
 "cells": [
  {
   "cell_type": "markdown",
   "id": "06656646",
   "metadata": {},
   "source": [
    "# 初次运行"
   ]
  },
  {
   "cell_type": "code",
   "execution_count": null,
   "id": "762161c6",
   "metadata": {
    "vscode": {
     "languageId": "shellscript"
    }
   },
   "outputs": [],
   "source": [
    "%%bash\n",
    "#!/usr/bin/env bash\n",
    "\n",
    "pushd ../ && source env.sh && popd\n",
    "\n",
    "pushd $gem5_home && \\\n",
    "export LD_LIBRARY_PATH=$gem5_home/ext/dramsim3/DRAMsim3:$LD_LIBRARY_PATH && \\\n",
    "export GCBV_REF_SO=$gem5_home/riscv64-nemu-interpreter-c1469286ca32-so && \\\n",
    "mkdir -p util/xs_scripts/coremark && \\\n",
    "cd util/xs_scripts/coremark && \\\n",
    "$gem5_home/build/RISCV/gem5.opt $gem5_home/configs/example/xiangshan.py \\\n",
    "--raw-cpt --generic-rv-cpt=$NOOP_HOME/ready-to-run/coremark-2-iteration.bin && \\\n",
    "popd"
   ]
  }
 ],
 "metadata": {
  "kernelspec": {
   "display_name": "Python 3",
   "language": "python",
   "name": "python3"
  },
  "language_info": {
   "codemirror_mode": {
    "name": "ipython",
    "version": 3
   },
   "file_extension": ".py",
   "mimetype": "text/x-python",
   "name": "python",
   "nbconvert_exporter": "python",
   "pygments_lexer": "ipython3",
   "version": "3.13.4"
  }
 },
 "nbformat": 4,
 "nbformat_minor": 5
}
