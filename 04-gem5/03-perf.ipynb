{
 "cells": [
  {
   "cell_type": "markdown",
   "id": "4a15d17a",
   "metadata": {},
   "source": [
    "# 性能分析"
   ]
  },
  {
   "cell_type": "markdown",
   "id": "c39557aa",
   "metadata": {},
   "source": [
    "## 查看 TopDown 计数器"
   ]
  },
  {
   "cell_type": "markdown",
   "id": "63f50b78",
   "metadata": {},
   "source": [
    "我们使用 gem5_data_proc 仓库下的脚本来处理上节运行 GEM5 得到的原始数据，获取 top-down 计数器"
   ]
  },
  {
   "cell_type": "code",
   "execution_count": null,
   "id": "1ab58f10",
   "metadata": {
    "vscode": {
     "languageId": "shellscript"
    }
   },
   "outputs": [],
   "source": [
    "%%bash\n",
    "cd .. && source env.sh\n",
    "\n",
    "python3 ${GEM5_DATA_PROC_HOME}/batch.py \\\n",
    "    -s ${WORK_DIR}/04-gem5/02-first-run \\\n",
    "    -t --topdown-raw"
   ]
  },
  {
   "cell_type": "markdown",
   "id": "f84963aa",
   "metadata": {},
   "source": [
    "## 查看 Cache MPKI数据"
   ]
  },
  {
   "cell_type": "markdown",
   "id": "0138e4a3",
   "metadata": {},
   "source": [
    "类似地，我们也可以查看 Cache MPKI 数据。上节运行的 hello-world 不具有代表性，这里我们换为使用事先运行 SPEC06 切片得到的结果"
   ]
  },
  {
   "cell_type": "code",
   "execution_count": null,
   "id": "d6b9c38c",
   "metadata": {
    "vscode": {
     "languageId": "shellscript"
    }
   },
   "outputs": [],
   "source": [
    "%%bash\n",
    "cd .. && source env.sh\n",
    "\n",
    "mkdir -p ${WORK_DIR}/04-gem5/03-perf\n",
    "cd ${WORK_DIR}/04-gem5/03-perf\n",
    "\n",
    "export PYTHONPATH=${GEM5_DATA_PROC_HOME}\n",
    "ulimit -n 65535\n",
    "\n",
    "python3 ${GEM5_DATA_PROC_HOME}/batch.py \\\n",
    "    -s $(get_asset gem5-spec-topdown-result) \\\n",
    "    -o gem5-cache-example.csv \\\n",
    "    --cache \\\n",
    "    > /dev/null\n",
    "\n",
    "mkdir -p results\n",
    "\n",
    "python3 ${GEM5_DATA_PROC_HOME}/simpoint_cpt/compute_weighted.py \\\n",
    "    -r gem5-cache-example.csv \\\n",
    "    -j $(get_asset gem5-spec-topdown-result/cluster-0-0.json) \\\n",
    "    -o weighted.csv \\\n",
    "    | tail -n 33"
   ]
  },
  {
   "cell_type": "markdown",
   "id": "fafad926",
   "metadata": {},
   "source": [
    "## SPEC06 算分"
   ]
  },
  {
   "cell_type": "markdown",
   "id": "68867a70",
   "metadata": {},
   "source": [
    "我们还可以根据切片的权重和运行结果**估算**运行完整 SPEC06 的分数"
   ]
  },
  {
   "cell_type": "code",
   "execution_count": null,
   "id": "8f8a4cac",
   "metadata": {
    "vscode": {
     "languageId": "shellscript"
    }
   },
   "outputs": [],
   "source": [
    "%%bash\n",
    "cd .. && source env.sh\n",
    "\n",
    "mkdir -p ${WORK_DIR}/04-gem5/03-perf\n",
    "cd ${WORK_DIR}/04-gem5/03-perf\n",
    "\n",
    "export PYTHONPATH=${GEM5_DATA_PROC_HOME}\n",
    "ulimit -n 65535\n",
    "\n",
    "python3 ${GEM5_DATA_PROC_HOME}/batch.py \\\n",
    "    -s $(get_asset gem5-spec-topdown-result) \\\n",
    "    -o gem5-score-example.csv \\\n",
    "    > /dev/null\n",
    "\n",
    "mkdir -p results\n",
    "\n",
    "python3 ${GEM5_DATA_PROC_HOME}/simpoint_cpt/compute_weighted.py \\\n",
    "    -r gem5-score-example.csv \\\n",
    "    -j $(get_asset gem5-spec-topdown-result/cluster-0-0.json) \\\n",
    "    --score score.csv \\\n",
    "    | tail -n 41"
   ]
  }
 ],
 "metadata": {
  "kernelspec": {
   "display_name": "Python 3",
   "language": "python",
   "name": "python3"
  },
  "language_info": {
   "codemirror_mode": {
    "name": "ipython",
    "version": 3
   },
   "file_extension": ".py",
   "mimetype": "text/x-python",
   "name": "python",
   "nbconvert_exporter": "python",
   "pygments_lexer": "ipython3",
   "version": "3.12.3"
  }
 },
 "nbformat": 4,
 "nbformat_minor": 5
}
