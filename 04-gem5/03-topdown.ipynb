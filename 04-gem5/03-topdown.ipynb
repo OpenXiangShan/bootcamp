{
 "cells": [
  {
   "cell_type": "markdown",
   "id": "4a15d17a",
   "metadata": {},
   "source": [
    "# 查看 TopDown 计数器"
   ]
  },
  {
   "cell_type": "code",
   "execution_count": null,
   "id": "1ab58f10",
   "metadata": {
    "vscode": {
     "languageId": "shellscript"
    }
   },
   "outputs": [],
   "source": [
    "%%bash\n",
    "#!/usr/bin/env bash\n",
    "\n",
    "pushd ../ >/dev/null && source env.sh >/dev/null && popd >/dev/null\n",
    "\n",
    "pushd xs-gem5/gem5_data_proc && \\\n",
    "python3 batch.py \\\n",
    "  -s $GEM5_HOME/util/xs_scripts/coremark \\\n",
    "  -t --topdown-raw && \\\n",
    "popd"
   ]
  }
 ],
 "metadata": {
  "kernelspec": {
   "display_name": "Python 3",
   "language": "python",
   "name": "python3"
  },
  "language_info": {
   "codemirror_mode": {
    "name": "ipython",
    "version": 3
   },
   "file_extension": ".py",
   "mimetype": "text/x-python",
   "name": "python",
   "nbconvert_exporter": "python",
   "pygments_lexer": "ipython3",
   "version": "3.13.4"
  }
 },
 "nbformat": 4,
 "nbformat_minor": 5
}
