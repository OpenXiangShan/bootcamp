{
 "cells": [
  {
   "cell_type": "markdown",
   "id": "377ebdc7",
   "metadata": {
    "editable": true,
    "slideshow": {
     "slide_type": "slide"
    },
    "tags": []
   },
   "source": [
    "# 00-欢迎来到香山Tutorial！\n",
    "**00-Welcome to the XiangShan Tutorial**\n",
    "\n",
    "## 登录服务器\n",
    "\n",
    "**Login to the provided cloud server**\n",
    "\n",
    "⚠️ 注意： 如果您已经登录了服务器，无需进行以下步骤。\n",
    "\n",
    "⚠️ Note: If you have already logged into the server, you can skip the following steps.\n",
    "\n",
    "Use tutorial environment in your laptop.\n",
    "\n",
    "1. Open <https://t.xiangshan.cc> in your browser\n",
    "2. Enter Password: TO BE DISCLOSED ON SITE\n",
    "3. By Default you should see a terminal\n",
    "    1. If not, click Menu (triple dashes) on the top-left corner, then \"Terminal > New Terminal\"\n",
    "4. Run `./start.sh` in the terminal    \n",
    "    1. This will create a unique random id for you，then it will enter your workspace `/data/${random}` # Maby need to trust author of folder\n",
    "5. When your workspace is created, it should be opened automatically\n",
    "    1. If not, click \"Menu > File > Open Folder\"， enter `/data/${random}`. then click \"OK\"\n",
    "\n",
    "在你的电脑上使用 tutorial 环境：\n",
    "\n",
    "1. 打开浏览器，输入 <https://t.xiangshan.cc>\n",
    "2. 输入密码：TO BE DISCLOSED ON SITE\n",
    "3. 进入之后默认会看到一个 terminal\n",
    "    1. 如果您没有看到，只需要点击左上角的菜单，然后点击 \"Terminal > New Terminal\"\n",
    "4. 在 Terminal 输入 `./start.sh`     \n",
    "   1. 这会为您创建一个唯一的随机 id，之后会进入您的工作目录 `/data/${random}` # 复制目录, 可能需要点击信任目录\n",
    "5. 当您的工作目录被创建的时候，会被自动打开\n",
    "   1. 如果没有打开，点击 “Menu > File > Open Folder”，进入 `/data/${random}`，之后点击 “OK”。"
   ]
  },
  {
   "cell_type": "markdown",
   "id": "8f5de1ce",
   "metadata": {},
   "source": [
    "\n",
    "本节中，我们将对本次 tutorial 做出一些说明\n",
    "\n",
    "- 以 `%%bash` 开头的单元格是 bash 脚本，其余是 python 代码\n",
    "\n",
    "- 以 `#` 开头的行是注释\n",
    "\n",
    "In this section, we will give some notes on this tutorial.\n",
    "\n",
    "- Cells that start with %%bash are Bash scripts; the rest are Python code.\n",
    "\n",
    "- Lines that start with # are comments."
   ]
  },
  {
   "cell_type": "markdown",
   "id": "975b580a",
   "metadata": {},
   "source": [
    "您可以点击单元格左上角的 ▶ 键来运行单个单元格，输出会显示在单元格下方\n",
    "\n",
    "You can click ▶ in the top-left corner of a cell to run that single cell; the output will be displayed below the cell.\n",
    "\n",
    "运行 cell 前需要选择 “Python environment”， 选择 Python 3.12.3 (第一个)， 每打开一个新的 notebook 都需要选择一次。\n",
    "\n",
    "Running a cell require selecting the 'Python environment'. You need to choose Python 3.12.3 (first one), and you might need to select it each time you open a new notebook."
   ]
  },
  {
   "cell_type": "code",
   "execution_count": null,
   "id": "eeefda3f",
   "metadata": {},
   "outputs": [],
   "source": [
    "%%bash\n",
    "echo \"Welcome to the XiangShan Tutorial!\""
   ]
  },
  {
   "cell_type": "markdown",
   "id": "89d201ac",
   "metadata": {},
   "source": [
    "每一个单元格的工作目录和环境变量都是独立的，因此有一些命令可能需要重复执行。如果您直接在 shell 中执行这些命令，可以跳过重复的部分，如 `source env.sh`。\n",
    "\n",
    "Each cell has its own working directory and environment variables, so some commands may need to be rerun. If you execute these commands directly in the shell, you can skip the repetitive parts, e.g. `source env.sh`."
   ]
  },
  {
   "cell_type": "code",
   "execution_count": null,
   "id": "0b360cc3",
   "metadata": {},
   "outputs": [],
   "source": [
    "%%bash\n",
    "# Change the working directory in this cell.\n",
    "cd ../\n",
    "pwd"
   ]
  },
  {
   "cell_type": "code",
   "execution_count": null,
   "id": "dffd1067",
   "metadata": {},
   "outputs": [],
   "source": [
    "%%bash\n",
    "# Changing the working directory in other cells does not affect this cell.\n",
    "pwd"
   ]
  },
  {
   "cell_type": "markdown",
   "id": "f9b1a43b",
   "metadata": {},
   "source": [
    "香山现在有了与开发同步的设计文档，Github 仓库链接为 [https://github.com/OpenXiangShan/XiangShan-Design-Doc](https://github.com/OpenXiangShan/XiangShan-Design-Doc)\n",
    "\n",
    "XiangShan has design documentation synchronized with development; the GitHub repository is [https://github.com/OpenXiangShan/XiangShan-Design-Doc](https://github.com/OpenXiangShan/XiangShan-Design-Doc)\n",
    "\n",
    "我们同时部署了设计文档网站，网址为 [https://docs.xiangshan.cc/projects/design](https://docs.xiangshan.cc/projects/design)\n",
    "\n",
    "We have also deployed the design documentation website at [https://docs.xiangshan.cc/projects/design](https://docs.xiangshan.cc/projects/design)\n",
    "\n",
    "\n",
    "\n",
    "\n",
    "\n"
   ]
  }
 ],
 "metadata": {
  "kernelspec": {
   "display_name": "Python 3 (ipykernel)",
   "language": "python",
   "name": "python3"
  },
  "language_info": {
   "codemirror_mode": {
    "name": "ipython",
    "version": 3
   },
   "file_extension": ".py",
   "mimetype": "text/x-python",
   "name": "python",
   "nbconvert_exporter": "python",
   "pygments_lexer": "ipython3",
   "version": "3.10.12"
  }
 },
 "nbformat": 4,
 "nbformat_minor": 5
}
