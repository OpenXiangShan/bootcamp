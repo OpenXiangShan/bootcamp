{
 "cells": [
  {
   "cell_type": "markdown",
   "id": "660a7acb",
   "metadata": {},
   "source": [
    "# 编译 XS-GEM5  Complie XS-GEM5"
   ]
  },
  {
   "cell_type": "markdown",
   "id": "1b0b1913",
   "metadata": {},
   "source": [
    "这里我们将展示XS-GEM5的编译流程\n",
    "\n",
    "Here we will demonstrate the compilation process of XS-GEM5"
   ]
  },
  {
   "cell_type": "markdown",
   "id": "e6c19ac7",
   "metadata": {},
   "source": [
    "XS-GEM5 使用 DRAMsim3 作为内存模拟器，在编译运行 XS-GEM5 之前需要先编译 DRAMsim3。\n",
    "\n",
    "XS-GEM5 uses DRAMsim3 as its memory simulator.\n",
    "\n",
    "Before compiling and running XS-GEM5, we need to compile DRAMsim3 first."
   ]
  },
  {
   "cell_type": "code",
   "execution_count": null,
   "id": "eb595c8f",
   "metadata": {
    "vscode": {
     "languageId": "shellscript"
    }
   },
   "outputs": [],
   "source": [
    "%%bash\n",
    "cd .. && source env.sh\n",
    "pwd\n",
    "who am i\n",
    "cd ${GEM5_HOME}/ext/dramsim3\n",
    "\n",
    "if [ ! -d \"DRAMsim3\" ]; then\n",
    "    git clone https://github.com/umd-memsys/DRAMSim3.git DRAMsim3\n",
    "fi\n",
    "\n",
    "mkdir -p DRAMsim3/build\n",
    "cd DRAMsim3/build\n",
    "cmake ..\n",
    "make -j `nproc`"
   ]
  },
  {
   "cell_type": "markdown",
   "id": "a240ab3b",
   "metadata": {},
   "source": [
    "等待编译完毕会获得编译好的Dramsim3，是我们接下来实验的重要部分。\n",
    "\n",
    "\n",
    "Wait for the compilation to finish, and we will obtain the compiled Dramsim3, which is an important component for our upcoming experiments."
   ]
  },
  {
   "cell_type": "markdown",
   "id": "a8051e5e",
   "metadata": {},
   "source": [
    "随后可以使用 scons 编译 GEM5。\n",
    "\n",
    "`--linker=mold` 是可选的，可以加速编译过程，需要事先安装 mold 链接器，我们提供的 code-server 镜像中已经包含。\n",
    "\n",
    "以上命令最后会生成 gem5.opt文件。\n",
    "\n",
    "Then you can use scons to compile GEM5.\n",
    "\n",
    "The option --linker=mold is optional and can speed up the compilation process\n",
    "You need to install the mold linker beforehand, but it is already included in our code-server image.\n",
    "\n",
    "The above command will generate the gem5.opt file."
   ]
  },
  {
   "cell_type": "code",
   "execution_count": null,
   "id": "c8ac076e",
   "metadata": {
    "vscode": {
     "languageId": "shellscript"
    }
   },
   "outputs": [],
   "source": [
    "%%bash\n",
    "cd .. && source env.sh\n",
    "cd ${GEM5_HOME}\n",
    "\n",
    "scons build/RISCV/gem5.opt --linker=mold -j8 `nproc`"
   ]
  }
 ],
 "metadata": {
  "kernelspec": {
   "display_name": "Python 3",
   "language": "python",
   "name": "python3"
  },
  "language_info": {
   "codemirror_mode": {
    "name": "ipython",
    "version": 3
   },
   "file_extension": ".py",
   "mimetype": "text/x-python",
   "name": "python",
   "nbconvert_exporter": "python",
   "pygments_lexer": "ipython3",
   "version": "3.10.12"
  }
 },
 "nbformat": 4,
 "nbformat_minor": 5
}
