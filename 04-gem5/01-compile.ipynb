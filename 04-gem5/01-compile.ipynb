{
 "cells": [
  {
   "cell_type": "markdown",
   "id": "660a7acb",
   "metadata": {},
   "source": [
    "# 编译 GEM5"
   ]
  },
  {
   "cell_type": "markdown",
   "id": "e6c19ac7",
   "metadata": {},
   "source": [
    "GEM5 使用 DRAMsim3 作为内存模拟器，在编译运行 GEM5 之前需要先编译 DRAMsim3"
   ]
  },
  {
   "cell_type": "code",
   "execution_count": null,
   "id": "eb595c8f",
   "metadata": {
    "vscode": {
     "languageId": "shellscript"
    }
   },
   "outputs": [],
   "source": [
    "%%bash\n",
    "cd .. && source env.sh\n",
    "cd ${GEM5_HOME}/ext/dramsim3\n",
    "\n",
    "if [ ! -d \"DRAMsim3\" ]; then\n",
    "    git clone https://github.com/umd-memsys/DRAMSim3.git DRAMsim3\n",
    "fi\n",
    "\n",
    "mkdir -p DRAMsim3/build\n",
    "cd DRAMsim3/build\n",
    "cmake ..\n",
    "make -j `nproc`"
   ]
  },
  {
   "cell_type": "markdown",
   "id": "a8051e5e",
   "metadata": {},
   "source": [
    "随后可以使用 scons 编译 GEM5\n",
    "\n",
    "`--linker=mold` 是可选的，可以加速编译过程，需要事先安装 mold 链接器，我们提供的 code-server 镜像中已经包含"
   ]
  },
  {
   "cell_type": "code",
   "execution_count": null,
   "id": "c8ac076e",
   "metadata": {
    "vscode": {
     "languageId": "shellscript"
    }
   },
   "outputs": [],
   "source": [
    "%%bash\n",
    "cd .. && source env.sh\n",
    "cd ${GEM5_HOME}\n",
    "\n",
    "scons build/RISCV/gem5.opt --linker=mold -j `nproc`"
   ]
  }
 ],
 "metadata": {
  "kernelspec": {
   "display_name": "Python 3",
   "language": "python",
   "name": "python3"
  },
  "language_info": {
   "codemirror_mode": {
    "name": "ipython",
    "version": 3
   },
   "file_extension": ".py",
   "mimetype": "text/x-python",
   "name": "python",
   "nbconvert_exporter": "python",
   "pygments_lexer": "ipython3",
   "version": "3.12.3"
  }
 },
 "nbformat": 4,
 "nbformat_minor": 5
}
