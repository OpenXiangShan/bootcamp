{
 "cells": [
  {
   "cell_type": "markdown",
   "id": "660a7acb",
   "metadata": {},
   "source": [
    "# 编译运行 GEM5"
   ]
  },
  {
   "cell_type": "code",
   "execution_count": null,
   "id": "2f2c9ce0",
   "metadata": {
    "vscode": {
     "languageId": "shellscript"
    }
   },
   "outputs": [],
   "source": [
    "%%bash\n",
    "\n",
    "pushd ../ && source env.sh && popd\n",
    "\n",
    "check_env() {\n",
    "    if [[ -z \"${GEM5_HOME}\" ]]; then\n",
    "        echo \"Error: No GEM5_HOME found\" 1>&2\n",
    "        return 1\n",
    "    fi\n",
    "}\n",
    "\n",
    "prepare_gem5() {\n",
    "    if [ -f \"$GEM5_HOME/ext/dramsim3/DRAMsim3/libdramsim3.so\" ]; then\n",
    "        echo \"DRAMSim3 already built, skip building DRAMSim3\"\n",
    "        return 0\n",
    "    fi\n",
    "    pushd $GEM5_HOME && \\\n",
    "    cd ext/dramsim3 && \\\n",
    "    (stat DRAMsim3 || git clone https://github.com/umd-memsys/DRAMSim3.git DRAMsim3) && \\\n",
    "    cd DRAMsim3 && mkdir -p build && cd build && cmake .. && make -j `nproc` && \\\n",
    "    popd\n",
    "}\n",
    "\n",
    "build_gem5() {\n",
    "    if [ -f \"$GEM5_HOME/build/RISCV/gem5.opt\" ]; then\n",
    "        echo \"gem5 already built, skip building gem5\"\n",
    "        return 0\n",
    "    fi\n",
    "    pushd $GEM5_HOME && \\\n",
    "    scons build/RISCV/gem5.opt --linker=mold -j `nproc` && \\\n",
    "    popd\n",
    "}\n",
    "\n",
    "prepare_data_proc() {\n",
    "    # Validated commit for tutorial: 4000c092b8bde21fd4aa493f9907fa100dbcb3fc\n",
    "    pushd xs-gem5 && \\\n",
    "    (stat gem5_data_proc || git clone https://github.com/shinezyy/gem5_data_proc.git) && \\\n",
    "    pushd gem5_data_proc && \\\n",
    "    git reset --hard 4000c092b8bde21fd4aa493f9907fa100dbcb3fc && \\\n",
    "    pip3 install -r requirements.txt && \\\n",
    "    popd && \\\n",
    "    popd\n",
    "}\n",
    "\n",
    "check_env && prepare_gem5 && build_gem5 && build_nemu_diff && prepare_data_proc"
   ]
  }
 ],
 "metadata": {
  "kernelspec": {
   "display_name": "Python 3",
   "language": "python",
   "name": "python3"
  },
  "language_info": {
   "codemirror_mode": {
    "name": "ipython",
    "version": 3
   },
   "file_extension": ".py",
   "mimetype": "text/x-python",
   "name": "python",
   "nbconvert_exporter": "python",
   "pygments_lexer": "ipython3",
   "version": "3.12.3"
  }
 },
 "nbformat": 4,
 "nbformat_minor": 5
}
