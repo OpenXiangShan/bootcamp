{
 "cells": [
  {
   "cell_type": "markdown",
   "id": "c54d430d",
   "metadata": {},
   "source": [
    "# SPEC06 算分\n",
    "\n",
    "在这里，我们采用的是一个已经运行完成的 SPEC06 Simpoint 测试结果。你可以在 `data` 目录下找到相关的文件。"
   ]
  },
  {
   "cell_type": "code",
   "execution_count": null,
   "id": "42d48dec",
   "metadata": {
    "vscode": {
     "languageId": "shellscript"
    }
   },
   "outputs": [],
   "source": [
    "%%bash\n",
    "\n",
    "#!/usr/bin/env bash\n",
    "\n",
    "pushd ../ >/dev/null && source env.sh >/dev/null && popd >/dev/null\n",
    "\n",
    "pushd xs-gem5/gem5_data_proc && \\\n",
    "mkdir -p results && \\\n",
    "export PYTHONPATH=`pwd` && \\\n",
    "ulimit -n 65535 && \\\n",
    "python3 batch.py -s ../data/xs-model-l1bank -o gem5-score-example.csv > /dev/null && \\\n",
    "python3 simpoint_cpt/compute_weighted.py \\\n",
    "    -r gem5-score-example.csv \\\n",
    "    -j ../data/xs-model-l1bank/cluster-0-0.json \\\n",
    "    --score score.csv | tail -n 41 && \\\n",
    "popd\n"
   ]
  }
 ],
 "metadata": {
  "kernelspec": {
   "display_name": "Python 3",
   "language": "python",
   "name": "python3"
  },
  "language_info": {
   "codemirror_mode": {
    "name": "ipython",
    "version": 3
   },
   "file_extension": ".py",
   "mimetype": "text/x-python",
   "name": "python",
   "nbconvert_exporter": "python",
   "pygments_lexer": "ipython3",
   "version": "3.13.4"
  }
 },
 "nbformat": 4,
 "nbformat_minor": 5
}
