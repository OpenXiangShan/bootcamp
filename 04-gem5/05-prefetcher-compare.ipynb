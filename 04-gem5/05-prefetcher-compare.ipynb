{
 "cells": [
  {
   "cell_type": "markdown",
   "metadata": {},
   "source": [
    "# 多种预取器性能对比\n",
    "# Performance comparison of multiple prefetchers"
   ]
  },
  {
   "cell_type": "markdown",
   "metadata": {},
   "source": [
    "XS-GEM5集成了多种通用预取器，这里我们使用实现运行好的SPEC06切片的结果，来对比不同预取器获得的性能收益的差异。\n",
    "\n",
    "XS-GEM5 integrates multiple general-purpose prefetchers. Here, we use the results of pre-executed SPEC06 slices to compare the performance gains achieved by different prefetchers."
   ]
  },
  {
   "cell_type": "markdown",
   "metadata": {},
   "source": [
    "我们使用事先运行好的、未开启预取器的 SPEC06 结果作为baseline分数进行对比。\n",
    "\n",
    "We use the pre-executed SPEC06 results obtained without enabling any prefetcher as the baseline for comparison."
   ]
  },
  {
   "cell_type": "code",
   "execution_count": null,
   "metadata": {},
   "outputs": [],
   "source": [
    "%%bash\n",
    "cd .. && source env.sh\n",
    "\n",
    "mkdir -p ${WORK_DIR}/04-gem5/05-compare\n",
    "cd ${WORK_DIR}/04-gem5/05-compare\n",
    "\n",
    "export PYTHONPATH=${GEM5_DATA_PROC_HOME}\n",
    "ulimit -n 65535\n",
    "\n",
    "python3 ${GEM5_DATA_PROC_HOME}/batch.py \\\n",
    "    -s $(get_asset gem5-spec06-baseline) \\\n",
    "    -o gem5-pbaseline.csv \\\n",
    "    > /dev/null\n",
    "\n",
    "mkdir -p results\n",
    "\n",
    "python3 ${GEM5_DATA_PROC_HOME}/simpoint_cpt/compute_weighted.py \\\n",
    "    -r gem5-pbaseline.csv \\\n",
    "    -j $(get_asset gem5-spec-topdown-result/cluster-0-0.json) \\\n",
    "    --score pbaseline-score.csv \\\n",
    "    | tail -n 41"
   ]
  },
  {
   "cell_type": "markdown",
   "metadata": {},
   "source": [
    "得到打开 bop 预取器的SPEC 06分数。\n",
    "\n",
    "Obtain the SPEC06 score with the BOP prefetcher enabled."
   ]
  },
  {
   "cell_type": "code",
   "execution_count": null,
   "metadata": {},
   "outputs": [],
   "source": [
    "%%bash\n",
    "cd .. && source env.sh\n",
    "\n",
    "cd ${WORK_DIR}/04-gem5/05-compare\n",
    "\n",
    "export PYTHONPATH=${GEM5_DATA_PROC_HOME}\n",
    "ulimit -n 65535\n",
    "\n",
    "python3 ${GEM5_DATA_PROC_HOME}/batch.py \\\n",
    "    -s $(get_asset gem5-spec06-bop) \\\n",
    "    -o gem5-bop.csv \\\n",
    "    > /dev/null\n",
    "\n",
    "#mkdir -p results\n",
    "\n",
    "python3 ${GEM5_DATA_PROC_HOME}/simpoint_cpt/compute_weighted.py \\\n",
    "    -r gem5-bop.csv \\\n",
    "    -j $(get_asset gem5-spec-topdown-result/cluster-0-0.json) \\\n",
    "    --score pbop-score.csv \\\n",
    "    | tail -n 41"
   ]
  },
  {
   "cell_type": "markdown",
   "metadata": {},
   "source": [
    "对比开启 BOP 预取器后的 SPEC06 分数与baseline分数，从而获得 BOP 预取器的性能收益。\n",
    "\n",
    "Compare the SPEC06 score with the BOP prefetcher enabled against the baseline score to obtain the performance gain of the BOP prefetcher."
   ]
  },
  {
   "cell_type": "code",
   "execution_count": null,
   "metadata": {},
   "outputs": [],
   "source": [
    "%%bash\n",
    "cd .. && source env.sh\n",
    "cd ${WORK_DIR}/04-gem5/05-compare\n",
    "\n",
    "python3 $(get_asset gem5-spec06-baseline/compare.py) \\\n",
    "    pbaseline-score.csv pbop-score.csv bop-score-compare.csv\n"
   ]
  },
  {
   "cell_type": "markdown",
   "metadata": {},
   "source": [
    "得到打开 SMS 预取器的SPEC 06分数。\n",
    "\n",
    "Obtain the SPEC06 score with the SMS prefetcher enabled."
   ]
  },
  {
   "cell_type": "code",
   "execution_count": null,
   "metadata": {},
   "outputs": [],
   "source": [
    "%%bash\n",
    "cd .. && source env.sh\n",
    "\n",
    "cd ${WORK_DIR}/04-gem5/05-compare\n",
    "\n",
    "export PYTHONPATH=${GEM5_DATA_PROC_HOME}\n",
    "ulimit -n 65535\n",
    "\n",
    "python3 ${GEM5_DATA_PROC_HOME}/batch.py \\\n",
    "    -s $(get_asset gem5-spec06-sms) \\\n",
    "    -o gem5-sms.csv \\\n",
    "    > /dev/null\n",
    "\n",
    "#mkdir -p results\n",
    "\n",
    "python3 ${GEM5_DATA_PROC_HOME}/simpoint_cpt/compute_weighted.py \\\n",
    "    -r gem5-sms.csv \\\n",
    "    -j $(get_asset gem5-spec-topdown-result/cluster-0-0.json) \\\n",
    "    --score psms-score.csv \\\n",
    "    | tail -n 41"
   ]
  },
  {
   "cell_type": "markdown",
   "metadata": {},
   "source": [
    "对比开启 SMS 预取器后的 SPEC06 分数与baseline分数，从而获得 SMS 预取器的性能收益。\n",
    "\n",
    "Compare the SPEC06 score with the SMS prefetcher enabled against the baseline score to obtain the performance gain of the SMS prefetcher."
   ]
  },
  {
   "cell_type": "code",
   "execution_count": null,
   "metadata": {},
   "outputs": [],
   "source": [
    "%%bash\n",
    "cd .. && source env.sh\n",
    "cd ${WORK_DIR}/04-gem5/05-compare\n",
    "\n",
    "python3 $(get_asset gem5-spec06-baseline/compare.py) \\\n",
    "    pbaseline-score.csv psms-score.csv sms-score-compare.csv"
   ]
  }
 ],
 "metadata": {
  "kernelspec": {
   "display_name": "Python 3",
   "language": "python",
   "name": "python3"
  },
  "language_info": {
   "name": "python",
   "version": "3.10.12"
  }
 },
 "nbformat": 4,
 "nbformat_minor": 2
}
