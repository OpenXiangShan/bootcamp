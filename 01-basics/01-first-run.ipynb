{
 "cells": [
  {
   "cell_type": "markdown",
   "id": "822d16c0",
   "metadata": {},
   "source": [
    "# 第一次运行\n",
    "\n",
    "在本节中，我们将演示 XiangShan 最简单的编译和运行流程。\n",
    "\n",
    "xs-env 仓库提供了编译和运行 XiangShan 所需的环境配置脚本，您可以直接从 github 克隆该仓库。"
   ]
  },
  {
   "cell_type": "code",
   "execution_count": null,
   "id": "796276a6",
   "metadata": {},
   "outputs": [],
   "source": [
    "%%bash\n",
    "# 本次 tutorial 中，我们已经配置好本地目录，故不需要执行这些命令，以下命令供参考\n",
    "# 克隆仓库\n",
    "# git clone https://github.com/OpenXiangShan/xs-env.sh \n",
    "# 进入 xs-env\n",
    "# cd xs-env\n",
    "# 切换分支\n",
    "# git checkout -b tutorial-2025 origin/tutorial-2025\n",
    "# 安装依赖，你可以修改使用不同的包管理工具\n",
    "# sudo -s ./setup-tools.sh\n",
    "# 准备工具，测试开发环境\n",
    "# source setup.sh\n",
    "# 更新子模块仓库\n",
    "# ./update-submodule.sh"
   ]
  },
  {
   "cell_type": "markdown",
   "id": "69b37ee7",
   "metadata": {},
   "source": [
    "随后我们就可以开始开发了。"
   ]
  },
  {
   "cell_type": "markdown",
   "id": "4d4714a1",
   "metadata": {},
   "source": [
    "XiangShan 的编译和运行依赖一些环境变量，xs-env 的 `env.sh` 脚本会帮我们配置好。每开启一个新终端都需要执行该脚本，您可以将其配置到您的 `.bashrc` 配置文件中。如 00-welcome 一节所述，在本次 tutorial 中，每个单元格都相当于一个新的 bash 环境，故每个单元格都需要重新执行。"
   ]
  },
  {
   "cell_type": "code",
   "execution_count": null,
   "id": "a566c709",
   "metadata": {},
   "outputs": [],
   "source": [
    "%%bash\n",
    "cd ../ && source env.sh\n",
    "\n",
    "env | grep _HOME"
   ]
  },
  {
   "cell_type": "markdown",
   "id": "53a8ce33",
   "metadata": {},
   "source": [
    "配置好环境变量以后，我们可以直接进入 `${NOOP_HOME}`（指向 `xs-env/XiangShan`）来编译 XiangShan。\n",
    "\n",
    "编译参数我们将在后面进行介绍。"
   ]
  },
  {
   "cell_type": "markdown",
   "id": "754a7472",
   "metadata": {},
   "source": [
    "同时我们还可以使用 tree 来查看项目结构"
   ]
  },
  {
   "cell_type": "code",
   "execution_count": null,
   "id": "f0a2ff2c",
   "metadata": {},
   "outputs": [],
   "source": [
    "%%bash\n",
    "tree -d -L 1 .."
   ]
  },
  {
   "cell_type": "markdown",
   "id": "5cf1d48b",
   "metadata": {},
   "source": [
    "香山提供了数百个可自由定制的参数。其中，\n",
    "\n",
    "- `src/main/scala/top/Configs.scala` 定义了处理器核参数\n",
    "- SoC 参数通过 yaml 文件在编译时传递，`src/main/resources/config/Default.yaml` 是默认配置\n",
    "\n",
    "您可以通过 Ctrl+P 快捷键打开文件搜索，输入上述文件后可以快速跳转"
   ]
  },
  {
   "cell_type": "markdown",
   "id": "48336940",
   "metadata": {},
   "source": [
    "确定好配置后，我们就可以开始编译香山，获取 Verilog 和仿真程序了"
   ]
  },
  {
   "cell_type": "code",
   "execution_count": null,
   "id": "070b891e",
   "metadata": {},
   "outputs": [],
   "source": [
    "%%bash\n",
    "cd .. && source env.sh\n",
    "cd ${NOOP_HOME}\n",
    "\n",
    "# 注意⚠️：编译 XiangShan 非常占用计算资源，在本次 Tutorial 中请使用编译好的二进制文件，不要真的执行下面的命令\n",
    "# 参考配置：16 核，64GB 物理内存\n",
    "# make emu -j16 CONFIG=MinimalConfig\n",
    "\n",
    "# 其他编译选项\n",
    "# CONFIG=MinimalConfig  香山的配置\n",
    "# EMU_THREADS=4         仿真线程数\n",
    "# EMU_TRACE=1           启用波形\n",
    "# WITH_DRAMSIM=1        使用 DRAMSim3 模拟 DRAM\n",
    "# WITH_CHISELDB = 1     启用 ChiselDB 特性\n",
    "# WITH_CONSTANTIN = 1   启用 Constantin 特性"
   ]
  },
  {
   "cell_type": "markdown",
   "id": "6788bcbb",
   "metadata": {},
   "source": [
    "以上命令会生成 build/emu 和 build/rtl 等文件\n",
    "\n",
    "- build/rtl/*.sv 是使用 chisel 编译出的 verilog 文件\n",
    "- build/emu 是进一步使用 verilator 编译出的仿真可执行文件"
   ]
  },
  {
   "cell_type": "markdown",
   "id": "e45413b6",
   "metadata": {},
   "source": [
    "我们可以直接运行 `./build/emu` 对 XiangShan 进行仿真，运行 riscv64 的程序。\n",
    "\n",
    "在本次 tutorial 中我们没有实际编译 emu，因此改为运行 `${ASSET_DIR}/precompile` 目录下预先编译好的 emu\n",
    "\n",
    "运行参数我们将在后面进行介绍。"
   ]
  },
  {
   "cell_type": "code",
   "execution_count": null,
   "id": "f56c829f",
   "metadata": {},
   "outputs": [],
   "source": [
    "%%bash\n",
    "cd .. && source env.sh\n",
    "cd ${NOOP_HOME}\n",
    "\n",
    "$(get_asset emu-precompile/emu) \\\n",
    "    -i $(get_asset workload/hello-riscv64-xs.bin) \\\n",
    "    --no-diff \\\n",
    "    2>/dev/null\n",
    "\n",
    "# 一些关键运行时参数\n",
    "# -i                        待运行的负载\n",
    "# -C / -I                   最大周期数 / 最大指令数\n",
    "# --diff=PATH / --no-diff   参考模型的路径 / 关闭 difftest"
   ]
  },
  {
   "cell_type": "markdown",
   "id": "10e823ee",
   "metadata": {},
   "source": [
    "需要注意，XiangShan 会在运行结束后向 stderr 输出性能计数器信息，文本量非常大，因此无论何时都建议将 stderr 重定向到某一个文件。在上面的示例中，我们不关心性能计数器，因此将其重定向到 `/dev/null`，您可以按需修改。"
   ]
  }
 ],
 "metadata": {
  "kernelspec": {
   "display_name": "Python 3",
   "language": "python",
   "name": "python3"
  },
  "language_info": {
   "codemirror_mode": {
    "name": "ipython",
    "version": 3
   },
   "file_extension": ".py",
   "mimetype": "text/x-python",
   "name": "python",
   "nbconvert_exporter": "python",
   "pygments_lexer": "ipython3",
   "version": "3.12.3"
  }
 },
 "nbformat": 4,
 "nbformat_minor": 5
}
