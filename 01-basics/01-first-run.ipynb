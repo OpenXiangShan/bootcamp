{
 "cells": [
  {
   "cell_type": "markdown",
   "id": "822d16c0",
   "metadata": {},
   "source": [
    "# 第一次运行\n",
    "**First Run**\n",
    "\n",
    "在本节中，我们将演示 XiangShan 最简单的编译和运行流程。\n",
    "\n",
    "In this section, we present the basic workflow for building and running XiangShan.\n",
    "\n",
    "bootcamp 仓库提供了编译和运行 XiangShan 所需的环境配置脚本，您可以直接从 github 克隆该仓库。\n",
    "\n",
    "The bootcamp repository contains the environment setup scripts necessary for compiling and running XiangShan and can be cloned directly from GitHub."
   ]
  },
  {
   "cell_type": "code",
   "execution_count": null,
   "id": "796276a6",
   "metadata": {},
   "outputs": [],
   "source": [
    "%%bash\n",
    "# For this tutorial, the local directories have been preconfigured; therefore, you do not need to execute these commands.\n",
    "# The following commands are provided for reference.\n",
    "\n",
    "# git submodule update --init --recursive    # init submodule"
   ]
  },
  {
   "cell_type": "markdown",
   "id": "69b37ee7",
   "metadata": {},
   "source": [
    "随后我们就可以开始开发了。\n",
    "\n",
    "Then, we can getting start!"
   ]
  },
  {
   "cell_type": "markdown",
   "id": "4d4714a1",
   "metadata": {},
   "source": [
    "XiangShan 的编译和运行依赖一些环境变量，`env.sh` 脚本会帮我们配置好。每开启一个新终端都需要执行该脚本，您可以将其配置到您的 `.bashrc` 配置文件中。如 00-welcome 一节所述，在本次 tutorial 中，每个单元格都相当于一个新的 bash 环境，故每个单元格都需要重新执行。\n",
    "\n",
    "The build and execution of XiangShan rely on specific environment variables, which are provisioned by the `env.sh` script. This script must be sourced whenever a new terminal session is started; to automate this, you can add it to your `.bashrc`. As shown in Section 00-welcome, within this tutorial each cell constitutes a fresh Bash environment; therefore, the script must be re-sourced in every cell."
   ]
  },
  {
   "cell_type": "code",
   "execution_count": null,
   "id": "a566c709",
   "metadata": {},
   "outputs": [],
   "source": [
    "%%bash\n",
    "cd ../ && source env.sh\n",
    "\n",
    "env | grep _HOME"
   ]
  },
  {
   "cell_type": "markdown",
   "id": "53a8ce33",
   "metadata": {},
   "source": [
    "配置好环境变量以后，我们可以直接进入 `${NOOP_HOME}`（指向 `xs-env/XiangShan`）来编译 XiangShan。\n",
    "\n",
    "Running the code block above completes the environment variable setup. After the setup, go to `$NOOP_HOME` (`xs-env/XiangShan`) to build XiangShan. \n",
    "\n",
    "编译参数我们将在后面进行介绍。\n",
    "\n",
    "The build parameters will be introduced later."
   ]
  },
  {
   "cell_type": "markdown",
   "id": "754a7472",
   "metadata": {},
   "source": [
    "同时我们还可以使用 tree 来查看项目结构\n",
    "\n",
    "We can also use the tree command to view the project structure."
   ]
  },
  {
   "cell_type": "code",
   "execution_count": null,
   "id": "f0a2ff2c",
   "metadata": {},
   "outputs": [],
   "source": [
    "%%bash\n",
    "tree -d -L 1 .."
   ]
  },
  {
   "cell_type": "markdown",
   "id": "5cf1d48b",
   "metadata": {},
   "source": [
    "香山提供了数百个可自由定制的参数。其中，\n",
    "\n",
    "- `src/main/scala/top/Configs.scala` 定义了处理器核参数\n",
    "- SoC 参数通过 yaml 文件在编译时传递，`src/main/resources/config/Default.yaml` 是默认配置\n",
    "\n",
    "您可以通过 Ctrl+P 快捷键打开文件搜索，输入上述文件后可以快速跳转\n",
    "\n",
    "XiangShan provides hundreds of user-configurable parameters, including:\n",
    "\n",
    "- `src/main/scala/top/Configs.scala` Defines the processor core parameters.\n",
    "- SoC parameters are passed at build time via yaml files; `src/main/resources/config/Default.yaml` is the default configuration.\n",
    "\n",
    "Press Ctrl+P to open file search, then type the file name above to jump to it quickly."
   ]
  },
  {
   "cell_type": "markdown",
   "id": "48336940",
   "metadata": {},
   "source": [
    "确定好配置后，我们就可以开始编译香山，获取 Verilog 和仿真程序了\n",
    "\n",
    "With the configuration finalized, we can proceed to build XiangShan!"
   ]
  },
  {
   "cell_type": "code",
   "execution_count": null,
   "id": "070b891e",
   "metadata": {},
   "outputs": [],
   "source": [
    "%%bash\n",
    "cd .. && source env.sh\n",
    "cd ${NOOP_HOME}\n",
    "\n",
    "# Warning⚠️：Building XiangShan is highly resource‑intensive; For this tutorial, we’ve prepared a prebuilt binary for you.\n",
    "# Reference setup: 16 CPU cores, 64 GB RAM.\n",
    "# make emu -j16 CONFIG=MinimalConfig\n",
    "\n",
    "# Additional build options\n",
    "# CONFIG=MinimalConfig  XiangShan configuration\n",
    "# EMU_THREADS=4         Simulation thread count\n",
    "# EMU_TRACE=1           Enable waveforms\n",
    "# WITH_DRAMSIM=1        Simulate DRAM with DRAMSim3\n",
    "# WITH_CHISELDB = 1     Enable ChiselDB\n",
    "# WITH_CONSTANTIN = 1   Enable Constantin"
   ]
  },
  {
   "cell_type": "markdown",
   "id": "6788bcbb",
   "metadata": {},
   "source": [
    "以上命令会生成 build/emu 和 build/rtl 等文件\n",
    "\n",
    "- build/rtl/*.sv 是使用 chisel 编译出的 verilog 文件\n",
    "- build/emu 是进一步使用 verilator 编译出的仿真可执行文件\n",
    "\n",
    "The commands above will generate outputs like `build/emu` and `build/rtl`.\n",
    "\n",
    "- build/rtl/*.sv is Verilog files generated by Chisel.\n",
    "- build/emu is a simulation executable further compiled with Verilator."
   ]
  },
  {
   "cell_type": "markdown",
   "id": "e45413b6",
   "metadata": {},
   "source": [
    "我们可以直接运行 `./build/emu` 对 XiangShan 进行仿真，运行 riscv64 的程序。\n",
    "\n",
    "You can run `./build/emu` to simulate XiangShan. \n",
    "\n",
    "在本次 tutorial 中我们没有实际编译 emu，因此改为运行 `${ASSET_DIR}/precompile` 目录下预先编译好的 emu\n",
    "\n",
    "Since we haven’t built emu in this tutorial, we’ll use the precompiled emu.\n",
    "\n",
    "运行参数我们将在后面进行介绍。\n",
    "\n",
    "We’ll introduce the run-time arguments later."
   ]
  },
  {
   "cell_type": "code",
   "execution_count": null,
   "id": "f56c829f",
   "metadata": {},
   "outputs": [],
   "source": [
    "%%bash\n",
    "cd .. && source env.sh\n",
    "cd ${NOOP_HOME}\n",
    "\n",
    "$(get_asset emu-precompile/emu) \\\n",
    "    -i $(get_asset workload/hello-riscv64-xs.bin) \\\n",
    "    --no-diff \\\n",
    "    2>/dev/null\n",
    "\n",
    "# Some key runtime parameters.\n",
    "# -i                        Workload path\n",
    "# -C / -I                   Maximum cycle count / Maximum instruction count\n",
    "# --diff=PATH / --no-diff   Reference model path / Disable difftest"
   ]
  },
  {
   "cell_type": "markdown",
   "id": "10e823ee",
   "metadata": {},
   "source": [
    "需要注意，XiangShan 会在运行结束后向 stderr 输出性能计数器信息，文本量非常大，因此无论何时都建议将 stderr 重定向到某一个文件。在上面的示例中，我们不关心性能计数器，因此将其重定向到 `/dev/null`，您可以按需修改。\n",
    "\n",
    "Note: XiangShan prints performance counters to stderr at the end of a run, and the output is very large. We recommend always redirecting stderr to a file. In the example above, since we don’t need the counters, we redirect it to `/dev/null`; adjust as needed."
   ]
  }
 ],
 "metadata": {
  "kernelspec": {
   "display_name": "Python 3",
   "language": "python",
   "name": "python3"
  },
  "language_info": {
   "codemirror_mode": {
    "name": "ipython",
    "version": 3
   },
   "file_extension": ".py",
   "mimetype": "text/x-python",
   "name": "python",
   "nbconvert_exporter": "python",
   "pygments_lexer": "ipython3",
   "version": "3.12.3"
  }
 },
 "nbformat": 4,
 "nbformat_minor": 5
}
