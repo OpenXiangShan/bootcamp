{
 "cells": [
  {
   "cell_type": "markdown",
   "id": "eb0a29ab",
   "metadata": {},
   "source": [
    "# 运行 RTL 仿真\n",
    "\n",
    "香山的 emu 支持多种参数。您可以使用 `--help` 查看 emu 的使用方法"
   ]
  },
  {
   "cell_type": "code",
   "execution_count": null,
   "id": "0209c508",
   "metadata": {},
   "outputs": [],
   "source": [
    "%%bash\n",
    "cd ../ && source env.sh >/dev/null\n",
    "cd $NOOP_HOME\n",
    "\n",
    "${READY2RUN_HOME}/emu --help"
   ]
  },
  {
   "cell_type": "markdown",
   "id": "2fa6557b",
   "metadata": {},
   "source": [
    "和 01-first-run 章节不同，这次我们跑一个稍微复杂一些的程序：2 轮的 Coremark。这一程序的二进制已经在 Xiangshan/ready-to-run 文件夹中准备好了"
   ]
  },
  {
   "cell_type": "code",
   "execution_count": null,
   "id": "76a50d73",
   "metadata": {},
   "outputs": [],
   "source": [
    "%%bash\n",
    "cd ../ && source env.sh >/dev/null\n",
    "cd $NOOP_HOME\n",
    "\n",
    "${READY2RUN_HOME}/emu \\\n",
    "    -i ./ready-to-run/copy_and_run.bin \\\n",
    "    --no-diff \\\n",
    "    2>/dev/null"
   ]
  },
  {
   "cell_type": "markdown",
   "id": "d7be932f",
   "metadata": {},
   "source": [
    "我们还准备了一个在香山中注入错误的仿真程序，您可以试着运行它们。"
   ]
  },
  {
   "cell_type": "code",
   "execution_count": null,
   "id": "0a5d9aa2",
   "metadata": {},
   "outputs": [],
   "source": [
    "%%bash\n",
    "cd ../ && source env.sh >/dev/null\n",
    "cd $NOOP_HOME\n",
    "\n",
    "# 错误 1\n",
    "${READY2RUN_HOME}/emu-alu-err \\\n",
    "    -i ./ready-to-run/coremark-2-iteration.bin \\\n",
    "    --no-diff \\\n",
    "    -C 10000 \\\n",
    "    2>/dev/null || true"
   ]
  },
  {
   "cell_type": "markdown",
   "id": "66c7a0db",
   "metadata": {},
   "source": [
    "仿真程序自己并不能知道运行“对”还是“错”，因此它可能会在执行错误的行为后无止境的运行下去，本次 tutorial 为了避免占用服务器，添加了 10000 周期的运行限制。可以看到达到限制时，处理器 pc 为 0xe，这已经不是正常程序应有的行为。"
   ]
  }
 ],
 "metadata": {
  "kernelspec": {
   "display_name": "Python 3",
   "language": "python",
   "name": "python3"
  },
  "language_info": {
   "codemirror_mode": {
    "name": "ipython",
    "version": 3
   },
   "file_extension": ".py",
   "mimetype": "text/x-python",
   "name": "python",
   "nbconvert_exporter": "python",
   "pygments_lexer": "ipython3",
   "version": "3.10.12"
  }
 },
 "nbformat": 4,
 "nbformat_minor": 5
}
