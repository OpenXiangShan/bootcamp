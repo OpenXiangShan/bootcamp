{
 "cells": [
  {
   "cell_type": "markdown",
   "id": "eb0a29ab",
   "metadata": {},
   "source": [
    "# 运行 RTL 仿真\n",
    "**Run the RTL simulation**"
   ]
  },
  {
   "cell_type": "markdown",
   "id": "450d4fac",
   "metadata": {},
   "source": [
    "香山的 emu 支持多种参数。您可以使用 `--help` 查看 emu 的使用方法\n",
    "\n",
    "XiangShan's emu supports many options; run emu --help to see usage."
   ]
  },
  {
   "cell_type": "code",
   "execution_count": null,
   "id": "0209c508",
   "metadata": {},
   "outputs": [],
   "source": [
    "%%bash\n",
    "cd .. && source env.sh\n",
    "cd ${NOOP_HOME}\n",
    "\n",
    "$(get_asset emu-precompile/emu) --help"
   ]
  },
  {
   "cell_type": "markdown",
   "id": "2fa6557b",
   "metadata": {},
   "source": [
    "和 01-first-run 章节不同，这次我们跑一个稍微复杂一些的程序：Coremark。\n",
    "\n",
    "Unlike the 01-first-run chapter, this chapter we'll run a more complex program: CoreMark (2 iterations). The binary is already prepared in the `Xiangshan/ready-to-run` folder.\n",
    "\n",
    "运行完整的 Coremark 可能需要较长时间（5-10min），为了节省时间，下面我们使用 `-C` 参数将仿真周期数限制在 20000 周期，如果您希望运行完整的 Coremark，可以删除该行。\n",
    "\n",
    "Running the full CoreMark can take 5–10 minutes. To save time, use the -C option to cap the simulation at 20,000 cycles; remove that line to run the full CoreMark.\n",
    "\n",
    "⚠️注意：如果您正在 tutorial 的演示服务器上阅读此 notebook，请不要删除 `-C 20000`，节省服务器共享资源。\n",
    "\n",
    "⚠️ Note: If you’re viewing this notebook on the tutorial demo server, please do not remove -C 20000; it conserves shared server resources."
   ]
  },
  {
   "cell_type": "code",
   "execution_count": null,
   "id": "76a50d73",
   "metadata": {},
   "outputs": [],
   "source": [
    "%%bash\n",
    "cd .. && source env.sh\n",
    "cd ${NOOP_HOME}\n",
    "\n",
    "$(get_asset emu-precompile/emu) \\\n",
    "    -i $(get_asset workload/coremark-2-iteration.bin) \\\n",
    "    --no-diff \\\n",
    "    -C 20000 \\\n",
    "    2>/dev/null"
   ]
  },
  {
   "cell_type": "markdown",
   "id": "d7be932f",
   "metadata": {},
   "source": [
    "我们还准备了一个在香山中注入错误的仿真程序，您可以试着运行它。\n",
    "\n",
    "We've also prepared a fault-injection simulation program for XiangShan; feel free to try running them."
   ]
  },
  {
   "cell_type": "code",
   "execution_count": null,
   "id": "0a5d9aa2",
   "metadata": {},
   "outputs": [],
   "source": [
    "%%bash\n",
    "cd .. && source env.sh\n",
    "cd ${NOOP_HOME}\n",
    "\n",
    "# err 1\n",
    "$(get_asset emu-precompile/emu-alu-err) \\\n",
    "    -i $(get_asset workload/coremark-2-iteration.bin) \\\n",
    "    --no-diff \\\n",
    "    -C 20000 \\\n",
    "    2>/dev/null || true"
   ]
  },
  {
   "cell_type": "markdown",
   "id": "66c7a0db",
   "metadata": {},
   "source": [
    "可以看到，有错的仿真程序没有正确输出“Running CoreMark for 2 iterations”，并且在到达 20000 周期的限制时 pc 为 0xe，这显然不是正常程序应有的行为。\n",
    "\n",
    "The faulty simulation program does not correctly print “Running CoreMark for 2 iterations,” and when it reaches the 20,000-cycle limit, the PC is 0xE, clearly not the behavior of a normal program.\n",
    "\n",
    "然而，仿真程序自己并不能知道运行“对”还是“错”，因此它可能会在执行错误的行为后永无止境的运行下去，这只是在空耗计算资源。\n",
    "\n",
    "However, the simulation program cannot determine whether it is running correctly or incorrectly; as a result, it may continue running indefinitely after exhibiting erroneous behavior, merely wasting compute resources.\n",
    "\n",
    "“仿真程序怎么知道自己已经出错了”，进而如何“找到错误发生的位置”，是处理器功能验证的重要问题。我们为了解决这些问题，提出了一些敏捷开发工具，在 02-functional 一章中介绍。\n",
    "\n",
    "“How does the simulation program know it has already encountered an error” and further “how to locate where the error occurred” are important issues in processor functional verification. To address these issues, we propose several MinJie development tools, introduced in Chapter 02-functional."
   ]
  }
 ],
 "metadata": {
  "kernelspec": {
   "display_name": "Python 3",
   "language": "python",
   "name": "python3"
  },
  "language_info": {
   "codemirror_mode": {
    "name": "ipython",
    "version": 3
   },
   "file_extension": ".py",
   "mimetype": "text/x-python",
   "name": "python",
   "nbconvert_exporter": "python",
   "pygments_lexer": "ipython3",
   "version": "3.12.3"
  }
 },
 "nbformat": 4,
 "nbformat_minor": 5
}
