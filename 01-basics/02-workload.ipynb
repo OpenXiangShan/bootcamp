{
 "cells": [
  {
   "cell_type": "markdown",
   "id": "aeeb37c5",
   "metadata": {},
   "source": [
    "# 使用 Nexus-AM 编译负载\n",
    "\n",
    "**Build the workload using Nexus-AM**"
   ]
  },
  {
   "cell_type": "markdown",
   "id": "b5240d69",
   "metadata": {},
   "source": [
    "香山是一个裸金属设备，要在上面运行程序需要操作系统提供运行时环境，然而 Linux 等操作系统过于重量级、不便于快速测试迭代。\n",
    "\n",
    "**我们开发了一套名为 Nexus-AM 的运行时环境**\n",
    "\n",
    "**目的**\n",
    "\n",
    "- 生成一些无需操作系统的负载\n",
    "- 为裸机（如香山）提供运行时框架\n",
    "\n",
    "Xiangshan is a bare-metal device that requires an operating system to provide a runtime environment for running programs. However, operating systems like Linux are too **heavyweight** and inconvenient for rapid testing and iteration.\n",
    "\n",
    "**We present a bare metal runtime environment called Nexus-AM**\n",
    "\n",
    "**Purpose**\n",
    "\n",
    "- Generate workloads agilely without an OS\n",
    "\n",
    "- Provide runtime framework for bare metal machines like XiangShan\n",
    "\n",
    "\n",
    "Nexus-AM 是一个裸机运行时测试生成环境。它轻量且易于使用，并且实现了基本的系统调用接口和异常处理程序。此外，它还支持多种 ISA 和配置。\n",
    "\n",
    "Nexus-AM is a bare-metal runtime and test-generation environment. It is lightweight and easy to use, implements basic system call interfaces and exception handlers, and supports multiple ISAs and configurations. \n",
    "\n",
    "`am/` 下是 nexus-am 框架的源码，`apps/` 和 `tests/` 则是常用的软件负载源码，您也可以创建自己的 app 和 test。\n",
    "\n",
    "The `am/` directory contains the Nexus-AM framework sources; `apps/` and `tests/` hold common workload sources, and you can create your own apps and tests."
   ]
  },
  {
   "cell_type": "code",
   "execution_count": null,
   "id": "f7672178",
   "metadata": {},
   "outputs": [],
   "source": [
    "%%bash\n",
    "cd .. && source env.sh\n",
    "cd ${AM_HOME}\n",
    "\n",
    "tree -d -L 1\n",
    "\n",
    "echo apps: $(ls ./apps)\n",
    "echo tests: $(ls ./tests)"
   ]
  },
  {
   "cell_type": "markdown",
   "id": "64f7481a",
   "metadata": {},
   "source": [
    "我们以一开始运行的 Hello, XiangShan 为例，其源码位于 `apps/hello` 目录下，我们将其输出的 “Hello, XiangShan” 替换为 “Welcome to XiangShan Turtorial” 进行编译。\n",
    "\n",
    "We start with the \"Hello, XiangShan\" sample (`apps/hello`). Replace \"Hello, XiangShan\" with \"Welcome to XiangShan Tutorial\" \n",
    "\n",
    "此处传入 ARCH=riscv64-xs 编译到 riscv64 架构的 XiangShan 目标。\n",
    "\n",
    "Then compile with `ARCH=riscv64-xs`.\n",
    "\n",
    "默认情况下，riscv64 架构使用 riscv64-unknown-elf- 工具链，本次 tutorial 我们使用 GNU 工具链（riscv64-linux-gnu-），故传入 LINUX_GNU_TOOLCHAIN=1。\n",
    "\n",
    "The default riscv64 toolchain is `riscv64-unknown-elf-`, but here we use the GNU toolchain (`riscv64-linux-gnu-`), so set `LINUX_GNU_TOOLCHAIN=1`. \n",
    "\n",
    "参考文件：\n",
    "- `am/arch/isa/riscv64.mk`\n",
    "- `am/arch/riscv64-xs.mk`\n",
    "\n",
    "Reference files:\n",
    "\n",
    "- `am/arch/isa/riscv64.mk`\n",
    "- `am/arch/riscv64-xs.mk`"
   ]
  },
  {
   "cell_type": "code",
   "execution_count": null,
   "id": "85923436",
   "metadata": {},
   "outputs": [],
   "source": [
    "%%bash\n",
    "cd ../ && source env.sh >/dev/null\n",
    "cd $AM_HOME/apps/hello\n",
    "\n",
    "# Use sed to replace \"Hello, XiangShan\" with \"Welcome to XiangShan Tutorial\".\n",
    "sed -i 's/Hello, XiangShan/Welcome to XiangShan Turtorial/' hello.c\n",
    "\n",
    "# compiling\n",
    "make ARCH=riscv64-xs LINUX_GNU_TOOLCHAIN=1\n",
    "\n",
    "# check output\n",
    "ls -l build"
   ]
  },
  {
   "cell_type": "markdown",
   "id": "8b8774a5",
   "metadata": {},
   "source": [
    "编译得到以下三个文件：\n",
    "- hello-riscv64-xs.bin：程序二进制镜像（ELF 文件剥离 ELF header 等元数据），供 emu 运行使用\n",
    "- hello-riscv64-xs.elf：程序的 ELF 文件\n",
    "- hello-riscv64-xs.txt：程序的反汇编结果，供调试时查看\n",
    "\n",
    "After compilation, the following three files will be generated:\n",
    "- hello-riscv64-xs.bin：Program binary image (The ELF header and other metadata was removed) for emu.\n",
    "- hello-riscv64-xs.elf：The program's ELF file.\n",
    "- hello-riscv64-xs.txt：The program’s disassembly for debugging"
   ]
  },
  {
   "cell_type": "code",
   "execution_count": null,
   "id": "cec8e308",
   "metadata": {},
   "outputs": [],
   "source": [
    "%%bash\n",
    "cd ../ && source env.sh >/dev/null\n",
    "cd $NOOP_HOME\n",
    "\n",
    "# Use emu to run workload.\n",
    "$(get_asset emu-precompile/emu) -i $AM_HOME/apps/hello/build/hello-riscv64-xs.bin --no-diff 2>/dev/null"
   ]
  },
  {
   "cell_type": "markdown",
   "id": "3d14b8ab",
   "metadata": {},
   "source": [
    "当传入的 ARCH 不支持时，make 会打印出所有支持的 ARCH，`|| true` 是为了避免返回值非 0 导致 notebook 报错，您在实际使用中只需要执行 `make ARCH=` 即可\n",
    "\n",
    "If the ARCH you pass isn’t supported, `make` will print all supported ARCH values. The `|| true` is only to swallow the non‑zero exit code so the notebook doesn’t error out. In normal use, just run `make ARCH=`."
   ]
  },
  {
   "cell_type": "code",
   "execution_count": null,
   "id": "c0319f33",
   "metadata": {},
   "outputs": [],
   "source": [
    "%%bash\n",
    "cd .. && source env.sh\n",
    "cd ${AM_HOME}\n",
    "\n",
    "make ARCH= || true"
   ]
  }
 ],
 "metadata": {
  "kernelspec": {
   "display_name": "Python 3",
   "language": "python",
   "name": "python3"
  },
  "language_info": {
   "codemirror_mode": {
    "name": "ipython",
    "version": 3
   },
   "file_extension": ".py",
   "mimetype": "text/x-python",
   "name": "python",
   "nbconvert_exporter": "python",
   "pygments_lexer": "ipython3",
   "version": "3.12.3"
  }
 },
 "nbformat": 4,
 "nbformat_minor": 5
}
