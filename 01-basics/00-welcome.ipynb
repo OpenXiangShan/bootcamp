{
 "cells": [
  {
   "cell_type": "markdown",
   "id": "d94da0c4",
   "metadata": {},
   "source": [
    "# 00-欢迎来到香山Tutorial！\n",
    "**00-Welcome to the XiangShan Tutorial**\n",
    "\n",
    "\n",
    "本节中，我们将对本次 tutorial 做出一些说明\n",
    "\n",
    "- 以 `%%bash` 开头的单元格是 bash 脚本，其余是 python 代码\n",
    "\n",
    "- 以 `#` 开头的行是注释\n",
    "\n",
    "In this section, we will give some notes on this tutorial.\n",
    "\n",
    "- Cells that start with %%bash are Bash scripts; the rest are Python code.\n",
    "\n",
    "- Lines that start with # are comments."
   ]
  },
  {
   "cell_type": "markdown",
   "id": "d9126719",
   "metadata": {},
   "source": [
    "您可以点击单元格左上角的 ▶ 键来运行单个单元格，输出会显示在单元格下方\n",
    "\n",
    "You can click ▶ in the top-left corner of a cell to run that single cell; the output will be displayed below the cell."
   ]
  },
  {
   "cell_type": "code",
   "execution_count": null,
   "id": "c849d878",
   "metadata": {},
   "outputs": [],
   "source": [
    "%%bash\n",
    "echo \"Welcome to the XiangShan Tutorial!\""
   ]
  },
  {
   "cell_type": "markdown",
   "id": "b9475b91",
   "metadata": {},
   "source": [
    "每一个单元格的工作目录和环境变量都是独立的，因此有一些命令可能需要重复执行。如果您直接在 shell 中执行这些命令，可以跳过重复的部分，如 `source env.sh`。\n",
    "\n",
    "Each cell has its own working directory and environment variables, so some commands may need to be rerun. If you execute these commands directly in the shell, you can skip the repetitive parts, e.g. `source env.sh`."
   ]
  },
  {
   "cell_type": "code",
   "execution_count": null,
   "id": "8f9dd871",
   "metadata": {},
   "outputs": [],
   "source": [
    "%%bash\n",
    "# Change the working directory in this cell.\n",
    "cd ../\n",
    "pwd"
   ]
  },
  {
   "cell_type": "code",
   "execution_count": null,
   "id": "7687c9ae",
   "metadata": {},
   "outputs": [],
   "source": [
    "%%bash\n",
    "# Changing the working directory in other cells does not affect this cell.\n",
    "pwd"
   ]
  },
  {
   "cell_type": "markdown",
   "id": "3e3b5b5b",
   "metadata": {},
   "source": [
    "香山现在有了与开发同步的设计文档，Github 仓库链接为 [https://github.com/OpenXiangShan/XiangShan-Design-Doc](https://github.com/OpenXiangShan/XiangShan-Design-Doc)\n",
    "\n",
    "XiangShan has design documentation synchronized with development; the GitHub repository is [https://github.com/OpenXiangShan/XiangShan-Design-Doc](https://github.com/OpenXiangShan/XiangShan-Design-Doc)\n",
    "\n",
    "我们同时部署了设计文档网站，网址为 [https://docs.xiangshan.cc/projects/design](https://docs.xiangshan.cc/projects/design)\n",
    "\n",
    "We have also deployed the design documentation website at [https://docs.xiangshan.cc/projects/design](https://docs.xiangshan.cc/projects/design)\n",
    "\n",
    "其余的步骤将在 xs-env 仓库下完成。这是一个开发环境套件，您可以先查看这一文件下的 XiangShan 文件夹，这是香山处理器的源代码\n",
    "\n",
    "The remaining steps will be completed in the xs-env repository. This is a development environment suite; you can first look at the XiangShan folder in this repository, which contains the source code of the XiangShan processor.\n",
    "\n",
    "\n",
    "\n",
    "\n"
   ]
  }
 ],
 "metadata": {
  "kernelspec": {
   "display_name": "Python 3",
   "language": "python",
   "name": "python3"
  },
  "language_info": {
   "codemirror_mode": {
    "name": "ipython",
    "version": 3
   },
   "file_extension": ".py",
   "mimetype": "text/x-python",
   "name": "python",
   "nbconvert_exporter": "python",
   "pygments_lexer": "ipython3",
   "version": "3.12.3"
  }
 },
 "nbformat": 4,
 "nbformat_minor": 5
}
