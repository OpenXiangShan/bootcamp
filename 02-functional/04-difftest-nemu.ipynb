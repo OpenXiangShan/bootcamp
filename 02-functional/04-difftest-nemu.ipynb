{
 "cells": [
  {
   "cell_type": "markdown",
   "id": "588d03d7",
   "metadata": {},
   "source": [
    "# NEMU：ISA 参考\n",
    "\n",
    "我们提出了一个类似于 Spike 的指令集模拟器 NEMU。通过优化技术，NEMU 实现了与 QEMU 类似的性能。此外，NEMU 还提供了一组 API 来帮助 XiangShan 比较和验证架构状态。\n",
    "\n",
    "NEMU 提供两组默认配置：\n",
    "- xxx_defconfig：xxx 目标的独立运行模式的默认配置\n",
    "- xxx-ref_defconfig：xxx 作为 difftest 协同仿真模式的默认配置"
   ]
  },
  {
   "cell_type": "code",
   "execution_count": null,
   "id": "9d26e370",
   "metadata": {},
   "outputs": [],
   "source": [
    "%%bash\n",
    "cd ../ && source env.sh >/dev/null\n",
    "\n",
    "cd $NEMU_HOME\n",
    "### If you are building NEMU for the first time,\n",
    "### you will need to run the following command to configure it.\n",
    "### Here we have configured it in advance.\n",
    "# make menuconfig\n",
    "make clean\n",
    "make riscv64-xs_defconfig\n",
    "make -j\n",
    "\n",
    "make clean-softfloat\n",
    "make riscv64-xs-ref_defconfig\n",
    "make -j"
   ]
  },
  {
   "cell_type": "markdown",
   "id": "b906741c",
   "metadata": {},
   "source": [
    "在 NEMU 上运行 Coremark 工作负载。"
   ]
  },
  {
   "cell_type": "code",
   "execution_count": null,
   "id": "caa18103",
   "metadata": {},
   "outputs": [],
   "source": [
    "%%bash\n",
    "\n",
    "cd ../ && source env.sh >/dev/null\n",
    "\n",
    "cd $NEMU_HOME\n",
    "\n",
    "# 以批模式运行 workload\n",
    "./build/riscv64-nemu-interpreter \\\n",
    "    -b \\\n",
    "    ${READY2RUN_HOME}/hello-riscv64-xs.bin"
   ]
  },
  {
   "cell_type": "markdown",
   "id": "21ebe979",
   "metadata": {},
   "source": [
    "# Difftest：ISA 协同仿真框架\n",
    "\n",
    "我们提出了一个 ISA 协同仿真框架 Difftest。其基本流程如下：一旦我们的 RTL 处理器提交指令/更新其他状态，ISA 模拟器就会执行相同的指令。Difftest 会比较 DUT 和 REF 之间的架构状态。如果存在差异，它将停止运行并报告错误。否则，它将继续运行。\n",
    "\n",
    "在 XiangShan 上运行工作负载，并使用 NEMU 进行差分测试。"
   ]
  },
  {
   "cell_type": "code",
   "execution_count": null,
   "id": "0746baa9",
   "metadata": {},
   "outputs": [],
   "source": [
    "%%bash\n",
    "cd ../ && source env.sh >/dev/null\n",
    "\n",
    "cd $NOOP_HOME\n",
    "\n",
    "${READY2RUN_HOME}/emu \\\n",
    "    -i ${READY2RUN_HOME}/hello-riscv64-xs.bin \\\n",
    "    --diff $NEMU_HOME/build/riscv64-nemu-interpreter-so \\\n",
    "    2>/dev/null"
   ]
  },
  {
   "cell_type": "markdown",
   "id": "8f4a3d51",
   "metadata": {},
   "source": [
    "可以在预编译好的，注入 bug 的香山处理器上运行工作负载，并使用 NEMU 进行差异测试。"
   ]
  },
  {
   "cell_type": "code",
   "execution_count": null,
   "id": "52abe97e",
   "metadata": {},
   "outputs": [],
   "source": [
    "%%bash\n",
    "cd ../ && source env.sh >/dev/null\n",
    "\n",
    "cd $NOOP_HOME\n",
    "\n",
    "${READY2RUN_HOME}/emu-alu-err \\\n",
    "    -i ${READY2RUN_HOME}/hello-riscv64-xs.bin \\\n",
    "    --diff $NEMU_HOME/build/riscv64-nemu-interpreter-so \\\n",
    "    2>/dev/null || true # tutorial：添加 \"|| true\" 避免 notebook 报错，实际使用不需要"
   ]
  },
  {
   "cell_type": "markdown",
   "id": "14b89efb",
   "metadata": {},
   "source": [
    "可以看到执行 pc = 0x80000dce 处的指令时，仿真和模拟器执行产生了不一样的结果，仿真的体系结构寄存器 a6 值为 0，而模拟器为 0x800040b6。"
   ]
  },
  {
   "cell_type": "markdown",
   "id": "41a2386c",
   "metadata": {},
   "source": [
    "在 Difftest 检测到错误后，我们可以再次运行仿真，这次在 difftest 报告的出错周期数附近启用波形输出。"
   ]
  },
  {
   "cell_type": "code",
   "execution_count": null,
   "id": "b3351c7d",
   "metadata": {},
   "outputs": [],
   "source": [
    "%%bash\n",
    "cd ../ && source env.sh >/dev/null\n",
    "cd $NOOP_HOME\n",
    "rm -f ./build/*.vcd\n",
    "\n",
    "${READY2RUN_HOME}/emu-alu-err \\\n",
    "    -i ${READY2RUN_HOME}/hello-riscv64-xs.bin \\\n",
    "    --diff $NEMU_HOME/build/riscv64-nemu-interpreter-so \\\n",
    "    -b 8000 \\\n",
    "    -e 10000 \\\n",
    "    --dump-wave \\\n",
    "    2>/dev/null || true\n",
    "\n",
    "echo -n \"Dump wave: \"\n",
    "realpath ./build/*.vcd"
   ]
  }
 ],
 "metadata": {
  "kernelspec": {
   "display_name": "Python 3",
   "language": "python",
   "name": "python3"
  },
  "language_info": {
   "codemirror_mode": {
    "name": "ipython",
    "version": 3
   },
   "file_extension": ".py",
   "mimetype": "text/x-python",
   "name": "python",
   "nbconvert_exporter": "python",
   "pygments_lexer": "ipython3",
   "version": "3.10.12"
  }
 },
 "nbformat": 4,
 "nbformat_minor": 5
}
