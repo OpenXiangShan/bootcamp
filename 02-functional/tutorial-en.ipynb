{
 "cells": [
  {
   "cell_type": "markdown",
   "id": "057faa32-4cf9-4671-b12d-29cae0c334c5",
   "metadata": {
    "editable": true,
    "slideshow": {
     "slide_type": "slide"
    },
    "tags": []
   },
   "source": [
    "<h1 style=\"text-align:center\">Basic Introduction for XiangShan</h1>"
   ]
  },
  {
   "cell_type": "markdown",
   "id": "849381d7",
   "metadata": {
    "editable": true,
    "slideshow": {
     "slide_type": "subslide"
    },
    "tags": []
   },
   "source": [
    "# 00-Welcome to the XiangShan Tutorial\n",
    "\n",
    "In this section, we will give some notes on this tutorial.\n",
    "\n",
    "- Cells that start with %%bash are Bash scripts; the rest are Python code.\n",
    "\n",
    "- Lines that start with # are comments."
   ]
  },
  {
   "cell_type": "markdown",
   "id": "ffc6684b",
   "metadata": {
    "editable": true,
    "slideshow": {
     "slide_type": ""
    },
    "tags": []
   },
   "source": [
    "You can click ▶ in the top-left corner of a cell to run that single cell; the output will be displayed below the cell."
   ]
  },
  {
   "cell_type": "code",
   "execution_count": null,
   "id": "e9a42ae5",
   "metadata": {
    "editable": true,
    "slideshow": {
     "slide_type": ""
    },
    "tags": []
   },
   "outputs": [],
   "source": [
    "%%bash\n",
    "echo \"Welcome to the XiangShan Tutorial!\""
   ]
  },
  {
   "cell_type": "markdown",
   "id": "97b2e4f8",
   "metadata": {
    "editable": true,
    "slideshow": {
     "slide_type": ""
    },
    "tags": []
   },
   "source": [
    "Each cell has its own working directory and environment variables, so some commands may need to be rerun. If you execute these commands directly in the shell, you can skip the repetitive parts, e.g. `source env.sh`."
   ]
  },
  {
   "cell_type": "code",
   "execution_count": null,
   "id": "ae7aae82",
   "metadata": {
    "editable": true,
    "slideshow": {
     "slide_type": ""
    },
    "tags": []
   },
   "outputs": [],
   "source": [
    "%%bash\n",
    "# Change the working directory in this cell.\n",
    "cd ../\n",
    "pwd"
   ]
  },
  {
   "cell_type": "code",
   "execution_count": null,
   "id": "e8175c67",
   "metadata": {
    "editable": true,
    "scrolled": true,
    "slideshow": {
     "slide_type": ""
    },
    "tags": []
   },
   "outputs": [],
   "source": [
    "%%bash\n",
    "# Changing the working directory in other cells does not affect this cell.\n",
    "pwd"
   ]
  },
  {
   "cell_type": "markdown",
   "id": "38059f3b",
   "metadata": {
    "editable": true,
    "slideshow": {
     "slide_type": ""
    },
    "tags": []
   },
   "source": [
    "XiangShan has design documentation synchronized with development; the GitHub repository is [https://github.com/OpenXiangShan/XiangShan-Design-Doc](https://github.com/OpenXiangShan/XiangShan-Design-Doc)\n",
    "\n",
    "We have also deployed the design documentation website at [https://docs.xiangshan.cc/projects/design](https://docs.xiangshan.cc/projects/design)\n"
   ]
  },
  {
   "cell_type": "markdown",
   "id": "083b01b2",
   "metadata": {
    "editable": true,
    "slideshow": {
     "slide_type": ""
    },
    "tags": []
   },
   "source": []
  },
  {
   "cell_type": "markdown",
   "id": "7728af52",
   "metadata": {
    "editable": true,
    "slideshow": {
     "slide_type": "subslide"
    },
    "tags": []
   },
   "source": [
    "# First Run\n",
    "\n",
    "In this section, we present the basic workflow for building and running XiangShan.\n",
    "\n",
    "The bootcamp repository contains the environment setup scripts necessary for compiling and running XiangShan and can be cloned directly from GitHub."
   ]
  },
  {
   "cell_type": "code",
   "execution_count": null,
   "id": "aadd3f5e",
   "metadata": {
    "editable": true,
    "slideshow": {
     "slide_type": ""
    },
    "tags": []
   },
   "outputs": [],
   "source": [
    "%%bash\n",
    "# For this tutorial, the local directory have been preconfigured; therefore, you do not need to execute these commands.\n",
    "# The following commands are provided for reference.\n",
    "\n",
    "# git submodule update --init --recursive # init submodule"
   ]
  },
  {
   "cell_type": "markdown",
   "id": "6baf272e",
   "metadata": {
    "editable": true,
    "slideshow": {
     "slide_type": ""
    },
    "tags": []
   },
   "source": [
    "Then, we can getting start!"
   ]
  },
  {
   "cell_type": "markdown",
   "id": "8a90f3da",
   "metadata": {
    "editable": true,
    "slideshow": {
     "slide_type": ""
    },
    "tags": []
   },
   "source": [
    "The build and execution of XiangShan rely on specific environment variables, which are provisioned by the `env.sh` script. This script must be sourced whenever a new terminal session is started; to automate this, you can add it to your `.bashrc`. As shown in Section 00-welcome, within this tutorial each cell constitutes a fresh Bash environment; therefore, the script must be re-sourced in every cell."
   ]
  },
  {
   "cell_type": "code",
   "execution_count": null,
   "id": "6b211127",
   "metadata": {
    "editable": true,
    "slideshow": {
     "slide_type": ""
    },
    "tags": []
   },
   "outputs": [],
   "source": [
    "%%bash\n",
    "cd ../ && source env.sh\n",
    "\n",
    "env | grep _HOME"
   ]
  },
  {
   "cell_type": "markdown",
   "id": "a6dbed31",
   "metadata": {
    "editable": true,
    "slideshow": {
     "slide_type": ""
    },
    "tags": []
   },
   "source": [
    "Running the code block above completes the environment variable setup. After the setup, go to `$NOOP_HOME` (`xs-env/XiangShan`) to build XiangShan. \n",
    "\n",
    "\n",
    "The build parameters will be introduced later."
   ]
  },
  {
   "cell_type": "markdown",
   "id": "66b2cd38",
   "metadata": {
    "editable": true,
    "slideshow": {
     "slide_type": "subslide"
    },
    "tags": []
   },
   "source": [
    "We can also use the tree command to view the project structure."
   ]
  },
  {
   "cell_type": "code",
   "execution_count": null,
   "id": "58a9db18",
   "metadata": {
    "editable": true,
    "slideshow": {
     "slide_type": ""
    },
    "tags": []
   },
   "outputs": [],
   "source": [
    "%%bash\n",
    "tree -d -L 1 .."
   ]
  },
  {
   "cell_type": "markdown",
   "id": "b81a231f",
   "metadata": {
    "editable": true,
    "slideshow": {
     "slide_type": "subslide"
    },
    "tags": []
   },
   "source": [
    "XiangShan provides hundreds of user-configurable parameters, including:\n",
    "\n",
    "- The processor core parameters. (`src/main/scala/top/Configs.scala`)\n",
    "- The SoC parameters. (`src/main/resources/config/Default.yaml`)\n",
    "\n",
    "Press Ctrl+P to open file search, then type the file name above to jump to it quickly."
   ]
  },
  {
   "cell_type": "markdown",
   "id": "cc58a4d2",
   "metadata": {
    "editable": true,
    "slideshow": {
     "slide_type": ""
    },
    "tags": []
   },
   "source": [
    "With the configuration finalized, we can proceed to build XiangShan!"
   ]
  },
  {
   "cell_type": "code",
   "execution_count": null,
   "id": "b974652a",
   "metadata": {
    "editable": true,
    "slideshow": {
     "slide_type": ""
    },
    "tags": []
   },
   "outputs": [],
   "source": [
    "%%bash\n",
    "cd .. && source env.sh\n",
    "cd ${NOOP_HOME}\n",
    "\n",
    "# Warning⚠️：Building XiangShan is highly resource‑intensive; For this tutorial, we’ve prepared a precompiled binary for you.\n",
    "# Reference setup: 16 CPU cores, 64 GB RAM.\n",
    "# make emu -j16 CONFIG=MinimalConfig\n",
    "\n",
    "# Additional build options\n",
    "# CONFIG=MinimalConfig  XiangShan configuration\n",
    "# EMU_THREADS=4         Simulation thread count\n",
    "# EMU_TRACE=1           Enable waveforms\n",
    "# WITH_DRAMSIM=1        Simulate DRAM with DRAMSim3\n",
    "# WITH_CHISELDB = 1     Enable ChiselDB\n",
    "# WITH_CONSTANTIN = 1   Enable Constantin"
   ]
  },
  {
   "cell_type": "markdown",
   "id": "d062b4c3",
   "metadata": {
    "editable": true,
    "slideshow": {
     "slide_type": ""
    },
    "tags": []
   },
   "source": [
    "The commands above will generate outputs like `build/emu` and `build/rtl`.\n",
    "\n",
    "- build/rtl/*.sv is Verilog files generated by Chisel.\n",
    "- build/emu is a simulation executable further compiled with Verilator."
   ]
  },
  {
   "cell_type": "markdown",
   "id": "2626b251",
   "metadata": {
    "editable": true,
    "slideshow": {
     "slide_type": "subslide"
    },
    "tags": []
   },
   "source": [
    "You can run `./build/emu` to simulate XiangShan. \n",
    "\n",
    "Since we haven’t built emu in this tutorial, we’ll use the precompiled emu.\n",
    "\n",
    "We’ll introduce the run-time arguments later."
   ]
  },
  {
   "cell_type": "code",
   "execution_count": null,
   "id": "34fd90ea",
   "metadata": {
    "editable": true,
    "slideshow": {
     "slide_type": ""
    },
    "tags": []
   },
   "outputs": [],
   "source": [
    "%%bash\n",
    "cd .. && source env.sh\n",
    "cd ${NOOP_HOME}\n",
    "\n",
    "$(get_asset emu-precompile/emu) \\\n",
    "    -i $(get_asset workload/hello-riscv64-xs.bin) \\\n",
    "    --no-diff \\\n",
    "    2>/dev/null | outputBuffer\n",
    "\n",
    "# Some key runtime parameters.\n",
    "# -i                        Workload path\n",
    "# -C / -I                   Maximum cycle count / Maximum instruction count\n",
    "# --diff=PATH / --no-diff   Reference model path / Disable difftest"
   ]
  },
  {
   "cell_type": "markdown",
   "id": "1edccebb",
   "metadata": {
    "editable": true,
    "slideshow": {
     "slide_type": ""
    },
    "tags": []
   },
   "source": [
    "Note: XiangShan prints performance counters to stderr at the end of a run, and the output is very large. We recommend always redirecting stderr to a file. In the example above, since we don’t need the counters, we redirect it to `/dev/null`; adjust as needed."
   ]
  },
  {
   "cell_type": "markdown",
   "id": "d08dcbf1",
   "metadata": {
    "editable": true,
    "slideshow": {
     "slide_type": ""
    },
    "tags": []
   },
   "source": []
  },
  {
   "cell_type": "markdown",
   "id": "8677bb26",
   "metadata": {
    "editable": true,
    "slideshow": {
     "slide_type": "subslide"
    },
    "tags": []
   },
   "source": [
    "# Build the workload using Nexus-AM"
   ]
  },
  {
   "cell_type": "markdown",
   "id": "c0af3cfa",
   "metadata": {
    "editable": true,
    "slideshow": {
     "slide_type": ""
    },
    "tags": []
   },
   "source": [
    "\n",
    "Xiangshan is a bare-metal device that requires an operating system to provide a runtime environment for running programs. However, operating systems like Linux are too **heavyweight** and inconvenient for rapid testing and iteration.\n",
    "\n",
    "**We present a bare metal runtime environment called Nexus-AM**\n",
    "\n",
    "**Purpose**\n",
    "\n",
    "- Generate workloads agilely without an OS\n",
    "\n",
    "- Provide runtime framework for bare metal machines like XiangShan\n",
    "\n",
    "Nexus-AM is a bare-metal runtime and test-generation environment. It is lightweight and easy to use, implements basic system call interfaces and exception handlers, and supports multiple ISAs and configurations. \n",
    "\n",
    "The `am/` directory contains the Nexus-AM framework sources; `apps/` and `tests/` hold common workload sources, and you can create your own apps and tests."
   ]
  },
  {
   "cell_type": "markdown",
   "id": "4e4fc86a-2c11-42f2-b47f-f39fa245c6f9",
   "metadata": {
    "editable": true,
    "slideshow": {
     "slide_type": "notes"
    },
    "tags": []
   },
   "source": [
    "For test generation, we may want to generate workloads agilely without an OS, and provide runtime framework for bare metal machines like XiangShan\n",
    "\n",
    "So we present a bare metal runtime test generation environment called Nexus-AM,\n",
    "\n",
    "It is light-weight, and easy to use; and implements system call interfaces and exception handlers;\n",
    "\n",
    "what's more, it supports multiple ISAs and configurations\n"
   ]
  },
  {
   "cell_type": "code",
   "execution_count": null,
   "id": "1d825d80",
   "metadata": {
    "editable": true,
    "slideshow": {
     "slide_type": ""
    },
    "tags": []
   },
   "outputs": [],
   "source": [
    "%%bash\n",
    "cd .. && source env.sh\n",
    "cd ${AM_HOME}\n",
    "\n",
    "tree -d -L 1\n",
    "\n",
    "echo apps: $(ls ./apps)\n",
    "echo tests: $(ls ./tests)"
   ]
  },
  {
   "cell_type": "markdown",
   "id": "fbfd6596",
   "metadata": {
    "editable": true,
    "slideshow": {
     "slide_type": "subslide"
    },
    "tags": []
   },
   "source": [
    "We start with the \"Hello, XiangShan\" sample (`apps/hello`). Replace \"Hello, XiangShan\" with \"Welcome to XiangShan Tutorial\" \n",
    "\n",
    "Then compile Nexus-AM."
   ]
  },
  {
   "cell_type": "code",
   "execution_count": null,
   "id": "89577e23",
   "metadata": {
    "editable": true,
    "scrolled": true,
    "slideshow": {
     "slide_type": ""
    },
    "tags": []
   },
   "outputs": [],
   "source": [
    "%%bash\n",
    "cd ../ && source env.sh >/dev/null\n",
    "cd $AM_HOME/apps/hello\n",
    "\n",
    "# Use sed to replace \"Hello, XiangShan\" with \"Welcome to XiangShan Tutorial\".\n",
    "sed -i 's/Hello, XiangShan/Welcome to XiangShan Turtorial/' hello.c\n",
    "\n",
    "# compiling\n",
    "make ARCH=riscv64-xs LINUX_GNU_TOOLCHAIN=1\n",
    "\n",
    "# check output\n",
    "ls -l build"
   ]
  },
  {
   "cell_type": "markdown",
   "id": "e4902419",
   "metadata": {
    "editable": true,
    "slideshow": {
     "slide_type": "subslide"
    },
    "tags": []
   },
   "source": [
    "After compilation, the following three files will be generated:\n",
    "- hello-riscv64-xs.bin：Program binary image (The ELF header and other metadata was removed) for emu.\n",
    "- hello-riscv64-xs.elf：The program's ELF file.\n",
    "- hello-riscv64-xs.txt：The program’s disassembly for debugging"
   ]
  },
  {
   "cell_type": "code",
   "execution_count": null,
   "id": "45b44618",
   "metadata": {
    "editable": true,
    "scrolled": true,
    "slideshow": {
     "slide_type": ""
    },
    "tags": []
   },
   "outputs": [],
   "source": [
    "%%bash\n",
    "cd ../ && source env.sh >/dev/null\n",
    "cd $NOOP_HOME\n",
    "\n",
    "# Use emu to run workload.\n",
    "$(get_asset emu-precompile/emu) -i $AM_HOME/apps/hello/build/hello-riscv64-xs.bin --no-diff 2>/dev/null | outputBuffer"
   ]
  },
  {
   "cell_type": "markdown",
   "id": "9b76200f",
   "metadata": {
    "editable": true,
    "slideshow": {
     "slide_type": ""
    },
    "tags": []
   },
   "source": []
  },
  {
   "cell_type": "markdown",
   "id": "81e75f5a",
   "metadata": {
    "editable": true,
    "slideshow": {
     "slide_type": "subslide"
    },
    "tags": []
   },
   "source": [
    "# Run the RTL simulation"
   ]
  },
  {
   "cell_type": "markdown",
   "id": "b2882c77",
   "metadata": {
    "editable": true,
    "slideshow": {
     "slide_type": ""
    },
    "tags": []
   },
   "source": [
    "XiangShan's emu supports many options; run emu --help to see usage."
   ]
  },
  {
   "cell_type": "code",
   "execution_count": null,
   "id": "cce92181",
   "metadata": {
    "editable": true,
    "scrolled": true,
    "slideshow": {
     "slide_type": ""
    },
    "tags": []
   },
   "outputs": [],
   "source": [
    "%%bash\n",
    "cd .. && source env.sh\n",
    "cd ${NOOP_HOME}\n",
    "\n",
    "$(get_asset emu-precompile/emu) --help | outputBuffer"
   ]
  },
  {
   "cell_type": "markdown",
   "id": "c404efaf",
   "metadata": {
    "editable": true,
    "slideshow": {
     "slide_type": "subslide"
    },
    "tags": []
   },
   "source": [
    "Unlike the 01-first-run section, this section we'll run a more complex program: CoreMark (2 iterations). The binary is already prepared in the `Xiangshan/ready-to-run` folder.\n",
    "\n",
    "Running the full CoreMark can take 5–10 minutes. To save time, use the -C option to cap the simulation at 20,000 cycles."
   ]
  },
  {
   "cell_type": "code",
   "execution_count": null,
   "id": "8bcde7ac",
   "metadata": {
    "editable": true,
    "scrolled": true,
    "slideshow": {
     "slide_type": ""
    },
    "tags": []
   },
   "outputs": [],
   "source": [
    "%%bash\n",
    "cd .. && source env.sh\n",
    "cd ${NOOP_HOME}\n",
    "\n",
    "$(get_asset emu-precompile/emu) \\\n",
    "    -i $(get_asset workload/coremark-2-iteration.bin) \\\n",
    "    --no-diff \\\n",
    "    -C 20000 \\\n",
    "    2>/dev/null | outputBuffer"
   ]
  },
  {
   "cell_type": "markdown",
   "id": "e7f94384",
   "metadata": {
    "editable": true,
    "slideshow": {
     "slide_type": "subslide"
    },
    "tags": []
   },
   "source": [
    "We've also prepared a fault-injection simulation program for XiangShan; feel free to try running it."
   ]
  },
  {
   "cell_type": "code",
   "execution_count": null,
   "id": "4bac9b5b",
   "metadata": {
    "editable": true,
    "scrolled": true,
    "slideshow": {
     "slide_type": ""
    },
    "tags": []
   },
   "outputs": [],
   "source": [
    "%%bash\n",
    "cd .. && source env.sh\n",
    "cd ${NOOP_HOME}\n",
    "\n",
    "# err 1\n",
    "$(get_asset emu-precompile/emu-alu-err) \\\n",
    "    -i $(get_asset workload/coremark-2-iteration.bin) \\\n",
    "    --no-diff \\\n",
    "    -C 20000 \\\n",
    "    2>/dev/null | outputBuffer || true"
   ]
  },
  {
   "cell_type": "markdown",
   "id": "d37b5aca",
   "metadata": {
    "editable": true,
    "slideshow": {
     "slide_type": ""
    },
    "tags": []
   },
   "source": [
    "The faulty simulation program does not correctly print “Running CoreMark for 2 iterations,” and when it reaches the 20,000-cycle limit, the PC is 0xE, clearly not the behavior of a normal program."
   ]
  },
  {
   "attachments": {},
   "cell_type": "markdown",
   "id": "cda783e4",
   "metadata": {
    "editable": true,
    "slideshow": {
     "slide_type": ""
    },
    "tags": []
   },
   "source": []
  },
  {
   "attachments": {},
   "cell_type": "markdown",
   "id": "66f76336-20bd-4011-800b-6a94317294c4",
   "metadata": {
    "editable": true,
    "slideshow": {
     "slide_type": "slide"
    },
    "tags": []
   },
   "source": [
    "\n",
    "\n",
    "<span style=\"color:red; font-weight:700; font-size:24px;\">\n",
    "Great! \n",
    "\n",
    "We have learned the basic simulation process of Xiangshan.\n",
    "</span>\n",
    "\n",
    "<span style=\"color:black; font-weight:500; font-size:24px;\">\n",
    "    \n",
    "Once we get the RTL simulator ready, what's next? \n",
    "\n",
    "How can we \n",
    "\n",
    "- find and fix functional bugs\n",
    "- do performance analysis\n",
    "- do research on micro-architecture\n",
    "\n",
    "\n",
    "</span>"
   ]
  },
  {
   "cell_type": "markdown",
   "id": "dc1f6e1b-efe7-4e86-803c-42f03d415f65",
   "metadata": {
    "editable": true,
    "slideshow": {
     "slide_type": "notes"
    },
    "tags": []
   },
   "source": [
    "Great. We have learned the basic simulation process of XiangShan.\n",
    "\n",
    "However, getting the RTL simulator ready is just the first step. \n",
    "\n",
    "We want to find and fix functioanl bugs;\n",
    "\n",
    "We also want do further performance analysis and do research on micro-architecture.\n",
    "\n",
    "Next slide will show our solutions.\n"
   ]
  },
  {
   "cell_type": "code",
   "execution_count": null,
   "id": "8169c60b-08b1-4b37-be6a-9231875ee2d6",
   "metadata": {
    "editable": true,
    "slideshow": {
     "slide_type": ""
    },
    "tags": []
   },
   "outputs": [],
   "source": []
  },
  {
   "cell_type": "markdown",
   "id": "8b69f735",
   "metadata": {
    "editable": true,
    "slideshow": {
     "slide_type": "slide"
    },
    "tags": []
   },
   "source": [
    "![MinJie Cycle](../images/02-functional/00-intro/overal-en.png)"
   ]
  },
  {
   "cell_type": "markdown",
   "id": "453fcefe-11e5-418d-bcf7-9ca8739683f2",
   "metadata": {
    "editable": true,
    "slideshow": {
     "slide_type": "notes"
    },
    "tags": []
   },
   "source": [
    "As we mentioned before, we use MinJie Platform to construct the workflow, which is shown as functional verification toolchain in the picture\n",
    "\n",
    "The functional verification loop usually includes 4 parts:\n",
    "\n",
    " usually, the head of the loop is test generation: we developed nexus-am: generate bare-metal tests\n",
    " \n",
    " for bug detection: nemu is used to provide golden result, and difftest is the result comparison tool.\n",
    " \n",
    " to preserve the bug context, we will demonstrate the usage of lightsss\n",
    " \n",
    " the tail of the loop, aka, troubleshoot & bug fixation, we use waveform & chiselDB\n",
    " \n",
    "We propose several tools for each step.\n"
   ]
  },
  {
   "cell_type": "markdown",
   "id": "f45fb7a6",
   "metadata": {
    "editable": true,
    "slideshow": {
     "slide_type": ""
    },
    "tags": []
   },
   "source": []
  },
  {
   "cell_type": "markdown",
   "id": "7017439b",
   "metadata": {
    "editable": true,
    "slideshow": {
     "slide_type": "subslide"
    },
    "tags": []
   },
   "source": [
    "# NEMU: ISA Reference"
   ]
  },
  {
   "cell_type": "markdown",
   "id": "fa8f7be0",
   "metadata": {
    "editable": true,
    "slideshow": {
     "slide_type": ""
    },
    "tags": []
   },
   "source": [
    "To address the issue “How does the simulation program know it has already encountered an error?”, we must first define what “correct” means; in other words, we need a reference model.\n",
    "\n",
    "We developed NEMU, a Spike-like ISA simulator. With targeted optimizations, NEMU achieves QEMU-class performance and exposes APIs to compare and verify XiangShan's architectural state.\n",
    "\n",
    "In this section, we demonstrate how to compile and run NEMU.\n",
    "\n",
    "NEMU provides two default configurations:\n",
    "- xxx_defconfig：xxx Default settings for standalone run mode\n",
    "- xxx-ref_defconfig：xxx As the default configuration for DiffTest co-simulation mode\n",
    "\n"
   ]
  },
  {
   "cell_type": "code",
   "execution_count": null,
   "id": "c9ba1be3",
   "metadata": {
    "editable": true,
    "scrolled": true,
    "slideshow": {
     "slide_type": ""
    },
    "tags": []
   },
   "outputs": [],
   "source": [
    "%%bash\n",
    "cd .. && source env.sh\n",
    "cd ${NEMU_HOME}\n",
    "\n",
    "make clean\n",
    "\n",
    "# compile default config as standalone mode\n",
    "make riscv64-xs_defconfig\n",
    "make -j\n",
    "\n",
    "make clean-softfloat\n",
    "\n",
    "# compile default config as reference mode\n",
    "make riscv64-xs-ref_defconfig\n",
    "make -j"
   ]
  },
  {
   "cell_type": "markdown",
   "id": "a31a1e67",
   "metadata": {
    "editable": true,
    "slideshow": {
     "slide_type": "subslide"
    },
    "tags": []
   },
   "source": [
    "Execute CoreMark on NEMU.\n",
    "\n",
    "Use the -b option to start NEMU in batch mode and avoid manually entering commands to run the workload."
   ]
  },
  {
   "cell_type": "code",
   "execution_count": null,
   "id": "9dc1ccbe",
   "metadata": {
    "editable": true,
    "scrolled": true,
    "slideshow": {
     "slide_type": ""
    },
    "tags": []
   },
   "outputs": [],
   "source": [
    "%%bash\n",
    "cd .. && source env.sh\n",
    "cd ${NEMU_HOME}\n",
    "\n",
    "./build/riscv64-nemu-interpreter \\\n",
    "    -b \\\n",
    "    $(get_asset workload/coremark-2-iteration.bin) | outputBuffer"
   ]
  },
  {
   "cell_type": "markdown",
   "id": "e63ed417",
   "metadata": {},
   "source": []
  },
  {
   "cell_type": "markdown",
   "id": "ba5c201c",
   "metadata": {
    "editable": true,
    "slideshow": {
     "slide_type": "subslide"
    },
    "tags": []
   },
   "source": [
    "# Difftest：ISA Co-simulation framework\n",
    "\n",
    "To address the issue of when the simulation program fails, we introduce DiffTest, an ISA co-simulation framework. Flow: whenever the RTL core (DUT) commits an instruction or updates state, the ISA simulator(REF) executes the same instruction; DiffTest compares architectural state between the DUT and the REF. On any mismatch it halts and reports an error; otherwise it continues. \n",
    "\n",
    "<div align=\"center\">\n",
    "  <img src=\"../images/02-functional/02-difftest/difftest-arch-en.png\" alt=\"difftest-arch\">\n",
    "</div>\n"
   ]
  },
  {
   "cell_type": "markdown",
   "id": "7e911288-a326-4e21-81fc-65fe1dba4ed8",
   "metadata": {
    "editable": true,
    "slideshow": {
     "slide_type": "subslide"
    },
    "tags": []
   },
   "source": [
    "Run the workload on XiangShan and use NEMU for Difftest."
   ]
  },
  {
   "cell_type": "code",
   "execution_count": null,
   "id": "05da69a7",
   "metadata": {
    "editable": true,
    "scrolled": true,
    "slideshow": {
     "slide_type": ""
    },
    "tags": []
   },
   "outputs": [],
   "source": [
    "%%bash\n",
    "cd .. && source env.sh\n",
    "cd ${NOOP_HOME}\n",
    "\n",
    "$(get_asset emu-precompile/emu) \\\n",
    "    -i $(get_asset workload/hello-riscv64-xs.bin) \\\n",
    "    --diff ${NEMU_HOME}/build/riscv64-nemu-interpreter-so \\\n",
    "    2>/dev/null | outputBuffer"
   ]
  },
  {
   "cell_type": "markdown",
   "id": "9a9f0bef",
   "metadata": {
    "editable": true,
    "slideshow": {
     "slide_type": "subslide"
    },
    "tags": []
   },
   "source": [
    "You can run workloads on the prebuilt XiangShan processor with injected bugs and use NEMU for Difftest."
   ]
  },
  {
   "cell_type": "code",
   "execution_count": null,
   "id": "25738402",
   "metadata": {
    "editable": true,
    "slideshow": {
     "slide_type": ""
    },
    "tags": []
   },
   "outputs": [],
   "source": [
    "%%bash\n",
    "cd .. && source env.sh\n",
    "cd ${NOOP_HOME}\n",
    "\n",
    "$(get_asset emu-precompile/emu-alu-err) \\\n",
    "    -i $(get_asset workload/hello-riscv64-xs.bin) \\\n",
    "    --diff ${NEMU_HOME}/build/riscv64-nemu-interpreter-so \\\n",
    "    2>/dev/null | tee emu_err.log > /dev/null || true # tutorial：add \"|| true\" to avoid notebook errors; It's not needed in real usage.\n",
    "\n",
    "echo \"Difftest directly point out specific errors of registers and PC\"\n",
    "\n",
    "tail -n 7 emu_err.log\n"
   ]
  },
  {
   "cell_type": "markdown",
   "id": "ae31e2ba",
   "metadata": {
    "editable": true,
    "slideshow": {
     "slide_type": ""
    },
    "tags": []
   },
   "source": [
    "At PC 0x0080000078, the REF and DUT are not matched: a0 is 0 in the REF, but 0x2000 in the DUT."
   ]
  },
  {
   "cell_type": "code",
   "execution_count": null,
   "id": "281c01f3-ed05-49ea-bc14-01d88c1270e9",
   "metadata": {
    "editable": true,
    "slideshow": {
     "slide_type": "subslide"
    },
    "tags": []
   },
   "outputs": [],
   "source": [
    "%%bash\n",
    "cd .. && source env.sh\n",
    "cd ${NOOP_HOME}\n",
    "\n",
    "echo \"----------------------------------------------------------------------------------------------\"\n",
    "echo \"Difftest presents registers situation, incluing Inter/Float/CSR Registers\"\n",
    "\n",
    "tail -n 95 emu_err.log | head -n 19\n"
   ]
  },
  {
   "cell_type": "code",
   "execution_count": null,
   "id": "bef2de01-68cd-431a-9cef-571df32d5302",
   "metadata": {
    "editable": true,
    "slideshow": {
     "slide_type": "subslide"
    },
    "tags": []
   },
   "outputs": [],
   "source": [
    "%%bash\n",
    "cd .. && source env.sh\n",
    "cd ${NOOP_HOME}\n",
    "\n",
    "echo \"-----------------------------------------------------------------------------------------------\"\n",
    "echo \"Difftest shows error occurs in which commit group\"\n",
    "\n",
    "tail -n 124 emu_err.log | head -n 11"
   ]
  },
  {
   "cell_type": "markdown",
   "id": "ef26cc38",
   "metadata": {
    "editable": true,
    "slideshow": {
     "slide_type": "subslide"
    },
    "tags": []
   },
   "source": [
    "After Difftest detects an error, we can rerun the simulation and enable waveform output around the failing cycle reported by Difftest."
   ]
  },
  {
   "cell_type": "code",
   "execution_count": null,
   "id": "cf1b01b0",
   "metadata": {
    "editable": true,
    "slideshow": {
     "slide_type": ""
    },
    "tags": []
   },
   "outputs": [],
   "source": [
    "%%bash\n",
    "cd .. && source env.sh\n",
    "cd ${NOOP_HOME}\n",
    "\n",
    "mkdir -p build\n",
    "rm -f ./build/*.vcd\n",
    "\n",
    "$(get_asset emu-precompile/emu-alu-err) \\\n",
    "    -i $(get_asset workload/hello-riscv64-xs.bin) \\\n",
    "    --diff ${NEMU_HOME}/build/riscv64-nemu-interpreter-so \\\n",
    "    -b 8000 \\\n",
    "    -e 10000 \\\n",
    "    --dump-wave \\\n",
    "    2>/dev/null > /dev/null|| true\n",
    "\n",
    "echo -n \"Dump wave: \"\n",
    "realpath ./build/*.vcd"
   ]
  },
  {
   "cell_type": "markdown",
   "id": "32d6cbc3",
   "metadata": {
    "editable": true,
    "slideshow": {
     "slide_type": ""
    },
    "tags": []
   },
   "source": []
  },
  {
   "cell_type": "markdown",
   "id": "a030f62c-1313-49dd-b0b7-658010ccf808",
   "metadata": {
    "editable": true,
    "slideshow": {
     "slide_type": "subslide"
    },
    "tags": []
   },
   "source": [
    "![LightSSS](../images/02-functional/03-lightSSS/lightSSS-overall-en.png)"
   ]
  },
  {
   "cell_type": "markdown",
   "id": "86f65483-f1ce-4333-b2bf-744b55e01807",
   "metadata": {
    "editable": true,
    "slideshow": {
     "slide_type": "notes"
    },
    "tags": []
   },
   "source": [
    "As we know, if you want to reproduce a bug, re-run simulation is so time-consuming, especially for long workload like spec cpu.\n",
    "So Snapshot is the way out. We have LightSSS, a light-weight simulation snapshot.\n",
    "\n",
    "During simulation, LightSSS will record snapshots of the process with funtion fork().\n",
    "\n",
    "When bug is detected, it will be waked up and generate waveform of several cycles from the latest snapshot before the bug occurred.\n",
    "\n",
    "LightSSS have good scalability because you can make snapshots for any external models (such as model written in C++), and do not need to understand model details.\n",
    "\n",
    "And the overhead of taking a snapshot is low, only about 500 micro-seconds. This is far less than the overhead of RTL snapshots from verilator.\n"
   ]
  },
  {
   "cell_type": "markdown",
   "id": "6d217307-4e2d-4c8d-9736-9da8bee1afdf",
   "metadata": {
    "editable": true,
    "slideshow": {
     "slide_type": "subslide"
    },
    "tags": []
   },
   "source": [
    "If you see \"the oldest checkpoint start to dump wave and dump nemu log...\", LightSSS is active. The simulation will then restart from the latest snapshot and record waveforms."
   ]
  },
  {
   "cell_type": "code",
   "execution_count": null,
   "id": "be548480",
   "metadata": {
    "editable": true,
    "scrolled": true,
    "slideshow": {
     "slide_type": ""
    },
    "tags": []
   },
   "outputs": [],
   "source": [
    "%%bash\n",
    "cd .. && source env.sh\n",
    "cd ${NOOP_HOME}\n",
    "\n",
    "mkdir -p build\n",
    "rm -f ./build/*.vcd\n",
    "\n",
    "$(get_asset emu-precompile/emu-alu-err) \\\n",
    "    -i $(get_asset workload/hello-riscv64-xs.bin) \\\n",
    "    --diff ${NEMU_HOME}/build/riscv64-nemu-interpreter-so \\\n",
    "    --enable-fork \\\n",
    "    2> /dev/null | outputBuffer || true\n",
    "\n",
    "echo -n \"Dump wave: \"\n",
    "realpath ./build/*.vcd"
   ]
  },
  {
   "cell_type": "markdown",
   "id": "856fe787",
   "metadata": {
    "editable": true,
    "slideshow": {
     "slide_type": ""
    },
    "tags": []
   },
   "source": []
  },
  {
   "cell_type": "markdown",
   "id": "8b2e36af",
   "metadata": {
    "editable": true,
    "slideshow": {
     "slide_type": "subslide"
    },
    "tags": []
   },
   "source": [
    "# ChiselDB：Debug-friendly structured database\n",
    "\n",
    "<!-- <div align=\"center\">\n",
    "  <img src=\"../images/02-functional/chiselDB-overview.png\" alt=\"chiselDB-overview\" style=\"width: auto; height: 50%;\">\n",
    "</div> -->\n",
    "\n",
    "<img src=\"../images/02-functional/04-chiseldb/chiseldb-en.png\" alt=\"chiselDB-overview\" style=\"float:right; width:500px; margin-left:5px;\">\n",
    "\n",
    "**Motivation**\n",
    "\n",
    "- Waveforms are large in size and hard to apply further analysis\n",
    "\n",
    "- Need to analyze structured data like memory transaction trace\n",
    "\n",
    "**We propose ChiselDB for storage of structured data to support faster bug localization.**\n",
    "\n",
    "**Highlights**\n",
    "\n",
    "- Inserting probes between module interfaces in hardware\n",
    "\n",
    "- DPI-C: Using C++ function in Chisel code to transfer data\n",
    "\n",
    "- Persist in database, SQL queries supported\n",
    "<div style=\"clear:both;\"></div>\n"
   ]
  },
  {
   "cell_type": "markdown",
   "id": "0463a47e-56dc-45c3-8f54-a66f6e841308",
   "metadata": {
    "editable": true,
    "slideshow": {
     "slide_type": "notes"
    },
    "tags": []
   },
   "source": [
    "LigtSSS is powerful but the waveform are still large in size and hard to apply further analysis\n",
    "And we want to analyze structured data like memory transaction trace\n",
    "So we present ChiselDB, a debug-friendly structured database.\n",
    "It will insert probes between module interfaces in hardware,\n",
    "and use DPI-C in Chisel code directly to transfer bundle info and data\n",
    "As for bug analysis, SQL queries are supported so it's much more easy to use than waveform.\n"
   ]
  },
  {
   "cell_type": "markdown",
   "id": "dd31b4c4-1d5d-4c0d-bb00-bf3d08bd2eca",
   "metadata": {
    "editable": true,
    "slideshow": {
     "slide_type": ""
    },
    "tags": []
   },
   "source": [
    "ChiselDB is a structured database for aiding functional and performance debugging. It uses a DPI-C interface to log Chisel Bundle data into an SQLite database.\n",
    "\n",
    "Compared to Verilog wires, Chisel Bundles carry higher-level semantics—essentially groups of multiple wires. You can then access these structured data with SQL queries for analysis."
   ]
  },
  {
   "cell_type": "markdown",
   "id": "0e760296",
   "metadata": {
    "editable": true,
    "slideshow": {
     "slide_type": "subslide"
    },
    "tags": []
   },
   "source": [
    "We provide a prebuilt simulator `emu-cdb-err` with an injected bug that forces all data released from L2 Cache to L3 Cache to a constant value.\n",
    "\n",
    "Enable ChiselDB with `--dump-db` and turn on DiffTest; after running, DiffTest reports an error and a `.db` file is generated under `./build`."
   ]
  },
  {
   "cell_type": "code",
   "execution_count": null,
   "id": "597202d8",
   "metadata": {
    "editable": true,
    "scrolled": true,
    "slideshow": {
     "slide_type": ""
    },
    "tags": []
   },
   "outputs": [],
   "source": [
    "%%bash\n",
    "cd .. && source env.sh\n",
    "cd ${NOOP_HOME}\n",
    "\n",
    "rm -f ./build/*.db # clean old files\n",
    "mkdir -p build\n",
    "\n",
    "$(get_asset emu-precompile/emu-cdb-err) \\\n",
    "    -i $(get_asset workload/stream_100000.bin) \\\n",
    "    --diff $(get_asset emu-precompile/riscv64-nemu-interpreter-so) \\\n",
    "    --dump-db \\\n",
    "    2>linux.err || true\n",
    "\n",
    "echo -n \"Dump DB: \"\n",
    "realpath ./build/*.db"
   ]
  },
  {
   "cell_type": "markdown",
   "id": "d32c3e3d",
   "metadata": {
    "editable": true,
    "slideshow": {
     "slide_type": "subslide"
    },
    "tags": []
   },
   "source": [
    "Then use SQLite to read the `.db` for analysis: query all TileLink transactions at address `0x800419c0`, and format the output with `./scripts/cache/convert_tllog.sh`."
   ]
  },
  {
   "cell_type": "code",
   "execution_count": null,
   "id": "e6dca608",
   "metadata": {
    "editable": true,
    "scrolled": true,
    "slideshow": {
     "slide_type": ""
    },
    "tags": []
   },
   "outputs": [],
   "source": [
    "%%bash\n",
    "cd .. && source env.sh\n",
    "\n",
    "DB=$(ls -t ${NOOP_HOME}/build/*db | head -n 1)\n",
    "\n",
    "sqlite3 ${DB} \"select * from TLLog where ADDRESS=0x80048f00\" | sh ${NOOP_HOME}/scripts/cache/convert_tllog.sh | outputBuffer"
   ]
  },
  {
   "cell_type": "markdown",
   "id": "51ccc79e",
   "metadata": {
    "editable": true,
    "slideshow": {
     "slide_type": "subslide"
    },
    "tags": []
   },
   "source": [
    "Result: [Time/To_From/Channel/Opcode/Permission/Address/Data]\n",
    "\n",
    "**Data successfully transferred from L1D to L2**\n",
    "\n",
    "16171 L2_L1D_0 C ProbeAckData Shrink TtoN 0 5 80048f00 0000000080048f50 0000000080014328 0000000000000000 0000000000000000 user: 0 echo: 0 \n",
    "\n",
    "16172 L2_L1D_0 C ProbeAckData Shrink TtoN 0 5 80048f00 0000000000000000 0000000000000000 000000008001e000 0000000080042060 user: 0 echo: 0 \n",
    "\n"
   ]
  },
  {
   "cell_type": "markdown",
   "id": "826c9b4b-519a-4b34-87fd-9a7d8ec73a1a",
   "metadata": {
    "editable": true,
    "slideshow": {
     "slide_type": "fragment"
    },
    "tags": []
   },
   "source": [
    "**Data successfully transferred from L2 to L3**\n",
    "\n",
    "16179 L3_L2_0 C ProbeAckData Shrink TtoN 0 2 80048f00 0000000080048f50 0000000080014328 0000000000000000 0000000000000000 user: 0 echo: 1 \n",
    "\n",
    "16180 L3_L2_0 C ProbeAckData Shrink TtoN 0 2 80048f00 0000000000000000 0000000000000000 000000008001e000 0000000080042060 user: 0 echo: 1"
   ]
  },
  {
   "cell_type": "markdown",
   "id": "7800bc06-dde0-4091-ad0b-9a6489331d96",
   "metadata": {
    "editable": true,
    "slideshow": {
     "slide_type": "fragment"
    },
    "tags": []
   },
   "source": [
    "**But when L1D acquires Eaddr again, data loaded from L3 is wrong**\n",
    "\n",
    "16457 L2_L1D_0 A AcquireBlock Grow NtoT 0 0 80048f00 0000000000000000 0000000000000000 0000000000000000 0000000000000000 user: 80048f07 echo: 0 \n",
    "\n",
    "16463 L3_L2_0 A AcquireBlock Grow NtoT 0 0 80048f00 0000000000000000 0000000000000000 0000000000000000 0000000000000000 user: 0 echo: 1 \n",
    "\n",
    "16486 L3_L2_0 D GrantData Cap toT 1 0 80048f00 **0000000000abcdef** 0000000000000000 0000000000000000 0000000000000000 user: 0 echo: 1 \n",
    "\n",
    "**So there must be something wrong when L3 records Release Data**"
   ]
  },
  {
   "cell_type": "code",
   "execution_count": null,
   "id": "29aad42a-b65b-4efe-bdab-ced7ee966c00",
   "metadata": {},
   "outputs": [],
   "source": []
  },
  {
   "cell_type": "markdown",
   "id": "453b78be",
   "metadata": {
    "editable": true,
    "slideshow": {
     "slide_type": "subslide"
    },
    "tags": []
   },
   "source": [
    "\n",
    "![TL-TEST](../images/02-functional/05-tl_test/tl-test-overall-en.png)\n"
   ]
  },
  {
   "cell_type": "markdown",
   "id": "e9263b94-53f0-40b1-a8eb-bd4b3c492b4a",
   "metadata": {
    "editable": true,
    "slideshow": {
     "slide_type": "notes"
    },
    "tags": []
   },
   "source": [
    "Co-verification of the Cache system with upstream modules is complex and prevents rapid iteration.\n",
    "\n",
    "To address this issue, we developed TL-Test: a unit-level cache-system verification framework that supports the TileLink protocol, cache-coherence checking, and randomized test-case generation."
   ]
  },
  {
   "cell_type": "markdown",
   "id": "e555ac4c",
   "metadata": {
    "editable": true,
    "slideshow": {
     "slide_type": "subslide"
    },
    "tags": []
   },
   "source": [
    "Here is another example to detect cache coherence violation by TL-Test. We inject a bug that wrongly shift the grant data.\n"
   ]
  },
  {
   "cell_type": "code",
   "execution_count": null,
   "id": "00157f6f",
   "metadata": {
    "editable": true,
    "slideshow": {
     "slide_type": ""
    },
    "tags": []
   },
   "outputs": [],
   "source": [
    "%%bash\n",
    "cd ../ && source env.sh\n",
    "\n",
    "cat $(get_asset tltest-precompile/tlt_err.patch) | outputBuffer"
   ]
  },
  {
   "cell_type": "markdown",
   "id": "767915b2",
   "metadata": {
    "editable": true,
    "slideshow": {
     "slide_type": ""
    },
    "tags": []
   },
   "source": [
    "TL-Test generates randomized tests and pinpoints a transfer problem at a specific address in our cache design. It logs all bus transactions; we then use grep to extract log for analysis."
   ]
  },
  {
   "cell_type": "markdown",
   "id": "524d2203-9fa6-4b9b-818c-2940c0c73533",
   "metadata": {
    "editable": true,
    "slideshow": {
     "slide_type": "subslide"
    },
    "tags": []
   },
   "source": [
    "You can run the demo on the prebuilt tl-test."
   ]
  },
  {
   "cell_type": "code",
   "execution_count": null,
   "id": "cced7e38",
   "metadata": {
    "editable": true,
    "slideshow": {
     "slide_type": ""
    },
    "tags": []
   },
   "outputs": [],
   "source": [
    "%%bash\n",
    "cd ../ && source env.sh\n",
    "# cd $TLT_HOME && make coupledL2-test-l2l3-v3 run THREADS_BUILD=16 CXX_COMPILER=clang++-17\n",
    "# cd $TLT_HOME/run && ./tltest_v3lt 2>&1 | tee tltest_v3lt.log\n",
    "\n",
    "get_asset tltest-precompile/tltest_err\n",
    "\n",
    "cd assets/tltest-precompile && $(get_asset tltest-precompile/tltest_err) 2>&1 | tee tltest_v3lt.log > /dev/null\n",
    "\n",
    "echo \"run complete!\"\n",
    "\n",
    "tail -n 50 tltest_v3lt.log | head -n 15"
   ]
  },
  {
   "cell_type": "markdown",
   "id": "411ced83",
   "metadata": {
    "editable": true,
    "slideshow": {
     "slide_type": "subslide"
    },
    "tags": []
   },
   "source": [
    "Error Addr： 0x80"
   ]
  },
  {
   "cell_type": "code",
   "execution_count": null,
   "id": "2f8cf970",
   "metadata": {
    "editable": true,
    "slideshow": {
     "slide_type": ""
    },
    "tags": []
   },
   "outputs": [],
   "source": [
    "%%bash\n",
    "cd ../ && source env.sh > /dev/null\n",
    "# grep \"addr: 0x80\" $TLT_HOME/run/tltest_v3lt.log\n",
    "\n",
    "cd assets/tltest-precompile && grep \"addr: 0x80,\" tltest_v3lt.log | head -n 10"
   ]
  },
  {
   "cell_type": "markdown",
   "id": "e95e39e9",
   "metadata": {
    "editable": true,
    "slideshow": {
     "slide_type": "fragment"
    },
    "tags": []
   },
   "source": [
    "Result: [Time/INFO-Level/Node-Idx/Core/Channel/Opcode/Source/Address/alias/Data]\n",
    "\n",
    "**L1D acquires Eaddr** \n",
    "\n",
    "[236] [tl-test-new-INFO] #0 L2[0].C[0] [fire A] [AcquirePerm NtoT] source: 0x3, addr: 0x80, alias: 0"
   ]
  },
  {
   "cell_type": "markdown",
   "id": "3236a3ed",
   "metadata": {
    "editable": true,
    "slideshow": {
     "slide_type": "fragment"
    },
    "tags": []
   },
   "source": [
    "**L1D release Eaddr, and data successfully transferred from L1D to L2**\n",
    "\n",
    "[806] [tl-test-new-INFO] #0 L2[0].C[0] [fire C] [ReleaseData TtoN] source: 0x3, addr: 0x80, alias: 0, data: [ c7 a5 ... ]\n",
    "\n",
    "[808] [tl-test-new-INFO] #0 L2[0].C[0] [fire C] [ReleaseData TtoN] source: 0x3, addr: 0x80, alias: 0, data: [ fe 14 ... ]"
   ]
  },
  {
   "cell_type": "markdown",
   "id": "3fb8d83d",
   "metadata": {
    "editable": true,
    "slideshow": {
     "slide_type": "fragment"
    },
    "tags": []
   },
   "source": [
    "**but when L2 grant data of Eaddr, data loadad from L2 is error**\n",
    "\n",
    "[2036] [tl-test-new-INFO] #0 L2[0].C[0] [fire D] [GrantData toT] source: 0xf, addr: 0x80, alias: 0x1, data: [ 00 c7 ... ]\n",
    "\n",
    "[2038] [tl-test-new-INFO] #0 L2[0].C[0] [fire D] [GrantData toT] source: 0xf, addr: 0x80, alias: 0x1, data: [ 00 fe ... ]\n",
    "\n",
    "**So there must be something wrong when L2 Grant data!** "
   ]
  },
  {
   "cell_type": "code",
   "execution_count": null,
   "id": "e2ae1c82-944a-49ff-b520-f4a8355d7ed5",
   "metadata": {
    "editable": true,
    "slideshow": {
     "slide_type": ""
    },
    "tags": []
   },
   "outputs": [],
   "source": []
  }
 ],
 "metadata": {
  "kernelspec": {
   "display_name": "Python 3 (ipykernel)",
   "language": "python",
   "name": "python3"
  },
  "language_info": {
   "codemirror_mode": {
    "name": "ipython",
    "version": 3
   },
   "file_extension": ".py",
   "mimetype": "text/x-python",
   "name": "python",
   "nbconvert_exporter": "python",
   "pygments_lexer": "ipython3",
   "version": "3.12.3"
  }
 },
 "nbformat": 4,
 "nbformat_minor": 5
}
