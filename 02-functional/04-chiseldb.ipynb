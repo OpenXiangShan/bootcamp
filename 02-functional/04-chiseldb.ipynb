{
 "cells": [
  {
   "cell_type": "markdown",
   "id": "93321384",
   "metadata": {},
   "source": [
    "# ChiselDB：调试友好的结构化数据库\n",
    "\n",
    "ChiselDB 是一个用于辅助功能/性能调试的结构化数据库。它使用 DPI-C 接口将 Chisel Bundle 的数据记录到 sqlite 数据库中。\n",
    "\n",
    "相比 verilog wire，Chisel Bundle 具有更高层的语义信息（可以类比成数个 verilog wire 组成的组），后续使用 SQL 查询语句访问这些结构化的数据进行分析。\n",
    "```"
   ]
  },
  {
   "cell_type": "markdown",
   "id": "7f673a11",
   "metadata": {},
   "source": [
    "我们提供了一个预先编译的 `emu-cdb-err` 仿真程序，其存在一个人为注入的 bug，将从 L2 Cache 到 L3 Cache 释放数据都置为常量值。\n",
    "\n",
    "通过 `--dump-db` 参数启用 ChiselDB，同时启用 difftest，运行后 difftest 报错，并在 `./build` 路径下生成了 `.db` 文件。"
   ]
  },
  {
   "cell_type": "code",
   "execution_count": null,
   "id": "a01e3eff",
   "metadata": {},
   "outputs": [],
   "source": [
    "%%bash\n",
    "cd ../ && source env.sh >/dev/null\n",
    "cd ${NOOP_HOME}\n",
    "\n",
    "rm -f ./build/*.db\n",
    "\n",
    "${READY2RUN_HOME}/emu-cdb-err \\\n",
    "    -i $NOOP_HOME/ready-to-run/linux.bin \\\n",
    "    --diff $NOOP_HOME/ready-to-run/riscv64-nemu-interpreter-so \\\n",
    "    --dump-db \\\n",
    "    2>linux.err || true\n",
    "\n",
    "echo -n \"Dump DB: \"\n",
    "realpath ./build/*.db"
   ]
  },
  {
   "cell_type": "markdown",
   "id": "b90442be",
   "metadata": {},
   "source": [
    "随后我们可以使用 sqlite 读取 db 文件并进行分析，下面查询所有地址为 `0x800419c0` 的 tilelink transaction，并使用 `./scripts/cache/convert_tllog.sh` 脚本来格式化输出。"
   ]
  },
  {
   "cell_type": "code",
   "execution_count": null,
   "id": "3b37b218",
   "metadata": {},
   "outputs": [],
   "source": [
    "%%bash\n",
    "cd ../ && source env.sh >/dev/null\n",
    "cd ${NOOP_HOME}\n",
    "\n",
    "DB=$(ls -t ./build/*db | head -n 1)\n",
    "sqlite3 $DB \"select * from TLLog where ADDRESS=0x800419c0\" | sh ./scripts/cache/convert_tllog.sh"
   ]
  }
 ],
 "metadata": {
  "kernelspec": {
   "display_name": "Python 3",
   "language": "python",
   "name": "python3"
  },
  "language_info": {
   "codemirror_mode": {
    "name": "ipython",
    "version": 3
   },
   "file_extension": ".py",
   "mimetype": "text/x-python",
   "name": "python",
   "nbconvert_exporter": "python",
   "pygments_lexer": "ipython3",
   "version": "3.10.12"
  }
 },
 "nbformat": 4,
 "nbformat_minor": 5
}
