{
 "cells": [
  {
   "cell_type": "markdown",
   "id": "93321384",
   "metadata": {},
   "source": [
    "# ChiselDB：调试友好的结构化数据库\n",
    "\n",
    "**ChiselDB：Debug-friendly structured database**\n",
    "\n",
    "ChiselDB 是一个用于辅助功能/性能调试的结构化数据库。它使用 DPI-C 接口将 Chisel Bundle 的数据记录到 sqlite 数据库中。\n",
    "\n",
    "ChiselDB is a structured database for aiding functional and performance debugging. It uses a DPI-C interface to log Chisel Bundle data into an SQLite database.\n",
    "\n",
    "相比 verilog wire，Chisel Bundle 具有更高层的语义信息（可以类比成数个 verilog wire 组成的组），后续使用 SQL 查询语句访问这些结构化的数据进行分析。\n",
    "\n",
    "Compared to Verilog wires, Chisel Bundles carry higher-level semantics—essentially groups of multiple wires. You can then access these structured data with SQL queries for analysis."
   ]
  },
  {
   "cell_type": "markdown",
   "id": "7f673a11",
   "metadata": {},
   "source": [
    "我们提供了一个预先编译的 `emu-cdb-err` 仿真程序，其存在一个人为注入的 bug，将从 L2 Cache 到 L3 Cache 释放数据都置为常量值。\n",
    "\n",
    "We provide a prebuilt simulator `emu-cdb-err` with an injected bug that forces all data released from L2 Cache to L3 Cache to a constant value.\n",
    "\n",
    "通过 `--dump-db` 参数启用 ChiselDB，同时启用 difftest，运行后 difftest 报错，并在 `./build` 路径下生成了 `.db` 文件。\n",
    "\n",
    "Enable ChiselDB with `--dump-db` and turn on DiffTest; after running, DiffTest reports an error and a `.db` file is generated under `./build`."
   ]
  },
  {
   "cell_type": "code",
   "execution_count": null,
   "id": "a01e3eff",
   "metadata": {},
   "outputs": [],
   "source": [
    "%%bash\n",
    "cd .. && source env.sh\n",
    "cd ${NOOP_HOME}\n",
    "\n",
    "rm -f ./build/*.db\n",
    "\n",
    "$(get_asset emu-precompile/emu-cdb-err) \\\n",
    "    -i $(get_asset workload/stream_100000.bin) \\\n",
    "    --diff $(get_asset emu-precompile/riscv64-nemu-interpreter-so) \\\n",
    "    --dump-db \\\n",
    "    2>linux.err || true\n",
    "\n",
    "echo -n \"Dump DB: \"\n",
    "realpath ./build/*.db"
   ]
  },
  {
   "cell_type": "markdown",
   "id": "b90442be",
   "metadata": {},
   "source": [
    "随后我们可以使用 sqlite 读取 db 文件并进行分析，下面查询所有地址为 `0x80048f00` 的 tilelink transaction，并使用 `./scripts/cache/convert_tllog.sh` 脚本来格式化输出。\n",
    "\n",
    "Then use SQLite to read the `.db` for analysis: query all TileLink transactions at address `0x800419c0`, and format the output with `./scripts/cache/convert_tllog.sh`."
   ]
  },
  {
   "cell_type": "code",
   "execution_count": null,
   "id": "3b37b218",
   "metadata": {},
   "outputs": [],
   "source": [
    "%%bash\n",
    "cd .. && source env.sh\n",
    "\n",
    "DB=$(ls -t ${NOOP_HOME}/build/*db | head -n 1)\n",
    "\n",
    "sqlite3 ${DB} \"select * from TLLog where ADDRESS=0x80048f00\" | sh ${NOOP_HOME}/scripts/cache/convert_tllog.sh"
   ]
  }
 ],
 "metadata": {
  "kernelspec": {
   "display_name": "Python 3",
   "language": "python",
   "name": "python3"
  },
  "language_info": {
   "codemirror_mode": {
    "name": "ipython",
    "version": 3
   },
   "file_extension": ".py",
   "mimetype": "text/x-python",
   "name": "python",
   "nbconvert_exporter": "python",
   "pygments_lexer": "ipython3",
   "version": "3.12.3"
  }
 },
 "nbformat": 4,
 "nbformat_minor": 5
}
