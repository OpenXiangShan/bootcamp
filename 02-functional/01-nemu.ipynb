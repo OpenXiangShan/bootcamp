{
 "cells": [
  {
   "cell_type": "markdown",
   "id": "588d03d7",
   "metadata": {},
   "source": [
    "# NEMU：ISA 参考\n",
    "\n",
    "**NEMU: ISA Reference**"
   ]
  },
  {
   "cell_type": "markdown",
   "id": "e39a60f7",
   "metadata": {},
   "source": [
    "为了解决“仿真程序怎么知道自己已经出错了”这一问题，我们首先需要知道“什么是正确的”，也就是说，我们需要有一个参考模型。\n",
    "\n",
    "To address the issue “How does the simulation program know it has already encountered an error?”, we must first define what “correct” means; in other words, we need a reference model.\n",
    "\n",
    "我们提出了一个指令集模拟器，称为 NEMU。通过优化技术，NEMU 实现了与 QEMU 相近的性能。在对指令集的支持上与 XiangShan 对齐。此外，NEMU 还专门提供了一组 API 来更好的支持与 XiangShan 的比较。\n",
    "\n",
    "We developed NEMU, a Spike-like ISA simulator. With targeted optimizations, NEMU achieves QEMU-class performance and exposes APIs to compare and verify XiangShan's architectural state.\n",
    "\n",
    "在本节中，我们演示如何编译和运行 NEMU。\n",
    "\n",
    "In this section, we demonstrate how to compile and run NEMU.\n",
    "\n",
    "NEMU 提供两组默认配置：\n",
    "- xxx_defconfig：xxx 目标的独立运行模式的默认配置；\n",
    "- xxx-ref_defconfig：xxx 作为 difftest 协同仿真模式的默认配置。\n",
    "\n",
    "NEMU provides two default configurations:\n",
    "- xxx_defconfig：xxx Default settings for standalone run mode\n",
    "- xxx-ref_defconfig：xxx As the default configuration for DiffTest co-simulation mode"
   ]
  },
  {
   "cell_type": "code",
   "execution_count": null,
   "id": "6af9bd75",
   "metadata": {},
   "outputs": [],
   "source": [
    "%%bash\n",
    "cd .. && source env.sh\n",
    "cd ${NEMU_HOME}\n",
    "\n",
    "make clean\n",
    "\n",
    "# compile default config as standalone mode\n",
    "make riscv64-xs_defconfig\n",
    "make -j\n",
    "\n",
    "make clean-softfloat\n",
    "\n",
    "# compile default config as reference mode\n",
    "make riscv64-xs-ref_defconfig\n",
    "make -j"
   ]
  },
  {
   "cell_type": "markdown",
   "id": "b906741c",
   "metadata": {},
   "source": [
    "下面在 standalone 模式的 NEMU 上运行 Coremark 工作负载。\n",
    "\n",
    "Execute CoreMark on NEMU.\n",
    "\n",
    "使用 `-b` 参数以批处理模式启动 NEMU，避免手动输入命令启动运行 workload。\n",
    "\n",
    "Use the -b option to start NEMU in batch mode and avoid manually entering commands to run the workload."
   ]
  },
  {
   "cell_type": "code",
   "execution_count": null,
   "id": "caa18103",
   "metadata": {},
   "outputs": [],
   "source": [
    "%%bash\n",
    "cd .. && source env.sh\n",
    "cd ${NEMU_HOME}\n",
    "\n",
    "./build/riscv64-nemu-interpreter \\\n",
    "    -b \\\n",
    "    $(get_asset workload/coremark-2-iteration.bin)"
   ]
  }
 ],
 "metadata": {
  "kernelspec": {
   "display_name": "Python 3",
   "language": "python",
   "name": "python3"
  },
  "language_info": {
   "codemirror_mode": {
    "name": "ipython",
    "version": 3
   },
   "file_extension": ".py",
   "mimetype": "text/x-python",
   "name": "python",
   "nbconvert_exporter": "python",
   "pygments_lexer": "ipython3",
   "version": "3.12.3"
  }
 },
 "nbformat": 4,
 "nbformat_minor": 5
}
