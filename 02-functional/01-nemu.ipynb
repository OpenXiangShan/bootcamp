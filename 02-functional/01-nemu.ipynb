{
 "cells": [
  {
   "cell_type": "markdown",
   "id": "588d03d7",
   "metadata": {},
   "source": [
    "# NEMU：ISA 参考\n",
    "\n",
    "我们提出了一个类似于 Spike 的指令集模拟器 NEMU。通过优化技术，NEMU 实现了与 QEMU 类似的性能。此外，NEMU 还提供了一组 API 来帮助 XiangShan 比较和验证架构状态。\n",
    "\n",
    "NEMU 提供两组默认配置：\n",
    "- xxx_defconfig：xxx 目标的独立运行模式的默认配置\n",
    "- xxx-ref_defconfig：xxx 作为 difftest 协同仿真模式的默认配置"
   ]
  },
  {
   "cell_type": "code",
   "execution_count": null,
   "id": "9d26e370",
   "metadata": {},
   "outputs": [],
   "source": [
    "%%bash\n",
    "cd ../ && source env.sh >/dev/null\n",
    "\n",
    "cd $NEMU_HOME\n",
    "### If you are building NEMU for the first time,\n",
    "### you will need to run the following command to configure it.\n",
    "### Here we have configured it in advance.\n",
    "# make menuconfig\n",
    "make clean\n",
    "make riscv64-xs_defconfig\n",
    "make -j\n",
    "\n",
    "make clean-softfloat\n",
    "make riscv64-xs-ref_defconfig\n",
    "make -j"
   ]
  },
  {
   "cell_type": "markdown",
   "id": "b906741c",
   "metadata": {},
   "source": [
    "在 NEMU 上运行 Coremark 工作负载。"
   ]
  },
  {
   "cell_type": "code",
   "execution_count": null,
   "id": "caa18103",
   "metadata": {},
   "outputs": [],
   "source": [
    "%%bash\n",
    "\n",
    "cd ../ && source env.sh >/dev/null\n",
    "\n",
    "cd $NEMU_HOME\n",
    "\n",
    "# 以批模式运行 workload\n",
    "./build/riscv64-nemu-interpreter \\\n",
    "    -b \\\n",
    "    $(get_asset workload)/hello-riscv64-xs.bin"
   ]
  }
 ],
 "metadata": {
  "kernelspec": {
   "display_name": "Python 3",
   "language": "python",
   "name": "python3"
  },
  "language_info": {
   "codemirror_mode": {
    "name": "ipython",
    "version": 3
   },
   "file_extension": ".py",
   "mimetype": "text/x-python",
   "name": "python",
   "nbconvert_exporter": "python",
   "pygments_lexer": "ipython3",
   "version": "3.12.3"
  }
 },
 "nbformat": 4,
 "nbformat_minor": 5
}
