{
 "cells": [
  {
   "cell_type": "markdown",
   "id": "e7774b71",
   "metadata": {},
   "source": [
    "\n",
    "我们使用敏捷平台构建工作流程，如图中所示的功能验证工具链。\n",
    "\n",
    "We use MinJie Platform to construct the workflow, which is shown as functional verification toolchain in the picture\n",
    "\n",
    "功能验证通常包括 4 个部分：\n",
    "\n",
    " 通常，循环的起点是测试生成：我们开发了 nexus-am 用于生成裸机测试\n",
    "\n",
    " 对于错误检测：使用 nemu 提供参考结果，difftest 作为结果比对工具\n",
    "\n",
    " 为了保存错误上下文，我们将演示 lightsss 的使用方法\n",
    "\n",
    " 循环的终点，即故障排查和错误修复环节，我们使用波形图和 chiselDB\n",
    "\n",
    "The functional verification loop usually includes 4 parts:\n",
    "\n",
    " usually, the head of the loop is test generation: we developed nexus-am: generate bare-metal tests\n",
    " \n",
    " for bug detection: nemu is used to provide golden result, and difftest is the result comparison tool.\n",
    " \n",
    " to preserve the bug context, we will demonstrate the usage of lightsss\n",
    " \n",
    " the tail of the loop, aka, troubleshoot & bug fixation, we use waveform & chiselDB\n",
    " \n",
    "我们在每个环节都提供了工具支持。\n",
    "\n",
    "We propose several tools for each step.\n",
    "\n",
    "![MinJie Cycle](../images/02-functional/00-intro/overal-en.png)"
   ]
  }
 ],
 "metadata": {
  "language_info": {
   "name": "python"
  }
 },
 "nbformat": 4,
 "nbformat_minor": 5
}
