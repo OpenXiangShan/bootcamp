{
 "cells": [
  {
   "cell_type": "markdown",
   "id": "e7774b71",
   "metadata": {},
   "source": [
    "# 敏捷功能验证\n",
    "\n",
    "**MinJie Functional Verification**\n",
    "\n",
    "为了验证设计的正确性，我们通常需要通过仿真进行功能验证，然而通过仿真程序进行功能验证需要回答以下两个问题：\n",
    "\n",
    "- How？  测试程序怎么知道自己出错了？\n",
    "- When？ 测试程序在什么时候出错？\n",
    "\n",
    "To verify the correctness of the design, we typically perform functional verification through simulation. However, simulation-based functional verification needs to answer the following two questions:\n",
    "\n",
    "- How? How does the test program determine that it has encountered an error?\n",
    "- When? When does the test program encounter the error?\n",
    "\n",
    "在本章中，我们将介绍 XiangShan 团队使用的敏捷功能验证方法并提供演示。\n",
    "\n",
    "In this chapter, we will introduce the MinJie functional verification approach used by the XiangShan team and provide a demonstration."
   ]
  }
 ],
 "metadata": {
  "language_info": {
   "name": "python"
  }
 },
 "nbformat": 4,
 "nbformat_minor": 5
}
