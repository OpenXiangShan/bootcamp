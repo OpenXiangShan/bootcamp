{
 "cells": [
  {
   "cell_type": "markdown",
   "id": "f57ff898",
   "metadata": {},
   "source": [
    "# LightSSS：轻量级仿真快照\n",
    "\n",
    "打印完整波形很慢，且浪费磁盘空间，实际的出错点往往在 difftest 框架报错（体系结构状态改变）附近。\n",
    "\n",
    "LightSSS 允许在不启用波形的情况下运行仿真，直到出错以后再恢复到出错前一小段时间的状态，重新仿真并记录波形。\n",
    "\n",
    "具体原理上，其使用 `fork()` 系统调用记录进程的快照，fork 出的子进程处于休眠状态。直到检测到 bug 时，子进程会被唤醒并在启用波形输出的状态下重新运行。"
   ]
  },
  {
   "cell_type": "code",
   "execution_count": null,
   "id": "5de95171",
   "metadata": {},
   "outputs": [],
   "source": [
    "%%bash\n",
    "cd ../ && source env.sh >/dev/null\n",
    "cd $NOOP_HOME\n",
    "\n",
    "rm -f ./build/*.vcd\n",
    "\n",
    "${READY2RUN_HOME}/emu-alu-err \\\n",
    "    -i ${READY2RUN_HOME}/hello-riscv64-xs.bin \\\n",
    "    --diff $NEMU_HOME/build/riscv64-nemu-interpreter-so \\\n",
    "    --enable-fork \\\n",
    "    2> /dev/null || true\n",
    "\n",
    "echo -n \"Dump wave: \"\n",
    "realpath ./build/*.vcd"
   ]
  },
  {
   "cell_type": "markdown",
   "id": "2715566b",
   "metadata": {},
   "source": [
    "如果您看到“the oldest checkpoint start to dump wave and dump nemu log...”，则表示 LightSSS 已生效。此后，模拟将从现有的最新快照重新开始并记录波形。"
   ]
  }
 ],
 "metadata": {
  "kernelspec": {
   "display_name": "Python 3",
   "language": "python",
   "name": "python3"
  },
  "language_info": {
   "codemirror_mode": {
    "name": "ipython",
    "version": 3
   },
   "file_extension": ".py",
   "mimetype": "text/x-python",
   "name": "python",
   "nbconvert_exporter": "python",
   "pygments_lexer": "ipython3",
   "version": "3.10.12"
  }
 },
 "nbformat": 4,
 "nbformat_minor": 5
}
