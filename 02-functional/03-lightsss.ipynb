{
 "cells": [
  {
   "cell_type": "markdown",
   "id": "e62a9e0b",
   "metadata": {},
   "source": [
    "众所周知，如果你想复现一个 bug ， 重新运行 simulation 十分费时，特别是对于运行时间很长的负载，比如 SPEC CPU\n",
    "\n",
    "As we know, if you want to reproduce a bug, re-run simulation is so time-consuming, especially for long workload like spec cpu.\n",
    "\n",
    "So Snapshot is the way out. We have LightSSS, a light-weight simulation snapshot.\n",
    "\n",
    "- During simulation, LightSSS will record snapshots of the process with funtion fork().\n",
    "- When bug is detected, it will be waked up and \n",
    "- generate waveform of several cycles from the latest snapshot before the bug occurred.\n",
    "\n",
    "因此我们需要快照， LightSSS 是一个轻量的仿真快照。\n",
    "\n",
    "- 在仿真中， LightSSS 会通过 `fork()` 记录程序的快照。\n",
    "- 当发现 bug 时，会唤醒并且\n",
    "- 从 bug 发生前的最新快照中生成波形。\n",
    "\n",
    "LightSSS具有良好的可扩展性，因为它允许对任何外部模型（例如用C++编写的模型）进行快照操作，且无需了解模型细节。此外，创建快照的开销极低，仅需约500微秒。这远低于Verilator的RTL快照开销。\n",
    "\n",
    "LightSSS have good scalability because you can make snapshots for any external models (such as model written in C++), and do not need to understand model details.And the overhead of taking a snapshot is low, only about 500 micro-seconds. This is far less than the overhead of RTL snapshots from verilator.\n",
    "\n",
    "\n",
    "![LightSSS](../images/02-functional/03-lightSSS/lightSSS-overall-en.png)"
   ]
  },
  {
   "cell_type": "code",
   "execution_count": null,
   "id": "5de95171",
   "metadata": {},
   "outputs": [],
   "source": [
    "%%bash\n",
    "cd .. && source env.sh\n",
    "cd ${NOOP_HOME}\n",
    "\n",
    "mkdir -p build\n",
    "rm -f ./build/*.vcd\n",
    "\n",
    "$(get_asset emu-precompile/emu-alu-err) \\\n",
    "    -i $(get_asset workload/hello-riscv64-xs.bin) \\\n",
    "    --diff ${NEMU_HOME}/build/riscv64-nemu-interpreter-so \\\n",
    "    --enable-fork \\\n",
    "    2> /dev/null || true\n",
    "\n",
    "echo -n \"Dump wave: \"\n",
    "realpath ./build/*.vcd"
   ]
  },
  {
   "cell_type": "markdown",
   "id": "2715566b",
   "metadata": {},
   "source": [
    "如果您看到“the oldest checkpoint start to dump wave and dump nemu log...”，则表示 LightSSS 已生效。此后，模拟将从现有的最新快照重新开始并记录波形。\n",
    "\n",
    "If you see \"the oldest checkpoint start to dump wave and dump nemu log...\", LightSSS is active. The simulation will then restart from the latest snapshot and record waveforms."
   ]
  }
 ],
 "metadata": {
  "kernelspec": {
   "display_name": "Python 3",
   "language": "python",
   "name": "python3"
  },
  "language_info": {
   "codemirror_mode": {
    "name": "ipython",
    "version": 3
   },
   "file_extension": ".py",
   "mimetype": "text/x-python",
   "name": "python",
   "nbconvert_exporter": "python",
   "pygments_lexer": "ipython3",
   "version": "3.12.3"
  }
 },
 "nbformat": 4,
 "nbformat_minor": 5
}
