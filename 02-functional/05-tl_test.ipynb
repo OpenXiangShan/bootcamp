{
 "cells": [
  {
   "cell_type": "markdown",
   "id": "25c2a192",
   "metadata": {},
   "source": [
    "# TL-Test: Cache 验证框架\n",
    "**TL-Test: Cache Verification Framework**\n",
    "\n",
    "\n",
    "Cache 系统与上游模块的协同验证复杂，且不利于快速迭代与快速定位问题。\n",
    "\n",
    "Co-verification of the Cache system with upstream modules is complex and prevents rapid iteration.\n",
    "\n",
    "为了解决这个问题，我们开发了 TL-Test - 一个单元级的缓存系统验证框架，TL-Test 支持Tilelink总线协议以及cache一致性检查，同时支持随机测试用例生成。\n",
    "  \n",
    "To address this issue, we developed TL-Test: a unit-level cache-system verification framework that supports the TileLink protocol, cache-coherence checking, and randomized test-case generation.\n"
   ]
  },
  {
   "cell_type": "markdown",
   "id": "81cf5384",
   "metadata": {},
   "source": [
    "这里有一个例子演示使用 TL-Test 发现缓存一致性违例：我们插入了一个错误移位 Grant data 的 BUG。\n",
    "\n",
    "Here is another example to detect cache coherence violation by TL-Test. We inject a bug that wrongly shift the grant data.\n",
    "\n"
   ]
  },
  {
   "cell_type": "code",
   "execution_count": null,
   "id": "fad484d7",
   "metadata": {},
   "outputs": [],
   "source": [
    "%%bash\n",
    "cd ../ && source env.sh\n",
    "\n",
    "cat $(get_asset tltest-precompile/tlt_err.patch)"
   ]
  },
  {
   "cell_type": "markdown",
   "id": "94efb4fd",
   "metadata": {},
   "source": [
    "TL-Test 会生成随机测试，然后发现我们的 cache 设计在某个地址上的传输存在问题。TL-Test 会将所有的总线传输事务转为 log，我们可以通过 grep 将错误地址的总线事务筛选出来进行分析。\n",
    "\n",
    "TL-Test generates randomized tests and pinpoints a transfer problem at a specific address in our cache design. It logs all bus transactions; we then use grep to extract those related to the offending address for analysis."
   ]
  },
  {
   "cell_type": "code",
   "execution_count": null,
   "id": "c866e111",
   "metadata": {},
   "outputs": [],
   "source": [
    "%%bash\n",
    "cd ../ && source env.sh\n",
    "# cd $TLT_HOME && make coupledL2-test-l2l3-v3 run THREADS_BUILD=16 CXX_COMPILER=clang++-17\n",
    "# cd $TLT_HOME/run && ./tltest_v3lt 2>&1 | tee tltest_v3lt.log\n",
    "\n",
    "get_asset tltest-precompile/tltest_err\n",
    "\n",
    "cd assets/tltest-precompile && $(get_asset tltest-precompile/tltest_err) 2>&1 | tee tltest_v3lt.log"
   ]
  },
  {
   "cell_type": "markdown",
   "id": "26deec6f",
   "metadata": {},
   "source": [
    "产生错误的地址为：0x80\n",
    "\n",
    "Error Addr： 0x80"
   ]
  },
  {
   "cell_type": "code",
   "execution_count": null,
   "id": "9123f266",
   "metadata": {},
   "outputs": [],
   "source": [
    "%%bash\n",
    "cd ../ && source env.sh > /dev/null\n",
    "# grep \"addr: 0x80\" $TLT_HOME/run/tltest_v3lt.log\n",
    "\n",
    "cd assets/tltest-precompile && grep \"addr: 0x80,\" tltest_v3lt.log"
   ]
  },
  {
   "cell_type": "markdown",
   "id": "35666fd7",
   "metadata": {},
   "source": [
    "Result: [Time/INFO-Level/Node-Idx/Core/Channel/Opcode/Source/Address/alias/Data]\n",
    "\n",
    "**L1D acquires Eaddr** \n",
    "\n",
    "[236] [tl-test-new-INFO] #0 L2[0].C[0] [fire A] [AcquirePerm NtoT] source: 0x3, addr: 0x80, alias: 0"
   ]
  },
  {
   "cell_type": "markdown",
   "id": "3592664f",
   "metadata": {},
   "source": [
    "**L1D release Eaddr, and data successfully transferred from L1D to L2**\n",
    "\n",
    "[806] [tl-test-new-INFO] #0 L2[0].C[0] [fire C] [ReleaseData TtoN] source: 0x3, addr: 0x80, alias: 0, data: [ c7 a5 ... ]\n",
    "\n",
    "[808] [tl-test-new-INFO] #0 L2[0].C[0] [fire C] [ReleaseData TtoN] source: 0x3, addr: 0x80, alias: 0, data: [ fe 14 ... ]"
   ]
  },
  {
   "cell_type": "markdown",
   "id": "4b2bf298",
   "metadata": {},
   "source": [
    "**but when L2 grant data of Eaddr, data loadad from L2 is error**\n",
    "\n",
    "[2036] [tl-test-new-INFO] #0 L2[0].C[0] [fire D] [GrantData toT] source: 0xf, addr: 0x80, alias: 0x1, data: [ 00 c7 ... ]\n",
    "\n",
    "[2038] [tl-test-new-INFO] #0 L2[0].C[0] [fire D] [GrantData toT] source: 0xf, addr: 0x80, alias: 0x1, data: [ 00 fe ... ]\n",
    "\n",
    "**So there must be something wrong when L2 Grant data!** "
   ]
  }
 ],
 "metadata": {
  "kernelspec": {
   "display_name": "Python 3",
   "language": "python",
   "name": "python3"
  },
  "language_info": {
   "codemirror_mode": {
    "name": "ipython",
    "version": 3
   },
   "file_extension": ".py",
   "mimetype": "text/x-python",
   "name": "python",
   "nbconvert_exporter": "python",
   "pygments_lexer": "ipython3",
   "version": "3.12.3"
  }
 },
 "nbformat": 4,
 "nbformat_minor": 5
}
